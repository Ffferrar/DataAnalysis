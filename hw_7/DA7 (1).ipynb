{
 "cells":[
  {
   "cell_type":"markdown",
   "source":[
    "# <a href=\"https:\/\/miptstats.github.io\/courses\/ad_fivt.html\">Введение в анализ данных<\/a>\n",
    "## Домашнее задание 7. Решающие деревья и случайные леса."
   ],
   "attachments":{
    
   },
   "metadata":{
    "datalore":{
     "node_id":"L4kQbZ2VBpnPAOriXeH8QH",
     "type":"MD",
     "hide_input_from_viewers":false,
     "hide_output_from_viewers":false,
     "report_properties":{
      "rowId":"EW9SVTQtQC41PeASlKUKZu"
     }
    }
   }
  },
  {
   "cell_type":"markdown",
   "source":[
    "**Правила, <font color=\"red\">прочитайте внимательно<\/font>:**\n",
    "\n",
    "* Выполненную работу нужно отправить телеграм-боту `@miptstats_ds23_bot`. Для начала работы с ботом каждый раз отправляйте `\/start`. Дождитесь подтверждения от бота, что он принял файл. Если подтверждения нет, то что-то не так. **Работы, присланные иным способом, не принимаются.**\n",
    "* Дедлайн см. в боте. После дедлайна работы не принимаются кроме случаев наличия уважительной причины.\n",
    "* Прислать нужно **ноутбук в формате `ipynb`**. Если вы строите интерактивные графики, их стоит прислать в формате html.\n",
    "* Следите за размером файлов. **Бот не может принимать файлы весом более 20 Мб.** Если файл получается больше, заранее разделите его на несколько.\n",
    "* Выполнять задание необходимо полностью самостоятельно. **При обнаружении списывания все участники списывания будут сдавать устный зачет.**\n",
    "* Решения, размещенные на каких-либо интернет-ресурсах, не принимаются. Кроме того, публикация решения в открытом доступе может быть приравнена к предоставлении возможности списать.\n",
    "* Для выполнения задания используйте этот ноутбук в качестве основы, ничего не удаляя из него. Можно добавлять необходимое количество ячеек.\n",
    "* Комментарии к решению пишите в markdown-ячейках.\n",
    "* Выполнение задания (ход решения, выводы и пр.) должно быть осуществлено на русском языке.\n",
    "* Если код будет не понятен проверяющему, оценка может быть снижена.\n",
    "* Никакой код из данного задания при проверке запускаться не будет. *Если код студента не выполнен, недописан и т.д., то он не оценивается.*\n",
    "* **Код из рассказанных на занятиях ноутбуков** можно использовать без ограничений.\n",
    "\n",
    "\n",
    "\n",
    "\n",
    "**Баллы за задание:**\n",
    "\n",
    "* Задача 1 &mdash; 15 баллов\n",
    "* Задача 2 &mdash; 50 баллов\n",
    "* Задача 3 &mdash; 30 баллов\n",
    "\n",
    "Баллы учитываются в <b><font color=\"green\">факультативной части<\/font><\/b> курса и не влияют на оценку по основной части."
   ],
   "attachments":{
    
   },
   "metadata":{
    "datalore":{
     "node_id":"jBgGj0gXX7u5NCRBgaFvrg",
     "type":"MD",
     "hide_input_from_viewers":false,
     "hide_output_from_viewers":false,
     "report_properties":{
      "rowId":"NKZpMezPQSTivE4tgCYDtI"
     }
    }
   }
  },
  {
   "cell_type":"code",
   "source":[
    "!sudo apt-get update\n",
    "!sudo apt install graphviz -y"
   ],
   "execution_count":1,
   "outputs":[
    {
     "name":"stdout",
     "text":[
      "\r0% [Working]\r            \rGet:1 http:\/\/archive.ubuntu.com\/ubuntu jammy InRelease [270 kB]\r\n",
      "\r0% [1 InRelease 14.2 kB\/270 kB 5%] [Connecting to security.ubuntu.com (91.189.9\r0% [Waiting for headers] [Waiting for headers] [Connected to ppa.launchpadconte\r                                                                               \rGet:2 http:\/\/archive.ubuntu.com\/ubuntu jammy-updates InRelease [119 kB]\r\n",
      "\r                                                                               \rGet:3 http:\/\/archive.ubuntu.com\/ubuntu jammy-backports InRelease [108 kB]\r\n",
      "\r0% [3 InRelease 98.2 kB\/108 kB 91%] [Waiting for headers] [Connected to ppa.lau\r0% [Waiting for headers] [Connected to ppa.launchpadcontent.net (185.125.190.52\r                                                                               \rGet:4 http:\/\/security.ubuntu.com\/ubuntu jammy-security InRelease [110 kB]\r\n",
      "\r0% [4 InRelease 14.2 kB\/110 kB 13%] [Connected to ppa.launchpadcontent.net (185\r                                                                               \rGet:5 https:\/\/ppa.launchpadcontent.net\/criu\/ppa\/ubuntu jammy InRelease [18.0 kB]\r\n",
      "\r                                                                               \r0% [4 InRelease 14.2 kB\/110 kB 13%] [5 InRelease 0 B\/18.0 kB 0%]\r                                                                \r0% [4 InRelease 14.2 kB\/110 kB 13%]\r                                   \r0% [Working]\r0% [Working]\r            \rGet:6 http:\/\/archive.ubuntu.com\/ubuntu jammy\/restricted amd64 Packages [164 kB]\r\n",
      "\r0% [6 Packages 26.7 kB\/164 kB 16%]\r                                  \r0% [Working]\r0% [6 Packages store 0 B] [Waiting for headers]\r                                               \rGet:7 http:\/\/archive.ubuntu.com\/ubuntu jammy\/universe amd64 Packages [17.5 MB]\r\n",
      "\r0% [6 Packages store 0 B] [7 Packages 46.1 kB\/17.5 MB 0%]\r                                                         \r0% [7 Packages 321 kB\/17.5 MB 2%]\r                                 \rGet:8 http:\/\/archive.ubuntu.com\/ubuntu jammy\/main amd64 Packages [1,792 kB]\r\n",
      "\r0% [8 Packages 413 kB\/1,792 kB 23%]\r0% [7 Packages store 0 B] [8 Packages 413 kB\/1,792 kB 23%]\r                                                          \r0% [7 Packages store 0 B]\r                         \rGet:9 http:\/\/archive.ubuntu.com\/ubuntu jammy\/multiverse amd64 Packages [266 kB]\r\n",
      "\r0% [7 Packages store 0 B] [9 Packages 0 B\/266 kB 0%]\r                                                    \r0% [7 Packages store 0 B]\r0% [7 Packages store 0 B]\r                         \rGet:10 http:\/\/archive.ubuntu.com\/ubuntu jammy-updates\/multiverse amd64 Packages [28.6 kB]\r\n",
      "\r0% [7 Packages store 0 B]\r                         \rGet:11 http:\/\/archive.ubuntu.com\/ubuntu jammy-updates\/main amd64 Packages [1,251 kB]\r\n",
      "\r0% [7 Packages store 0 B] [11 Packages 357 kB\/1,251 kB 29%]\r                                                           \r0% [7 Packages store 0 B]\r                         \rGet:12 http:\/\/archive.ubuntu.com\/ubuntu jammy-updates\/restricted amd64 Packages [962 kB]\r\n",
      "\r0% [7 Packages store 0 B] [12 Packages 0 B\/962 kB 0%]\r                                                     \r0% [7 Packages store 0 B]\r                         \rGet:13 http:\/\/archive.ubuntu.com\/ubuntu jammy-updates\/universe amd64 Packages [1,148 kB]\r\n",
      "\r0% [7 Packages store 0 B] [13 Packages 0 B\/1,148 kB 0%]\r                                                       \r0% [7 Packages store 0 B]\r0% [7 Packages store 0 B]\r0% [7 Packages store 0 B]\r                         \rGet:14 http:\/\/archive.ubuntu.com\/ubuntu jammy-backports\/universe amd64 Packages [23.3 kB]\r\n",
      "\r0% [7 Packages store 0 B] [14 Packages 14.3 kB\/23.3 kB 61%]\r                                                           \r0% [7 Packages store 0 B]\r                         \rGet:15 http:\/\/archive.ubuntu.com\/ubuntu jammy-backports\/main amd64 Packages [49.0 kB]\r\n",
      "\r0% [7 Packages store 0 B] [15 Packages 5,585 B\/49.0 kB 11%]\r                                                           \r0% [7 Packages store 0 B]\r0% [7 Packages store 0 B]\r0% [7 Packages store 0 B]\r                         \rGet:16 https:\/\/ppa.launchpadcontent.net\/criu\/ppa\/ubuntu jammy\/main amd64 Packages [459 B]\r\n",
      "\r0% [7 Packages store 0 B]\r0% [7 Packages store 0 B]\r85% [7 Packages store 0 B]\r85% [Connecting to security.ubuntu.com (91.189.91.39)]\r85% [8 Packages store 0 B] [Connecting to security.ubuntu.com (91.189.91.39)]\r                                                                             \r86% [Waiting for headers]\r                         \rGet:17 http:\/\/security.ubuntu.com\/ubuntu jammy-security\/multiverse amd64 Packages [23.2 kB]\r\n",
      "\r86% [17 Packages 14.3 kB\/23.2 kB 61%]\r86% [9 Packages store 0 B] [17 Packages 14.3 kB\/23.2 kB 61%]\r                                                            \r86% [17 Packages 14.3 kB\/23.2 kB 61%]\r86% [10 Packages store 0 B] [17 Packages 14.3 kB\/23.2 kB 61%]\r                                                             \r87% [17 Packages 14.3 kB\/23.2 kB 61%]\r87% [11 Packages store 0 B] [17 Packages 14.3 kB\/23.2 kB 61%]\r                                                             \r87% [11 Packages store 0 B]\r                           \r87% [Waiting for headers]\r                         \rGet:18 http:\/\/security.ubuntu.com\/ubuntu jammy-security\/universe amd64 Packages [908 kB]\r\n",
      "\r87% [18 Packages 2,687 B\/908 kB 0%]\r87% [12 Packages store 0 B] [18 Packages 5,583 B\/908 kB 1%]\r                                                           \r88% [18 Packages 59.2 kB\/908 kB 7%]\r88% [13 Packages store 0 B] [18 Packages 62.1 kB\/908 kB 7%]\r                                                           \r89% [18 Packages 227 kB\/908 kB 25%]\r89% [14 Packages store 0 B] [18 Packages 230 kB\/908 kB 25%]\r                                                           \r89% [18 Packages 236 kB\/908 kB 26%]\r89% [15 Packages store 0 B] [18 Packages 236 kB\/908 kB 26%]\r                                                           \r90% [18 Packages 252 kB\/908 kB 28%]\r90% [16 Packages store 0 B] [18 Packages 252 kB\/908 kB 28%]\r                                                           \r90% [18 Packages 252 kB\/908 kB 28%]\r90% [17 Packages store 0 B] [18 Packages 252 kB\/908 kB 28%]\r                                                           \r91% [18 Packages 260 kB\/908 kB 29%]\r                                   \r93% [Working]\r93% [18 Packages store 0 B] [Waiting for headers]\r                                                 \rGet:19 http:\/\/security.ubuntu.com\/ubuntu jammy-security\/restricted amd64 Packages [907 kB]\r\n",
      "\r93% [18 Packages store 0 B] [19 Packages 14.3 kB\/907 kB 2%]\r                                                           \r96% [18 Packages store 0 B] [Waiting for headers]\r                                                 \r96% [Waiting for headers]\r96% [19 Packages store 0 B] [Waiting for headers]\r                                                 \rGet:20 http:\/\/security.ubuntu.com\/ubuntu jammy-security\/main amd64 Packages [914 kB]\r\n",
      "\r96% [19 Packages store 0 B] [20 Packages 17.2 kB\/914 kB 2%]\r                                                           \r99% [19 Packages store 0 B]\r                           \r99% [Working]\r99% [20 Packages store 0 B]\r                           \r100% [Working]\r              \rFetched 26.5 MB in 4s (6,094 kB\/s)\r\n",
      "\rReading package lists... 0%\r\rReading package lists... 0%\r\rReading package lists... 0%\r\rReading package lists... 6%\r\rReading package lists... 6%\r\rReading package lists... 7%\r\rReading package lists... 7%\r\rReading package lists... 31%\r\rReading package lists... 68%\r\rReading package lists... 70%\r\rReading package lists... 70%\r\rReading package lists... 71%\r\rReading package lists... 71%\r\rReading package lists... 76%\r\rReading package lists... 76%\r\rReading package lists... 81%\r\rReading package lists... 81%\r\rReading package lists... 86%\r\rReading package lists... 86%\r\rReading package lists... 86%\r\rReading package lists... 86%\r\rReading package lists... 86%\r\rReading package lists... 86%\r\rReading package lists... 86%\r\rReading package lists... 86%\r\rReading package lists... 90%\r\rReading package lists... 90%\r\rReading package lists... 95%\r\rReading package lists... 95%\r\rReading package lists... 99%\r\rReading package lists... 99%\r\rReading package lists... 99%\r\rReading package lists... 99%\r\rReading package lists... 99%\r\rReading package lists... 99%\r\rReading package lists... Done\r\r\n",
      "\rReading package lists... 0%\r\rReading package lists... 0%\r\rReading package lists... 0%\r\rReading package lists... 6%\r\rReading package lists... 6%\r\rReading package lists... 7%\r\rReading package lists... 7%\r\rReading package lists... 32%\r\rReading package lists... 68%\r\rReading package lists... 70%\r\rReading package lists... 70%\r\rReading package lists... 71%\r\rReading package lists... 71%\r\rReading package lists... 76%\r\rReading package lists... 76%\r\rReading package lists... 81%\r\rReading package lists... 81%\r\rReading package lists... 86%\r\rReading package lists... 86%\r\rReading package lists... 86%\r\rReading package lists... 86%\r\rReading package lists... 86%\r\rReading package lists... 86%\r\rReading package lists... 86%\r\rReading package lists... 86%\r\rReading package lists... 90%\r\rReading package lists... 90%\r\rReading package lists... 95%\r\rReading package lists... 95%\r\rReading package lists... 99%\r\rReading package lists... 99%\r\rReading package lists... 99%\r\rReading package lists... 99%\r\rReading package lists... 99%\r\rReading package lists... 99%\r\rReading package lists... Done\r\r\n",
      "\rBuilding dependency tree... 0%\r\rBuilding dependency tree... 0%\r\rBuilding dependency tree... 50%\r\rBuilding dependency tree... 50%\r\rBuilding dependency tree... 69%\r\rBuilding dependency tree... Done\r\r\n",
      "\rReading state information... 0% \r\rReading state information... 0%\r\rReading state information... Done\r\r\n",
      "The following additional packages will be installed:\r\n",
      "  fontconfig fonts-liberation libann0 libcairo2 libcdt5 libcgraph6 libdatrie1\r\n",
      "  libfribidi0 libgts-0.7-5 libgts-bin libgvc6 libgvpr2 libice6 liblab-gamut1\r\n",
      "  libpango-1.0-0 libpangocairo-1.0-0 libpangoft2-1.0-0 libpathplan4\r\n",
      "  libpixman-1-0 libsm6 libthai-data libthai0 libxaw7 libxcb-render0 libxmu6\r\n",
      "  libxrender1 libxt6 x11-common\r\n",
      "Suggested packages:\r\n",
      "  gsfonts graphviz-doc\r\n",
      "The following NEW packages will be installed:\r\n",
      "  fontconfig fonts-liberation graphviz libann0 libcairo2 libcdt5 libcgraph6\r\n",
      "  libdatrie1 libfribidi0 libgts-0.7-5 libgts-bin libgvc6 libgvpr2 libice6\r\n",
      "  liblab-gamut1 libpango-1.0-0 libpangocairo-1.0-0 libpangoft2-1.0-0\r\n",
      "  libpathplan4 libpixman-1-0 libsm6 libthai-data libthai0 libxaw7\r\n",
      "  libxcb-render0 libxmu6 libxrender1 libxt6 x11-common\r\n",
      "0 upgraded, 29 newly installed, 0 to remove and 57 not upgraded.\r\n",
      "Need to get 6,833 kB of archives.\r\n",
      "After this operation, 17.0 MB of additional disk space will be used.\r\n",
      "\u001b[33m\r0% [Working]\u001b[0m\r            \rGet:1 http:\/\/archive.ubuntu.com\/ubuntu jammy-updates\/main amd64 libfribidi0 amd64 1.0.8-2ubuntu3.1 [26.1 kB]\r\n",
      "\u001b[33m\r0% [1 libfribidi0 8,407 B\/26.1 kB 32%]\u001b[0m\u001b[33m\r                                      \r1% [Working]\u001b[0m\r            \rGet:2 http:\/\/archive.ubuntu.com\/ubuntu jammy\/main amd64 fontconfig amd64 2.13.1-4.2ubuntu5 [177 kB]\r\n",
      "\u001b[33m\r1% [2 fontconfig 5,509 B\/177 kB 3%]\u001b[0m\u001b[33m\r                                   \r4% [Working]\u001b[0m\r            \rGet:3 http:\/\/archive.ubuntu.com\/ubuntu jammy\/main amd64 fonts-liberation all 1:1.07.4-11 [822 kB]\r\n",
      "\u001b[33m\r4% [3 fonts-liberation 4,414 B\/822 kB 1%]\u001b[0m\u001b[33m\r                                         \r14% [Waiting for headers]\u001b[0m\r                         \rGet:4 http:\/\/archive.ubuntu.com\/ubuntu jammy\/universe amd64 libann0 amd64 1.1.2+doc-7build1 [26.0 kB]\r\n",
      "\u001b[33m\r14% [4 libann0 2,137 B\/26.0 kB 8%]\u001b[0m\u001b[33m\r                                  \r15% [Waiting for headers]\u001b[0m\r                         \rGet:5 http:\/\/archive.ubuntu.com\/ubuntu jammy\/universe amd64 libcdt5 amd64 2.42.2-6 [21.1 kB]\r\n",
      "\u001b[33m\r15% [5 libcdt5 21.1 kB\/21.1 kB 100%]\u001b[0m\u001b[33m\r                                    \r16% [Working]\u001b[0m\r             \rGet:6 http:\/\/archive.ubuntu.com\/ubuntu jammy\/universe amd64 libcgraph6 amd64 2.42.2-6 [45.8 kB]\r\n",
      "\u001b[33m\r16% [6 libcgraph6 0 B\/45.8 kB 0%]\u001b[0m\u001b[33m\r                                 \r17% [Working]\u001b[0m\r             \rGet:7 http:\/\/archive.ubuntu.com\/ubuntu jammy\/universe amd64 libgts-0.7-5 amd64 0.7.6+darcs121130-5 [164 kB]\r\n",
      "\u001b[33m\r18% [7 libgts-0.7-5 39.1 kB\/164 kB 24%]\u001b[0m\u001b[33m\r                                       \r20% [Working]\u001b[0m\r             \rGet:8 http:\/\/archive.ubuntu.com\/ubuntu jammy-updates\/main amd64 libpixman-1-0 amd64 0.40.0-1ubuntu0.22.04.1 [264 kB]\r\n",
      "\u001b[33m\r20% [8 libpixman-1-0 5,659 B\/264 kB 2%]\u001b[0m\u001b[33m\r                                       \r24% [Waiting for headers]\u001b[0m\r                         \rGet:9 http:\/\/archive.ubuntu.com\/ubuntu jammy\/main amd64 libxcb-render0 amd64 1.14-3ubuntu3 [16.4 kB]\r\n",
      "\u001b[33m\r24% [9 libxcb-render0 16.4 kB\/16.4 kB 100%]\u001b[0m\u001b[33m\r                                           \r25% [Working]\u001b[0m\r             \rGet:10 http:\/\/archive.ubuntu.com\/ubuntu jammy\/main amd64 libxrender1 amd64 1:0.9.10-1build4 [19.7 kB]\r\n",
      "\u001b[33m\r25% [10 libxrender1 7,242 B\/19.7 kB 37%]\u001b[0m\u001b[33m\r                                        \r25% [Waiting for headers]\u001b[0m\r                         \rGet:11 http:\/\/archive.ubuntu.com\/ubuntu jammy\/main amd64 libcairo2 amd64 1.16.0-5ubuntu2 [628 kB]\r\n",
      "\u001b[33m\r26% [11 libcairo2 52.8 kB\/628 kB 8%]\u001b[0m\u001b[33m\r                                    \r33% [Working]\u001b[0m\r             \rGet:12 http:\/\/archive.ubuntu.com\/ubuntu jammy\/main amd64 libthai-data all 0.1.29-1build1 [162 kB]\r\n",
      "\u001b[33m\r33% [12 libthai-data 0 B\/162 kB 0%]\u001b[0m\u001b[33m\r                                   \r36% [Working]\u001b[0m\r             \rGet:13 http:\/\/archive.ubuntu.com\/ubuntu jammy\/main amd64 libdatrie1 amd64 0.2.13-2 [19.9 kB]\r\n",
      "\u001b[33m\r36% [13 libdatrie1 18.5 kB\/19.9 kB 93%]\u001b[0m\u001b[33m\r                                       \r37% [Waiting for headers]\u001b[0m\r                         \rGet:14 http:\/\/archive.ubuntu.com\/ubuntu jammy\/main amd64 libthai0 amd64 0.1.29-1build1 [19.2 kB]\r\n",
      "\u001b[33m\r37% [14 libthai0 0 B\/19.2 kB 0%]\u001b[0m\u001b[33m\r                                \r38% [Working]\u001b[0m\r             \rGet:15 http:\/\/archive.ubuntu.com\/ubuntu jammy-updates\/main amd64 libpango-1.0-0 amd64 1.50.6+ds-2ubuntu1 [230 kB]\r\n",
      "\u001b[33m\r38% [15 libpango-1.0-0 17.9 kB\/230 kB 8%]\u001b[0m\u001b[33m\r                                         \r41% [Waiting for headers]\u001b[0m\r                         \rGet:16 http:\/\/archive.ubuntu.com\/ubuntu jammy-updates\/main amd64 libpangoft2-1.0-0 amd64 1.50.6+ds-2ubuntu1 [54.0 kB]\r\n",
      "\u001b[33m\r42% [16 libpangoft2-1.0-0 21.2 kB\/54.0 kB 39%]\u001b[0m\u001b[33m\r                                              \r43% [Waiting for headers]\u001b[0m\r                         \rGet:17 http:\/\/archive.ubuntu.com\/ubuntu jammy-updates\/main amd64 libpangocairo-1.0-0 amd64 1.50.6+ds-2ubuntu1 [39.8 kB]\r\n",
      "\u001b[33m\r43% [17 libpangocairo-1.0-0 4,568 B\/39.8 kB 11%]\u001b[0m\u001b[33m\r                                                \r44% [Waiting for headers]\u001b[0m\r                         \rGet:18 http:\/\/archive.ubuntu.com\/ubuntu jammy\/universe amd64 libpathplan4 amd64 2.42.2-6 [23.5 kB]\r\n",
      "\u001b[33m\r44% [18 libpathplan4 16.6 kB\/23.5 kB 71%]\u001b[0m\u001b[33m\r                                         \r45% [Working]\u001b[0m\r             \rGet:19 http:\/\/archive.ubuntu.com\/ubuntu jammy\/universe amd64 libgvc6 amd64 2.42.2-6 [726 kB]\r\n",
      "\u001b[33m\r45% [19 libgvc6 14.6 kB\/726 kB 2%]\u001b[0m\u001b[33m\r                                  \r54% [Working]\u001b[0m\r             \rGet:20 http:\/\/archive.ubuntu.com\/ubuntu jammy\/universe amd64 libgvpr2 amd64 2.42.2-6 [191 kB]\r\n",
      "\u001b[33m\r54% [20 libgvpr2 5,149 B\/191 kB 3%]\u001b[0m\u001b[33m\r                                   \r57% [Working]\u001b[0m\r             \rGet:21 http:\/\/archive.ubuntu.com\/ubuntu jammy\/universe amd64 liblab-gamut1 amd64 2.42.2-6 [1,964 kB]\r\n",
      "\u001b[33m\r57% [21 liblab-gamut1 10.2 kB\/1,964 kB 1%]\u001b[0m\u001b[33m\r                                          \r80% [Waiting for headers]\u001b[0m\r                         \rGet:22 http:\/\/archive.ubuntu.com\/ubuntu jammy\/main amd64 x11-common all 1:7.7+23ubuntu2 [23.4 kB]\r\n",
      "\u001b[33m\r81% [22 x11-common 23.4 kB\/23.4 kB 100%]\u001b[0m\u001b[33m\r                                        \r81% [Working]\u001b[0m\r             \rGet:23 http:\/\/archive.ubuntu.com\/ubuntu jammy\/main amd64 libice6 amd64 2:1.0.10-1build2 [42.6 kB]\r\n",
      "\u001b[33m\r81% [23 libice6 0 B\/42.6 kB 0%]\u001b[0m\u001b[33m\r                               \r83% [Working]\u001b[0m\r             \rGet:24 http:\/\/archive.ubuntu.com\/ubuntu jammy\/main amd64 libsm6 amd64 2:1.2.3-1build2 [16.7 kB]\r\n",
      "\u001b[33m\r83% [24 libsm6 0 B\/16.7 kB 0%]\u001b[0m\u001b[33m\r                              \r84% [Waiting for headers]\u001b[0m\r                         \rGet:25 http:\/\/archive.ubuntu.com\/ubuntu jammy\/main amd64 libxt6 amd64 1:1.2.1-1 [177 kB]\r\n",
      "\u001b[33m\r84% [25 libxt6 76 B\/177 kB 0%]\u001b[0m\u001b[33m\r                              \r86% [Working]\u001b[0m\r             \rGet:26 http:\/\/archive.ubuntu.com\/ubuntu jammy\/main amd64 libxmu6 amd64 2:1.1.3-3 [49.6 kB]\r\n",
      "\u001b[33m\r86% [26 libxmu6 0 B\/49.6 kB 0%]\u001b[0m\u001b[33m\r                               \r88% [Working]\u001b[0m\r             \rGet:27 http:\/\/archive.ubuntu.com\/ubuntu jammy\/main amd64 libxaw7 amd64 2:1.0.14-1 [191 kB]\r\n",
      "\u001b[33m\r88% [27 libxaw7 10.8 kB\/191 kB 6%]\u001b[0m\u001b[33m\r                                  \r90% [Working]\u001b[0m\r             \rGet:28 http:\/\/archive.ubuntu.com\/ubuntu jammy\/universe amd64 graphviz amd64 2.42.2-6 [650 kB]\r\n",
      "\u001b[33m\r91% [28 graphviz 12.0 kB\/650 kB 2%]\u001b[0m\u001b[33m\r                                   \r99% [Working]\u001b[0m\r             \rGet:29 http:\/\/archive.ubuntu.com\/ubuntu jammy\/universe amd64 libgts-bin amd64 0.7.6+darcs121130-5 [44.3 kB]\r\n",
      "\u001b[33m\r99% [29 libgts-bin 0 B\/44.3 kB 0%]\u001b[0m\u001b[33m\r                                  \r100% [Working]\u001b[0m\r              \rFetched 6,833 kB in 0s (14.2 MB\/s)\r\n",
      "debconf: delaying package configuration, since apt-utils is not installed\r\n",
      "\n",
      "\u001b7\u001b[0;23r\u001b8\u001b[1ASelecting previously unselected package libfribidi0:amd64.\r\n",
      "(Reading database ... \r(Reading database ... 5%\r(Reading database ... 10%\r(Reading database ... 15%\r(Reading database ... 20%\r(Reading database ... 25%\r(Reading database ... 30%\r(Reading database ... 35%\r(Reading database ... 40%\r(Reading database ... 45%\r(Reading database ... 50%\r(Reading database ... 55%\r(Reading database ... 60%\r(Reading database ... 65%\r(Reading database ... 70%\r(Reading database ... 75%\r(Reading database ... 80%\r(Reading database ... 85%\r(Reading database ... 90%\r(Reading database ... 95%\r(Reading database ... 100%\r(Reading database ... 21462 files and directories currently installed.)\r\n",
      "Preparing to unpack ...\/00-libfribidi0_1.0.8-2ubuntu3.1_amd64.deb ...\r\n",
      "\u001b7\u001b[24;0f\u001b[42m\u001b[30mProgress: [  0%]\u001b[49m\u001b[39m [..........................................................] \u001b8Unpacking libfribidi0:amd64 (1.0.8-2ubuntu3.1) ...\r\n",
      "\u001b7\u001b[24;0f\u001b[42m\u001b[30mProgress: [  2%]\u001b[49m\u001b[39m [..........................................................] \u001b8Selecting previously unselected package fontconfig.\r\n",
      "Preparing to unpack ...\/01-fontconfig_2.13.1-4.2ubuntu5_amd64.deb ...\r\n",
      "\u001b7\u001b[24;0f\u001b[42m\u001b[30mProgress: [  3%]\u001b[49m\u001b[39m [#.........................................................] \u001b8Unpacking fontconfig (2.13.1-4.2ubuntu5) ...\r\n",
      "\u001b7\u001b[24;0f\u001b[42m\u001b[30mProgress: [  3%]\u001b[49m\u001b[39m [#.........................................................] \u001b8Selecting previously unselected package fonts-liberation.\r\n",
      "Preparing to unpack ...\/02-fonts-liberation_1%3a1.07.4-11_all.deb ...\r\n",
      "\u001b7\u001b[24;0f\u001b[42m\u001b[30mProgress: [  4%]\u001b[49m\u001b[39m [##........................................................] \u001b8Unpacking fonts-liberation (1:1.07.4-11) ...\r\n",
      "\u001b7\u001b[24;0f\u001b[42m\u001b[30mProgress: [  5%]\u001b[49m\u001b[39m [##........................................................] \u001b8Selecting previously unselected package libann0.\r\n",
      "Preparing to unpack ...\/03-libann0_1.1.2+doc-7build1_amd64.deb ...\r\n",
      "Unpacking libann0 (1.1.2+doc-7build1) ...\r\n",
      "\u001b7\u001b[24;0f\u001b[42m\u001b[30mProgress: [  7%]\u001b[49m\u001b[39m [###.......................................................] \u001b8Selecting previously unselected package libcdt5:amd64.\r\n",
      "Preparing to unpack ...\/04-libcdt5_2.42.2-6_amd64.deb ...\r\n",
      "\u001b7\u001b[24;0f\u001b[42m\u001b[30mProgress: [  8%]\u001b[49m\u001b[39m [####......................................................] \u001b8Unpacking libcdt5:amd64 (2.42.2-6) ...\r\n",
      "\u001b7\u001b[24;0f\u001b[42m\u001b[30mProgress: [  9%]\u001b[49m\u001b[39m [####......................................................] \u001b8Selecting previously unselected package libcgraph6:amd64.\r\n",
      "Preparing to unpack ...\/05-libcgraph6_2.42.2-6_amd64.deb ...\r\n",
      "\u001b7\u001b[24;0f\u001b[42m\u001b[30mProgress: [  9%]\u001b[49m\u001b[39m [#####.....................................................] \u001b8Unpacking libcgraph6:amd64 (2.42.2-6) ...\r\n",
      "\u001b7\u001b[24;0f\u001b[42m\u001b[30mProgress: [ 10%]\u001b[49m\u001b[39m [#####.....................................................] \u001b8Selecting previously unselected package libgts-0.7-5:amd64.\r\n",
      "Preparing to unpack ...\/06-libgts-0.7-5_0.7.6+darcs121130-5_amd64.deb ...\r\n",
      "\u001b7\u001b[24;0f\u001b[42m\u001b[30mProgress: [ 11%]\u001b[49m\u001b[39m [######....................................................] \u001b8Unpacking libgts-0.7-5:amd64 (0.7.6+darcs121130-5) ...\r\n",
      "Selecting previously unselected package libpixman-1-0:amd64.\r\n",
      "Preparing to unpack ...\/07-libpixman-1-0_0.40.0-1ubuntu0.22.04.1_amd64.deb ...\r\n",
      "\u001b7\u001b[24;0f\u001b[42m\u001b[30mProgress: [ 13%]\u001b[49m\u001b[39m [#######...................................................] \u001b8Unpacking libpixman-1-0:amd64 (0.40.0-1ubuntu0.22.04.1) ...\r\n",
      "\u001b7\u001b[24;0f\u001b[42m\u001b[30mProgress: [ 14%]\u001b[49m\u001b[39m [#######...................................................] \u001b8Selecting previously unselected package libxcb-render0:amd64.\r\n",
      "Preparing to unpack ...\/08-libxcb-render0_1.14-3ubuntu3_amd64.deb ...\r\n",
      "\u001b7\u001b[24;0f\u001b[42m\u001b[30mProgress: [ 15%]\u001b[49m\u001b[39m [########..................................................] \u001b8Unpacking libxcb-render0:amd64 (1.14-3ubuntu3) ...\r\n",
      "\u001b7\u001b[24;0f\u001b[42m\u001b[30mProgress: [ 15%]\u001b[49m\u001b[39m [########..................................................] \u001b8Selecting previously unselected package libxrender1:amd64.\r\n",
      "Preparing to unpack ...\/09-libxrender1_1%3a0.9.10-1build4_amd64.deb ...\r\n",
      "\u001b7\u001b[24;0f\u001b[42m\u001b[30mProgress: [ 16%]\u001b[49m\u001b[39m [#########.................................................] \u001b8Unpacking libxrender1:amd64 (1:0.9.10-1build4) ...\r\n",
      "\u001b7\u001b[24;0f\u001b[42m\u001b[30mProgress: [ 17%]\u001b[49m\u001b[39m [#########.................................................] \u001b8Selecting previously unselected package libcairo2:amd64.\r\n",
      "Preparing to unpack ...\/10-libcairo2_1.16.0-5ubuntu2_amd64.deb ...\r\n",
      "Unpacking libcairo2:amd64 (1.16.0-5ubuntu2) ...\r\n",
      "\u001b7\u001b[24;0f\u001b[42m\u001b[30mProgress: [ 19%]\u001b[49m\u001b[39m [##########................................................] \u001b8Selecting previously unselected package libthai-data.\r\n",
      "Preparing to unpack ...\/11-libthai-data_0.1.29-1build1_all.deb ...\r\n",
      "\u001b7\u001b[24;0f\u001b[42m\u001b[30mProgress: [ 20%]\u001b[49m\u001b[39m [###########...............................................] \u001b8Unpacking libthai-data (0.1.29-1build1) ...\r\n",
      "\u001b7\u001b[24;0f\u001b[42m\u001b[30mProgress: [ 21%]\u001b[49m\u001b[39m [###########...............................................] \u001b8Selecting previously unselected package libdatrie1:amd64.\r\n",
      "Preparing to unpack ...\/12-libdatrie1_0.2.13-2_amd64.deb ...\r\n",
      "\u001b7\u001b[24;0f\u001b[42m\u001b[30mProgress: [ 21%]\u001b[49m\u001b[39m [############..............................................] \u001b8Unpacking libdatrie1:amd64 (0.2.13-2) ...\r\n",
      "\u001b7\u001b[24;0f\u001b[42m\u001b[30mProgress: [ 22%]\u001b[49m\u001b[39m [############..............................................] \u001b8Selecting previously unselected package libthai0:amd64.\r\n",
      "Preparing to unpack ...\/13-libthai0_0.1.29-1build1_amd64.deb ...\r\n",
      "\u001b7\u001b[24;0f\u001b[42m\u001b[30mProgress: [ 23%]\u001b[49m\u001b[39m [#############.............................................] \u001b8Unpacking libthai0:amd64 (0.1.29-1build1) ...\r\n",
      "Selecting previously unselected package libpango-1.0-0:amd64.\r\n",
      "Preparing to unpack ...\/14-libpango-1.0-0_1.50.6+ds-2ubuntu1_amd64.deb ...\r\n",
      "\u001b7\u001b[24;0f\u001b[42m\u001b[30mProgress: [ 25%]\u001b[49m\u001b[39m [##############............................................] \u001b8Unpacking libpango-1.0-0:amd64 (1.50.6+ds-2ubuntu1) ...\r\n",
      "\u001b7\u001b[24;0f\u001b[42m\u001b[30mProgress: [ 26%]\u001b[49m\u001b[39m [##############............................................] \u001b8Selecting previously unselected package libpangoft2-1.0-0:amd64.\r\n",
      "Preparing to unpack ...\/15-libpangoft2-1.0-0_1.50.6+ds-2ubuntu1_amd64.deb ...\r\n",
      "\u001b7\u001b[24;0f\u001b[42m\u001b[30mProgress: [ 26%]\u001b[49m\u001b[39m [###############...........................................] \u001b8Unpacking libpangoft2-1.0-0:amd64 (1.50.6+ds-2ubuntu1) ...\r\n",
      "\u001b7\u001b[24;0f\u001b[42m\u001b[30mProgress: [ 27%]\u001b[49m\u001b[39m [###############...........................................] \u001b8Selecting previously unselected package libpangocairo-1.0-0:amd64.\r\n",
      "Preparing to unpack ...\/16-libpangocairo-1.0-0_1.50.6+ds-2ubuntu1_amd64.deb ...\r\n",
      "\u001b7\u001b[24;0f\u001b[42m\u001b[30mProgress: [ 28%]\u001b[49m\u001b[39m [################..........................................] \u001b8Unpacking libpangocairo-1.0-0:amd64 (1.50.6+ds-2ubuntu1) ...\r\n",
      "\u001b7\u001b[24;0f\u001b[42m\u001b[30mProgress: [ 29%]\u001b[49m\u001b[39m [################..........................................] \u001b8Selecting previously unselected package libpathplan4:amd64.\r\n",
      "Preparing to unpack ...\/17-libpathplan4_2.42.2-6_amd64.deb ...\r\n",
      "Unpacking libpathplan4:amd64 (2.42.2-6) ...\r\n",
      "\u001b7\u001b[24;0f\u001b[42m\u001b[30mProgress: [ 31%]\u001b[49m\u001b[39m [#################.........................................] \u001b8Selecting previously unselected package libgvc6.\r\n",
      "Preparing to unpack ...\/18-libgvc6_2.42.2-6_amd64.deb ...\r\n",
      "\u001b7\u001b[24;0f\u001b[42m\u001b[30mProgress: [ 32%]\u001b[49m\u001b[39m [##################........................................] \u001b8Unpacking libgvc6 (2.42.2-6) ...\r\n",
      "\u001b7\u001b[24;0f\u001b[42m\u001b[30mProgress: [ 32%]\u001b[49m\u001b[39m [##################........................................] \u001b8Selecting previously unselected package libgvpr2:amd64.\r\n",
      "Preparing to unpack ...\/19-libgvpr2_2.42.2-6_amd64.deb ...\r\n",
      "\u001b7\u001b[24;0f\u001b[42m\u001b[30mProgress: [ 33%]\u001b[49m\u001b[39m [###################.......................................] \u001b8Unpacking libgvpr2:amd64 (2.42.2-6) ...\r\n",
      "\u001b7\u001b[24;0f\u001b[42m\u001b[30mProgress: [ 34%]\u001b[49m\u001b[39m [###################.......................................] \u001b8Selecting previously unselected package liblab-gamut1:amd64.\r\n",
      "Preparing to unpack ...\/20-liblab-gamut1_2.42.2-6_amd64.deb ...\r\n",
      "\u001b7\u001b[24;0f\u001b[42m\u001b[30mProgress: [ 35%]\u001b[49m\u001b[39m [####################......................................] \u001b8Unpacking liblab-gamut1:amd64 (2.42.2-6) ...\r\n",
      "Selecting previously unselected package x11-common.\r\n",
      "Preparing to unpack ...\/21-x11-common_1%3a7.7+23ubuntu2_all.deb ...\r\n",
      "\u001b7\u001b[24;0f\u001b[42m\u001b[30mProgress: [ 37%]\u001b[49m\u001b[39m [#####################.....................................] \u001b8Unpacking x11-common (1:7.7+23ubuntu2) ...\r\n",
      "\u001b7\u001b[24;0f\u001b[42m\u001b[30mProgress: [ 38%]\u001b[49m\u001b[39m [#####################.....................................] \u001b8Selecting previously unselected package libice6:amd64.\r\n",
      "Preparing to unpack ...\/22-libice6_2%3a1.0.10-1build2_amd64.deb ...\r\n",
      "\u001b7\u001b[24;0f\u001b[42m\u001b[30mProgress: [ 38%]\u001b[49m\u001b[39m [######################....................................] \u001b8Unpacking libice6:amd64 (2:1.0.10-1build2) ...\r\n",
      "\u001b7\u001b[24;0f\u001b[42m\u001b[30mProgress: [ 39%]\u001b[49m\u001b[39m [######################....................................] \u001b8Selecting previously unselected package libsm6:amd64.\r\n",
      "Preparing to unpack ...\/23-libsm6_2%3a1.2.3-1build2_amd64.deb ...\r\n",
      "\u001b7\u001b[24;0f\u001b[42m\u001b[30mProgress: [ 40%]\u001b[49m\u001b[39m [#######################...................................] \u001b8Unpacking libsm6:amd64 (2:1.2.3-1build2) ...\r\n",
      "\u001b7\u001b[24;0f\u001b[42m\u001b[30mProgress: [ 41%]\u001b[49m\u001b[39m [#######################...................................] \u001b8Selecting previously unselected package libxt6:amd64.\r\n",
      "Preparing to unpack ...\/24-libxt6_1%3a1.2.1-1_amd64.deb ...\r\n",
      "Unpacking libxt6:amd64 (1:1.2.1-1) ...\r\n",
      "\u001b7\u001b[24;0f\u001b[42m\u001b[30mProgress: [ 43%]\u001b[49m\u001b[39m [########################..................................] \u001b8Selecting previously unselected package libxmu6:amd64.\r\n",
      "Preparing to unpack ...\/25-libxmu6_2%3a1.1.3-3_amd64.deb ...\r\n",
      "\u001b7\u001b[24;0f\u001b[42m\u001b[30mProgress: [ 44%]\u001b[49m\u001b[39m [#########################.................................] \u001b8Unpacking libxmu6:amd64 (2:1.1.3-3) ...\r\n",
      "\u001b7\u001b[24;0f\u001b[42m\u001b[30mProgress: [ 44%]\u001b[49m\u001b[39m [#########################.................................] \u001b8Selecting previously unselected package libxaw7:amd64.\r\n",
      "Preparing to unpack ...\/26-libxaw7_2%3a1.0.14-1_amd64.deb ...\r\n",
      "\u001b7\u001b[24;0f\u001b[42m\u001b[30mProgress: [ 45%]\u001b[49m\u001b[39m [##########################................................] \u001b8Unpacking libxaw7:amd64 (2:1.0.14-1) ...\r\n",
      "\u001b7\u001b[24;0f\u001b[42m\u001b[30mProgress: [ 46%]\u001b[49m\u001b[39m [##########################................................] \u001b8Selecting previously unselected package graphviz.\r\n",
      "Preparing to unpack ...\/27-graphviz_2.42.2-6_amd64.deb ...\r\n",
      "\u001b7\u001b[24;0f\u001b[42m\u001b[30mProgress: [ 47%]\u001b[49m\u001b[39m [###########################...............................] \u001b8Unpacking graphviz (2.42.2-6) ...\r\n",
      "Selecting previously unselected package libgts-bin.\r\n",
      "Preparing to unpack ...\/28-libgts-bin_0.7.6+darcs121130-5_amd64.deb ...\r\n",
      "\u001b7\u001b[24;0f\u001b[42m\u001b[30mProgress: [ 49%]\u001b[49m\u001b[39m [############################..............................] \u001b8Unpacking libgts-bin (0.7.6+darcs121130-5) ...\r\n",
      "\u001b7\u001b[24;0f\u001b[42m\u001b[30mProgress: [ 50%]\u001b[49m\u001b[39m [############################..............................] \u001b8Setting up libpixman-1-0:amd64 (0.40.0-1ubuntu0.22.04.1) ...\r\n",
      "\u001b7\u001b[24;0f\u001b[42m\u001b[30mProgress: [ 50%]\u001b[49m\u001b[39m [#############################.............................] \u001b8\u001b7\u001b[24;0f\u001b[42m\u001b[30mProgress: [ 51%]\u001b[49m\u001b[39m [#############################.............................] \u001b8Setting up fontconfig (2.13.1-4.2ubuntu5) ...\r\n",
      "\u001b7\u001b[24;0f\u001b[42m\u001b[30mProgress: [ 52%]\u001b[49m\u001b[39m [##############################............................] \u001b8Regenerating fonts cache... done.\r\n",
      "Setting up libxrender1:amd64 (1:0.9.10-1build4) ...\r\n",
      "\u001b7\u001b[24;0f\u001b[42m\u001b[30mProgress: [ 54%]\u001b[49m\u001b[39m [###############################...........................] \u001b8\u001b7\u001b[24;0f\u001b[42m\u001b[30mProgress: [ 55%]\u001b[49m\u001b[39m [###############################...........................] \u001b8Setting up libdatrie1:amd64 (0.2.13-2) ...\r\n",
      "\u001b7\u001b[24;0f\u001b[42m\u001b[30mProgress: [ 56%]\u001b[49m\u001b[39m [################################..........................] \u001b8\u001b7\u001b[24;0f\u001b[42m\u001b[30mProgress: [ 56%]\u001b[49m\u001b[39m [################################..........................] \u001b8Setting up libxcb-render0:amd64 (1.14-3ubuntu3) ...\r\n",
      "\u001b7\u001b[24;0f\u001b[42m\u001b[30mProgress: [ 57%]\u001b[49m\u001b[39m [#################################.........................] \u001b8\u001b7\u001b[24;0f\u001b[42m\u001b[30mProgress: [ 58%]\u001b[49m\u001b[39m [#################################.........................] \u001b8Setting up liblab-gamut1:amd64 (2.42.2-6) ...\r\n",
      "\u001b7\u001b[24;0f\u001b[42m\u001b[30mProgress: [ 60%]\u001b[49m\u001b[39m [##################################........................] \u001b8Setting up x11-common (1:7.7+23ubuntu2) ...\r\n",
      "\u001b7\u001b[24;0f\u001b[42m\u001b[30mProgress: [ 61%]\u001b[49m\u001b[39m [###################################.......................] \u001b8debconf: unable to initialize frontend: Dialog\r\n",
      "debconf: (No usable dialog-like program is installed, so the dialog based frontend cannot be used. at \/usr\/share\/perl5\/Debconf\/FrontEnd\/Dialog.pm line 78.)\r\n",
      "debconf: falling back to frontend: Readline\r\n",
      "invoke-rc.d: could not determine current runlevel\r\n",
      "invoke-rc.d: policy-rc.d denied execution of start.\r\n",
      "\u001b7\u001b[24;0f\u001b[42m\u001b[30mProgress: [ 62%]\u001b[49m\u001b[39m [###################################.......................] \u001b8Setting up libcairo2:amd64 (1.16.0-5ubuntu2) ...\r\n",
      "\u001b7\u001b[24;0f\u001b[42m\u001b[30mProgress: [ 62%]\u001b[49m\u001b[39m [####################################......................] \u001b8\u001b7\u001b[24;0f\u001b[42m\u001b[30mProgress: [ 63%]\u001b[49m\u001b[39m [####################################......................] \u001b8Setting up libgts-0.7-5:amd64 (0.7.6+darcs121130-5) ...\r\n",
      "\u001b7\u001b[24;0f\u001b[42m\u001b[30mProgress: [ 64%]\u001b[49m\u001b[39m [#####################################.....................] \u001b8Setting up libpathplan4:amd64 (2.42.2-6) ...\r\n",
      "\u001b7\u001b[24;0f\u001b[42m\u001b[30mProgress: [ 66%]\u001b[49m\u001b[39m [######################################....................] \u001b8\u001b7\u001b[24;0f\u001b[42m\u001b[30mProgress: [ 67%]\u001b[49m\u001b[39m [######################################....................] \u001b8Setting up libann0 (1.1.2+doc-7build1) ...\r\n",
      "\u001b7\u001b[24;0f\u001b[42m\u001b[30mProgress: [ 68%]\u001b[49m\u001b[39m [#######################################...................] \u001b8\u001b7\u001b[24;0f\u001b[42m\u001b[30mProgress: [ 68%]\u001b[49m\u001b[39m [#######################################...................] \u001b8Setting up libfribidi0:amd64 (1.0.8-2ubuntu3.1) ...\r\n",
      "\u001b7\u001b[24;0f\u001b[42m\u001b[30mProgress: [ 69%]\u001b[49m\u001b[39m [########################################..................] \u001b8\u001b7\u001b[24;0f\u001b[42m\u001b[30mProgress: [ 70%]\u001b[49m\u001b[39m [########################################..................] \u001b8Setting up fonts-liberation (1:1.07.4-11) ...\r\n",
      "\u001b7\u001b[24;0f\u001b[42m\u001b[30mProgress: [ 72%]\u001b[49m\u001b[39m [#########################################.................] \u001b8Setting up libthai-data (0.1.29-1build1) ...\r\n",
      "\u001b7\u001b[24;0f\u001b[42m\u001b[30mProgress: [ 73%]\u001b[49m\u001b[39m [##########################################................] \u001b8\u001b7\u001b[24;0f\u001b[42m\u001b[30mProgress: [ 74%]\u001b[49m\u001b[39m [##########################################................] \u001b8Setting up libcdt5:amd64 (2.42.2-6) ...\r\n",
      "\u001b7\u001b[24;0f\u001b[42m\u001b[30mProgress: [ 74%]\u001b[49m\u001b[39m [###########################################...............] \u001b8\u001b7\u001b[24;0f\u001b[42m\u001b[30mProgress: [ 75%]\u001b[49m\u001b[39m [###########################################...............] \u001b8Setting up libcgraph6:amd64 (2.42.2-6) ...\r\n",
      "\u001b7\u001b[24;0f\u001b[42m\u001b[30mProgress: [ 76%]\u001b[49m\u001b[39m [############################################..............] \u001b8Setting up libgts-bin (0.7.6+darcs121130-5) ...\r\n",
      "\u001b7\u001b[24;0f\u001b[42m\u001b[30mProgress: [ 78%]\u001b[49m\u001b[39m [#############################################.............] \u001b8\u001b7\u001b[24;0f\u001b[42m\u001b[30mProgress: [ 79%]\u001b[49m\u001b[39m [#############################################.............] \u001b8Setting up libice6:amd64 (2:1.0.10-1build2) ...\r\n",
      "\u001b7\u001b[24;0f\u001b[42m\u001b[30mProgress: [ 79%]\u001b[49m\u001b[39m [##############################################............] \u001b8\u001b7\u001b[24;0f\u001b[42m\u001b[30mProgress: [ 80%]\u001b[49m\u001b[39m [##############################################............] \u001b8Setting up libthai0:amd64 (0.1.29-1build1) ...\r\n",
      "\u001b7\u001b[24;0f\u001b[42m\u001b[30mProgress: [ 81%]\u001b[49m\u001b[39m [###############################################...........] \u001b8\u001b7\u001b[24;0f\u001b[42m\u001b[30mProgress: [ 82%]\u001b[49m\u001b[39m [###############################################...........] \u001b8Setting up libgvpr2:amd64 (2.42.2-6) ...\r\n",
      "\u001b7\u001b[24;0f\u001b[42m\u001b[30mProgress: [ 84%]\u001b[49m\u001b[39m [################################################..........] \u001b8Setting up libsm6:amd64 (2:1.2.3-1build2) ...\r\n",
      "\u001b7\u001b[24;0f\u001b[42m\u001b[30mProgress: [ 85%]\u001b[49m\u001b[39m [#################################################.........] \u001b8\u001b7\u001b[24;0f\u001b[42m\u001b[30mProgress: [ 85%]\u001b[49m\u001b[39m [#################################################.........] \u001b8Setting up libpango-1.0-0:amd64 (1.50.6+ds-2ubuntu1) ...\r\n",
      "\u001b7\u001b[24;0f\u001b[42m\u001b[30mProgress: [ 86%]\u001b[49m\u001b[39m [##################################################........] \u001b8\u001b7\u001b[24;0f\u001b[42m\u001b[30mProgress: [ 87%]\u001b[49m\u001b[39m [##################################################........] \u001b8Setting up libxt6:amd64 (1:1.2.1-1) ...\r\n",
      "\u001b7\u001b[24;0f\u001b[42m\u001b[30mProgress: [ 88%]\u001b[49m\u001b[39m [###################################################.......] \u001b8Setting up libpangoft2-1.0-0:amd64 (1.50.6+ds-2ubuntu1) ...\r\n",
      "\u001b7\u001b[24;0f\u001b[42m\u001b[30mProgress: [ 90%]\u001b[49m\u001b[39m [####################################################......] \u001b8\u001b7\u001b[24;0f\u001b[42m\u001b[30mProgress: [ 91%]\u001b[49m\u001b[39m [####################################################......] \u001b8Setting up libpangocairo-1.0-0:amd64 (1.50.6+ds-2ubuntu1) ...\r\n",
      "\u001b7\u001b[24;0f\u001b[42m\u001b[30mProgress: [ 91%]\u001b[49m\u001b[39m [#####################################################.....] \u001b8\u001b7\u001b[24;0f\u001b[42m\u001b[30mProgress: [ 92%]\u001b[49m\u001b[39m [#####################################################.....] \u001b8Setting up libxmu6:amd64 (2:1.1.3-3) ...\r\n",
      "\u001b7\u001b[24;0f\u001b[42m\u001b[30mProgress: [ 93%]\u001b[49m\u001b[39m [######################################################....] \u001b8\u001b7\u001b[24;0f\u001b[42m\u001b[30mProgress: [ 94%]\u001b[49m\u001b[39m [######################################################....] \u001b8Setting up libxaw7:amd64 (2:1.0.14-1) ...\r\n",
      "\u001b7\u001b[24;0f\u001b[42m\u001b[30mProgress: [ 96%]\u001b[49m\u001b[39m [#######################################################...] \u001b8Setting up libgvc6 (2.42.2-6) ...\r\n",
      "\u001b7\u001b[24;0f\u001b[42m\u001b[30mProgress: [ 97%]\u001b[49m\u001b[39m [########################################################..] \u001b8\u001b7\u001b[24;0f\u001b[42m\u001b[30mProgress: [ 97%]\u001b[49m\u001b[39m [########################################################..] \u001b8Setting up graphviz (2.42.2-6) ...\r\n",
      "\u001b7\u001b[24;0f\u001b[42m\u001b[30mProgress: [ 98%]\u001b[49m\u001b[39m [#########################################################.] \u001b8\u001b7\u001b[24;0f\u001b[42m\u001b[30mProgress: [ 99%]\u001b[49m\u001b[39m [#########################################################.] \u001b8Processing triggers for libc-bin (2.35-0ubuntu3.1) ...\r\n",
      "\r\n",
      "\u001b7\u001b[0;24r\u001b8\u001b[1A\u001b[J"
     ],
     "output_type":"stream"
    }
   ],
   "metadata":{
    "datalore":{
     "node_id":"NbCthRQBzXQNgwLDrMXEUe",
     "type":"CODE",
     "hide_input_from_viewers":true,
     "hide_output_from_viewers":true
    }
   }
  },
  {
   "cell_type":"code",
   "source":[
    "# Bot check\n",
    "\n",
    "# HW_ID: fpmi_ad7\n",
    "# Бот проверит этот ID и предупредит, если случайно сдать что-то не то.\n",
    "\n",
    "# Status: final\n",
    "# Перед отправкой в финальном решении удали \"not\" в строчке выше.\n",
    "# Так бот проверит, что ты отправляешь финальную версию, а не промежуточную.\n",
    "# Никакие значения в этой ячейке не влияют на факт сдачи работы."
   ],
   "execution_count":2,
   "outputs":[
    
   ],
   "metadata":{
    "datalore":{
     "node_id":"lfM1OL4cm3bpS6WxcgwLvh",
     "type":"CODE",
     "hide_input_from_viewers":false,
     "hide_output_from_viewers":false,
     "report_properties":{
      "rowId":"FLW7Ilh7Ke7AcjNV6lLjBV"
     }
    }
   }
  },
  {
   "cell_type":"code",
   "source":[
    "import numpy as np\n",
    "import pandas as pd\n",
    "import matplotlib.pyplot as plt\n",
    "import seaborn as sns\n",
    "import graphviz\n",
    "import scipy.stats\n",
    "import warnings\n",
    "from tqdm import tqdm_notebook\n",
    "\n",
    "sns.set(style='whitegrid', font_scale=1.3, palette='Set2')"
   ],
   "execution_count":3,
   "outputs":[
    
   ],
   "metadata":{
    "datalore":{
     "node_id":"48FhLXfKZXqTDSboAfInbO",
     "type":"CODE",
     "hide_input_from_viewers":false,
     "hide_output_from_viewers":false,
     "report_properties":{
      "rowId":"ThHIGQBXq9Uqv2GzwRh37C"
     }
    }
   }
  },
  {
   "cell_type":"markdown",
   "source":[
    "При решении задания используйте `sklearn`. Пропишите сюда необходимые импорты"
   ],
   "attachments":{
    
   },
   "metadata":{
    "datalore":{
     "node_id":"JG7aLVIqwxDisJwXygH9Uq",
     "type":"MD",
     "hide_input_from_viewers":false,
     "hide_output_from_viewers":false,
     "report_properties":{
      "rowId":"n5T5FOodFuXHmke8dav0B4"
     }
    }
   }
  },
  {
   "cell_type":"code",
   "source":[
    "from sklearn import datasets\n",
    "from sklearn.metrics import accuracy_score, mean_squared_error\n",
    "from sklearn.tree import DecisionTreeClassifier, DecisionTreeRegressor, export_graphviz\n",
    "from sklearn.ensemble import RandomForestClassifier, RandomForestRegressor\n",
    "from sklearn.model_selection import train_test_split\n",
    "\n",
    "from sklearn import metrics\n",
    "from sklearn import preprocessing\n",
    "\n",
    "\n",
    "warnings.filterwarnings(\"ignore\")\n",
    "\n",
    "pd.options.mode.chained_assignment = None"
   ],
   "execution_count":4,
   "outputs":[
    
   ],
   "metadata":{
    "datalore":{
     "node_id":"2rc8pPlxLTsEOHzoUCW840",
     "type":"CODE",
     "hide_input_from_viewers":false,
     "hide_output_from_viewers":false,
     "report_properties":{
      "rowId":"s1pMFvfV5GK4G5lmSm5WUv"
     }
    }
   }
  },
  {
   "cell_type":"markdown",
   "source":[
    "Перед выполнением задания обязательно посмотрите <a href=\"https:\/\/miptstats.github.io\/courses\/ad_fivt\/trees.html\">ноутбук<\/a> с занятия по решающим деревьям."
   ],
   "attachments":{
    
   },
   "metadata":{
    "datalore":{
     "node_id":"GlKcnGuaE3A7Iu1QtvWPz1",
     "type":"MD",
     "hide_input_from_viewers":false,
     "hide_output_from_viewers":false,
     "report_properties":{
      "rowId":"0Fb1FFvNtyJuIlCegwAdM6"
     }
    }
   }
  },
  {
   "cell_type":"markdown",
   "source":[
    "---\n",
    "### Задача 1.\n",
    "\n",
    "Перед обучением линейной регрессии вы могли совершать некоторые преобразования над признаками. Какие преобразования стоит совершить перед обучением решающего дерева?\n",
    "\n",
    "В частности, ответьте на вопрос, имеет ли смысл применять следующие преобразования:\n",
    "* монотонные функции от одного признака;\n",
    "* немонотонные функции от одного признака;\n",
    "* линейные функции от нескольких признаков;\n",
    "* нелинейные функции от нескольких признаков;\n",
    "* стандартизация признаков;\n",
    "* преобразования категориальных признаков.\n",
    "\n",
    "**Ответ:**\n",
    "\n",
    "Никакие функциональные преобразования над признаками совершать не надо для решающего дерева: мы можем потерять истинность модели относительно исходных данных. Обязательно необходима стандартизация, чтобы получить \"гладкие\" данные. Категориальные признаки так же необходимо преобразовывать, но только не через One-Hot-Encoding"
   ],
   "attachments":{
    
   },
   "metadata":{
    "datalore":{
     "node_id":"AxIXhwasOsNlCDDU4TQUTa",
     "type":"MD",
     "hide_input_from_viewers":false,
     "hide_output_from_viewers":false,
     "report_properties":{
      "rowId":"2NbrUS3kJRszc7487eArHs"
     }
    }
   }
  },
  {
   "cell_type":"markdown",
   "source":[
    "---\n",
    "### Задача 2.\n",
    "\n",
    "Рассмотрим данные из <a href=\"https:\/\/miptstats.github.io\/courses\/ad_fivt\/task6.html\" target=\"_blank\">предыдущего домашнего задания<\/a>. Скачайте данные и разделите их на три части &mdash; обучающую, валидационную и тестовую в соотношении 3:1:1."
   ],
   "attachments":{
    
   },
   "metadata":{
    "datalore":{
     "node_id":"zIYuCEqMGglmi6JFhbjjGW",
     "type":"MD",
     "hide_input_from_viewers":false,
     "hide_output_from_viewers":false,
     "report_properties":{
      "rowId":"e0g5aMwyrbx72gs6I2EBXn"
     }
    }
   }
  },
  {
   "cell_type":"code",
   "source":[
    "data = pd.read_csv(\"day.csv\")\n",
    "data = data.drop(columns=['atemp','dteday', 'instant', 'yr', 'casual', 'registered'])\n",
    "\n",
    "#Разделим на категориальные и количественные признаки\n",
    "categorial_features = ['season', 'mnth', 'weekday']\n",
    "real_features = ['holiday', 'workingday', 'weathersit',\n",
    "       'temp', 'hum', 'windspeed']\n",
    "all_features = categorial_features + real_features\n",
    "target_feature = 'cnt'"
   ],
   "execution_count":5,
   "outputs":[
    
   ],
   "metadata":{
    "datalore":{
     "node_id":"VGqbQa7Um6sgakXwVYzEqA",
     "type":"CODE",
     "hide_input_from_viewers":false,
     "hide_output_from_viewers":false,
     "report_properties":{
      "rowId":"ywEk2bCtGXP9J0Id1BKlcP"
     }
    }
   }
  },
  {
   "cell_type":"code",
   "source":[
    "train, test = train_test_split(data, test_size=0.2)\n",
    "train, validate = train_test_split(train, test_size=0.25)"
   ],
   "execution_count":6,
   "outputs":[
    
   ],
   "metadata":{
    "datalore":{
     "node_id":"KMwkAQ5MWeY302iaTmMdkp",
     "type":"CODE",
     "hide_input_from_viewers":true,
     "hide_output_from_viewers":true
    }
   }
  },
  {
   "cell_type":"markdown",
   "source":[
    "Выполните необходимые преобразования признаков.\n",
    "\n",
    "*Замечание.* Если в валидационной и\/или тестовой частях есть \"большие\" выбросы, их стоит убрать. Наша модель не должна пытаться их предсказать, но в то же время выбросы вносят существенный вклад в значение метрики. \n",
    "\n",
    "Выполним следующие преобразования:\n",
    "\n",
    "1. Очистим данные от выбросов;\n",
    "   \n",
    "   Воспользуемся результатами прошлого задания: удалим по 2% с обеих концов датафрейма\n",
    "2. Закодируем категориальные признаки\n",
    "\n",
    "    Важно понимать, что One-Hot-Encoding для данной модели может сделать данные слишком разреженными. А т.к. при работе с деревьями применяется решающее правило, а не линейная функция, то логичнее использовать Order Encoding. Конечно, проблему разреженности решается стандартизацией, но интересно сравнить два подхода по точности.\n",
    "3. Стандартизируем данные"
   ],
   "attachments":{
    
   },
   "metadata":{
    "datalore":{
     "node_id":"xTP8MjFUv6QtVpSY0kqDPX",
     "type":"MD",
     "hide_input_from_viewers":false,
     "hide_output_from_viewers":false,
     "report_properties":{
      "rowId":"bca2NTeB9AggxI2QVyBhBg"
     }
    }
   }
  },
  {
   "cell_type":"code",
   "source":[
    "def trash(input_data):\n",
    "    input_data = input_data[int(len(input_data)*0.02):]\n",
    "    input_data = input_data[:int(len(input_data)*0.98)]\n",
    "\n",
    "    return input_data"
   ],
   "execution_count":7,
   "outputs":[
    
   ],
   "metadata":{
    "datalore":{
     "node_id":"BbOFWKLzV6uRW1yYCXEfG5",
     "type":"CODE",
     "hide_input_from_viewers":true,
     "hide_output_from_viewers":true
    }
   }
  },
  {
   "cell_type":"code",
   "source":[
    "data_list = [train, test, validate]\n",
    "\n",
    "#Избавляемся от выбросов\n",
    "for df in data_list:\n",
    "    df = trash(df)\n",
    "\n",
    "#Стандартизируем данные\n",
    "standartization =  preprocessing.MinMaxScaler()\n",
    "train[real_features] = standartization.fit_transform(train[real_features])\n",
    "    \n",
    "test[real_features] = standartization.transform(test[real_features])\n",
    "validate[real_features] = standartization.transform(validate[real_features])"
   ],
   "execution_count":8,
   "outputs":[
    
   ],
   "metadata":{
    "datalore":{
     "node_id":"kGUpnxd9MnoInpcbZucQk4",
     "type":"CODE",
     "hide_input_from_viewers":true,
     "hide_output_from_viewers":true
    }
   }
  },
  {
   "cell_type":"markdown",
   "source":[
    "Обучите решающее дерево глубины 3 и визуализируйте его. \n",
    "\n",
    "*Рекомендуется сохранить визуализацию в html и отправить ее вместе с решением.*"
   ],
   "attachments":{
    
   },
   "metadata":{
    "datalore":{
     "node_id":"VN6jcWvDQGrZTKWySYEXvO",
     "type":"MD",
     "hide_input_from_viewers":false,
     "hide_output_from_viewers":false,
     "report_properties":{
      "rowId":"B8ZxmG48o3nyHqFgyWBdGE"
     }
    }
   }
  },
  {
   "cell_type":"code",
   "source":[
    "des_tree = DecisionTreeRegressor(max_depth=3, min_samples_split=10)\n",
    "des_tree.fit(train[all_features], train[target_feature])"
   ],
   "execution_count":9,
   "outputs":[
    {
     "data":{
      "text\/plain":[
       "DecisionTreeRegressor(max_depth=3, min_samples_split=10)"
      ]
     },
     "metadata":{
      
     },
     "output_type":"display_data"
    }
   ],
   "metadata":{
    "datalore":{
     "node_id":"u0FzYnmCqWjw94pd4oeJqo",
     "type":"CODE",
     "hide_input_from_viewers":false,
     "hide_output_from_viewers":false,
     "report_properties":{
      "rowId":"cSz8XlOr72NcHt2GO8e4WI"
     }
    }
   }
  },
  {
   "cell_type":"code",
   "source":[
    "def get_graphviz_graph(decision_tree_regressor, data, all_feat):\n",
    "    '''\n",
    "    Функция для обучения решающего дерева и построения\n",
    "    по нему графа graphviz для визуализации\n",
    "    '''\n",
    "    \n",
    "    dot_data = export_graphviz(\n",
    "        decision_tree_regressor, out_file=None, \n",
    "        feature_names=data[all_feat].columns, class_names='cnt',  \n",
    "        filled=True, rounded=True, special_characters=True\n",
    "    )  \n",
    "    return graphviz.Source(dot_data)  "
   ],
   "execution_count":10,
   "outputs":[
    
   ],
   "metadata":{
    "datalore":{
     "node_id":"CKblGHbTJr8KHRZrP8DZii",
     "type":"CODE",
     "hide_input_from_viewers":true,
     "hide_output_from_viewers":true
    }
   }
  },
  {
   "cell_type":"code",
   "source":[
    "graph = get_graphviz_graph(des_tree, train, all_features)\n",
    "graph"
   ],
   "execution_count":11,
   "outputs":[
    {
     "data":{
      "image\/svg+xml":[
       "<?xml version=\"1.0\" encoding=\"UTF-8\" standalone=\"no\"?>\n",
       "<!DOCTYPE svg PUBLIC \"-\/\/W3C\/\/DTD SVG 1.1\/\/EN\"\n",
       " \"http:\/\/www.w3.org\/Graphics\/SVG\/1.1\/DTD\/svg11.dtd\">\n",
       "<!-- Generated by graphviz version 2.43.0 (0)\n",
       " -->\n",
       "<!-- Title: Tree Pages: 1 -->\n",
       "<svg width=\"1906pt\" height=\"373pt\"\n",
       " viewBox=\"0.00 0.00 1905.50 373.00\" xmlns=\"http:\/\/www.w3.org\/2000\/svg\" xmlns:xlink=\"http:\/\/www.w3.org\/1999\/xlink\">\n",
       "<g id=\"graph0\" class=\"graph\" transform=\"scale(1 1) rotate(0) translate(4 369)\">\n",
       "<title>Tree<\/title>\n",
       "<polygon fill=\"white\" stroke=\"transparent\" points=\"-4,4 -4,-369 1901.5,-369 1901.5,4 -4,4\"\/>\n",
       "<!-- 0 -->\n",
       "<g id=\"node1\" class=\"node\">\n",
       "<title>0<\/title>\n",
       "<path fill=\"#eca16b\" stroke=\"black\" d=\"M1042.5,-365C1042.5,-365 838.5,-365 838.5,-365 832.5,-365 826.5,-359 826.5,-353 826.5,-353 826.5,-309 826.5,-309 826.5,-303 832.5,-297 838.5,-297 838.5,-297 1042.5,-297 1042.5,-297 1048.5,-297 1054.5,-303 1054.5,-309 1054.5,-309 1054.5,-353 1054.5,-353 1054.5,-359 1048.5,-365 1042.5,-365\"\/>\n",
       "<text text-anchor=\"start\" x=\"891.5\" y=\"-349.8\" font-family=\"Helvetica,sans-Serif\" font-size=\"14.00\">temp ≤ 0.465<\/text>\n",
       "<text text-anchor=\"start\" x=\"834.5\" y=\"-334.8\" font-family=\"Helvetica,sans-Serif\" font-size=\"14.00\">squared_error = 3772726.799<\/text>\n",
       "<text text-anchor=\"start\" x=\"887.5\" y=\"-319.8\" font-family=\"Helvetica,sans-Serif\" font-size=\"14.00\">samples = 438<\/text>\n",
       "<text text-anchor=\"start\" x=\"877\" y=\"-304.8\" font-family=\"Helvetica,sans-Serif\" font-size=\"14.00\">value = 4528.267<\/text>\n",
       "<\/g>\n",
       "<!-- 1 -->\n",
       "<g id=\"node2\" class=\"node\">\n",
       "<title>1<\/title>\n",
       "<path fill=\"#f3c3a1\" stroke=\"black\" d=\"M809.5,-261C809.5,-261 605.5,-261 605.5,-261 599.5,-261 593.5,-255 593.5,-249 593.5,-249 593.5,-205 593.5,-205 593.5,-199 599.5,-193 605.5,-193 605.5,-193 809.5,-193 809.5,-193 815.5,-193 821.5,-199 821.5,-205 821.5,-205 821.5,-249 821.5,-249 821.5,-255 815.5,-261 809.5,-261\"\/>\n",
       "<text text-anchor=\"start\" x=\"661\" y=\"-245.8\" font-family=\"Helvetica,sans-Serif\" font-size=\"14.00\">season ≤ 3.0<\/text>\n",
       "<text text-anchor=\"start\" x=\"601.5\" y=\"-230.8\" font-family=\"Helvetica,sans-Serif\" font-size=\"14.00\">squared_error = 2350815.233<\/text>\n",
       "<text text-anchor=\"start\" x=\"654.5\" y=\"-215.8\" font-family=\"Helvetica,sans-Serif\" font-size=\"14.00\">samples = 177<\/text>\n",
       "<text text-anchor=\"start\" x=\"644\" y=\"-200.8\" font-family=\"Helvetica,sans-Serif\" font-size=\"14.00\">value = 3097.503<\/text>\n",
       "<\/g>\n",
       "<!-- 0&#45;&gt;1 -->\n",
       "<g id=\"edge1\" class=\"edge\">\n",
       "<title>0&#45;&gt;1<\/title>\n",
       "<path fill=\"none\" stroke=\"black\" d=\"M864.85,-296.88C841.74,-286.77 816.18,-275.58 792.49,-265.21\"\/>\n",
       "<polygon fill=\"black\" stroke=\"black\" points=\"793.73,-261.93 783.17,-261.12 790.92,-268.34 793.73,-261.93\"\/>\n",
       "<text text-anchor=\"middle\" x=\"792.27\" y=\"-280.71\" font-family=\"Helvetica,sans-Serif\" font-size=\"14.00\">True<\/text>\n",
       "<\/g>\n",
       "<!-- 8 -->\n",
       "<g id=\"node9\" class=\"node\">\n",
       "<title>8<\/title>\n",
       "<path fill=\"#e78a47\" stroke=\"black\" d=\"M1288.5,-261C1288.5,-261 1084.5,-261 1084.5,-261 1078.5,-261 1072.5,-255 1072.5,-249 1072.5,-249 1072.5,-205 1072.5,-205 1072.5,-199 1078.5,-193 1084.5,-193 1084.5,-193 1288.5,-193 1288.5,-193 1294.5,-193 1300.5,-199 1300.5,-205 1300.5,-205 1300.5,-249 1300.5,-249 1300.5,-255 1294.5,-261 1288.5,-261\"\/>\n",
       "<text text-anchor=\"start\" x=\"1144\" y=\"-245.8\" font-family=\"Helvetica,sans-Serif\" font-size=\"14.00\">hum ≤ 0.83<\/text>\n",
       "<text text-anchor=\"start\" x=\"1080.5\" y=\"-230.8\" font-family=\"Helvetica,sans-Serif\" font-size=\"14.00\">squared_error = 2407297.963<\/text>\n",
       "<text text-anchor=\"start\" x=\"1133.5\" y=\"-215.8\" font-family=\"Helvetica,sans-Serif\" font-size=\"14.00\">samples = 261<\/text>\n",
       "<text text-anchor=\"start\" x=\"1123\" y=\"-200.8\" font-family=\"Helvetica,sans-Serif\" font-size=\"14.00\">value = 5498.556<\/text>\n",
       "<\/g>\n",
       "<!-- 0&#45;&gt;8 -->\n",
       "<g id=\"edge8\" class=\"edge\">\n",
       "<title>0&#45;&gt;8<\/title>\n",
       "<path fill=\"none\" stroke=\"black\" d=\"M1020.37,-296.88C1044.88,-286.72 1072,-275.48 1097.1,-265.07\"\/>\n",
       "<polygon fill=\"black\" stroke=\"black\" points=\"1098.71,-268.19 1106.61,-261.12 1096.03,-261.72 1098.71,-268.19\"\/>\n",
       "<text text-anchor=\"middle\" x=\"1097.05\" y=\"-280.53\" font-family=\"Helvetica,sans-Serif\" font-size=\"14.00\">False<\/text>\n",
       "<\/g>\n",
       "<!-- 2 -->\n",
       "<g id=\"node3\" class=\"node\">\n",
       "<title>2<\/title>\n",
       "<path fill=\"#f6d2b9\" stroke=\"black\" d=\"M453.5,-157C453.5,-157 249.5,-157 249.5,-157 243.5,-157 237.5,-151 237.5,-145 237.5,-145 237.5,-101 237.5,-101 237.5,-95 243.5,-89 249.5,-89 249.5,-89 453.5,-89 453.5,-89 459.5,-89 465.5,-95 465.5,-101 465.5,-101 465.5,-145 465.5,-145 465.5,-151 459.5,-157 453.5,-157\"\/>\n",
       "<text text-anchor=\"start\" x=\"302.5\" y=\"-141.8\" font-family=\"Helvetica,sans-Serif\" font-size=\"14.00\">temp ≤ 0.254<\/text>\n",
       "<text text-anchor=\"start\" x=\"245.5\" y=\"-126.8\" font-family=\"Helvetica,sans-Serif\" font-size=\"14.00\">squared_error = 1574574.583<\/text>\n",
       "<text text-anchor=\"start\" x=\"298.5\" y=\"-111.8\" font-family=\"Helvetica,sans-Serif\" font-size=\"14.00\">samples = 113<\/text>\n",
       "<text text-anchor=\"start\" x=\"288\" y=\"-96.8\" font-family=\"Helvetica,sans-Serif\" font-size=\"14.00\">value = 2446.442<\/text>\n",
       "<\/g>\n",
       "<!-- 1&#45;&gt;2 -->\n",
       "<g id=\"edge2\" class=\"edge\">\n",
       "<title>1&#45;&gt;2<\/title>\n",
       "<path fill=\"none\" stroke=\"black\" d=\"M593.39,-193.31C555.71,-182.51 513.62,-170.45 475.24,-159.45\"\/>\n",
       "<polygon fill=\"black\" stroke=\"black\" points=\"476.15,-156.07 465.57,-156.68 474.22,-162.8 476.15,-156.07\"\/>\n",
       "<\/g>\n",
       "<!-- 5 -->\n",
       "<g id=\"node6\" class=\"node\">\n",
       "<title>5<\/title>\n",
       "<path fill=\"#eda876\" stroke=\"black\" d=\"M809.5,-157C809.5,-157 605.5,-157 605.5,-157 599.5,-157 593.5,-151 593.5,-145 593.5,-145 593.5,-101 593.5,-101 593.5,-95 599.5,-89 605.5,-89 605.5,-89 809.5,-89 809.5,-89 815.5,-89 821.5,-95 821.5,-101 821.5,-101 821.5,-145 821.5,-145 821.5,-151 815.5,-157 809.5,-157\"\/>\n",
       "<text text-anchor=\"start\" x=\"644.5\" y=\"-141.8\" font-family=\"Helvetica,sans-Serif\" font-size=\"14.00\">weathersit ≤ 0.75<\/text>\n",
       "<text text-anchor=\"start\" x=\"601.5\" y=\"-126.8\" font-family=\"Helvetica,sans-Serif\" font-size=\"14.00\">squared_error = 1651537.155<\/text>\n",
       "<text text-anchor=\"start\" x=\"659\" y=\"-111.8\" font-family=\"Helvetica,sans-Serif\" font-size=\"14.00\">samples = 64<\/text>\n",
       "<text text-anchor=\"start\" x=\"644\" y=\"-96.8\" font-family=\"Helvetica,sans-Serif\" font-size=\"14.00\">value = 4247.031<\/text>\n",
       "<\/g>\n",
       "<!-- 1&#45;&gt;5 -->\n",
       "<g id=\"edge5\" class=\"edge\">\n",
       "<title>1&#45;&gt;5<\/title>\n",
       "<path fill=\"none\" stroke=\"black\" d=\"M707.5,-192.88C707.5,-184.78 707.5,-175.98 707.5,-167.47\"\/>\n",
       "<polygon fill=\"black\" stroke=\"black\" points=\"711,-167.3 707.5,-157.3 704,-167.3 711,-167.3\"\/>\n",
       "<\/g>\n",
       "<!-- 3 -->\n",
       "<g id=\"node4\" class=\"node\">\n",
       "<title>3<\/title>\n",
       "<path fill=\"#fae6d8\" stroke=\"black\" d=\"M207,-53C207,-53 12,-53 12,-53 6,-53 0,-47 0,-41 0,-41 0,-12 0,-12 0,-6 6,0 12,0 12,0 207,0 207,0 213,0 219,-6 219,-12 219,-12 219,-41 219,-41 219,-47 213,-53 207,-53\"\/>\n",
       "<text text-anchor=\"start\" x=\"8\" y=\"-37.8\" font-family=\"Helvetica,sans-Serif\" font-size=\"14.00\">squared_error = 522326.321<\/text>\n",
       "<text text-anchor=\"start\" x=\"61\" y=\"-22.8\" font-family=\"Helvetica,sans-Serif\" font-size=\"14.00\">samples = 38<\/text>\n",
       "<text text-anchor=\"start\" x=\"46\" y=\"-7.8\" font-family=\"Helvetica,sans-Serif\" font-size=\"14.00\">value = 1608.684<\/text>\n",
       "<\/g>\n",
       "<!-- 2&#45;&gt;3 -->\n",
       "<g id=\"edge3\" class=\"edge\">\n",
       "<title>2&#45;&gt;3<\/title>\n",
       "<path fill=\"none\" stroke=\"black\" d=\"M266.86,-88.95C240.03,-78.47 210.58,-66.97 184.48,-56.78\"\/>\n",
       "<polygon fill=\"black\" stroke=\"black\" points=\"185.61,-53.46 175.02,-53.09 183.07,-59.98 185.61,-53.46\"\/>\n",
       "<\/g>\n",
       "<!-- 4 -->\n",
       "<g id=\"node5\" class=\"node\">\n",
       "<title>4<\/title>\n",
       "<path fill=\"#f4c8a9\" stroke=\"black\" d=\"M453.5,-53C453.5,-53 249.5,-53 249.5,-53 243.5,-53 237.5,-47 237.5,-41 237.5,-41 237.5,-12 237.5,-12 237.5,-6 243.5,0 249.5,0 249.5,0 453.5,0 453.5,0 459.5,0 465.5,-6 465.5,-12 465.5,-12 465.5,-41 465.5,-41 465.5,-47 459.5,-53 453.5,-53\"\/>\n",
       "<text text-anchor=\"start\" x=\"245.5\" y=\"-37.8\" font-family=\"Helvetica,sans-Serif\" font-size=\"14.00\">squared_error = 1571945.471<\/text>\n",
       "<text text-anchor=\"start\" x=\"303\" y=\"-22.8\" font-family=\"Helvetica,sans-Serif\" font-size=\"14.00\">samples = 75<\/text>\n",
       "<text text-anchor=\"start\" x=\"288\" y=\"-7.8\" font-family=\"Helvetica,sans-Serif\" font-size=\"14.00\">value = 2870.907<\/text>\n",
       "<\/g>\n",
       "<!-- 2&#45;&gt;4 -->\n",
       "<g id=\"edge4\" class=\"edge\">\n",
       "<title>2&#45;&gt;4<\/title>\n",
       "<path fill=\"none\" stroke=\"black\" d=\"M351.5,-88.95C351.5,-80.72 351.5,-71.85 351.5,-63.48\"\/>\n",
       "<polygon fill=\"black\" stroke=\"black\" points=\"355,-63.24 351.5,-53.24 348,-63.24 355,-63.24\"\/>\n",
       "<\/g>\n",
       "<!-- 6 -->\n",
       "<g id=\"node7\" class=\"node\">\n",
       "<title>6<\/title>\n",
       "<path fill=\"#eda572\" stroke=\"black\" d=\"M699.5,-53C699.5,-53 495.5,-53 495.5,-53 489.5,-53 483.5,-47 483.5,-41 483.5,-41 483.5,-12 483.5,-12 483.5,-6 489.5,0 495.5,0 495.5,0 699.5,0 699.5,0 705.5,0 711.5,-6 711.5,-12 711.5,-12 711.5,-41 711.5,-41 711.5,-47 705.5,-53 699.5,-53\"\/>\n",
       "<text text-anchor=\"start\" x=\"491.5\" y=\"-37.8\" font-family=\"Helvetica,sans-Serif\" font-size=\"14.00\">squared_error = 1380100.159<\/text>\n",
       "<text text-anchor=\"start\" x=\"549\" y=\"-22.8\" font-family=\"Helvetica,sans-Serif\" font-size=\"14.00\">samples = 62<\/text>\n",
       "<text text-anchor=\"start\" x=\"534\" y=\"-7.8\" font-family=\"Helvetica,sans-Serif\" font-size=\"14.00\">value = 4346.742<\/text>\n",
       "<\/g>\n",
       "<!-- 5&#45;&gt;6 -->\n",
       "<g id=\"edge6\" class=\"edge\">\n",
       "<title>5&#45;&gt;6<\/title>\n",
       "<path fill=\"none\" stroke=\"black\" d=\"M669.03,-88.95C658.06,-79.53 646.12,-69.27 635.2,-59.89\"\/>\n",
       "<polygon fill=\"black\" stroke=\"black\" points=\"637.32,-57.1 627.46,-53.24 632.76,-62.41 637.32,-57.1\"\/>\n",
       "<\/g>\n",
       "<!-- 7 -->\n",
       "<g id=\"node8\" class=\"node\">\n",
       "<title>7<\/title>\n",
       "<path fill=\"#fcf1e9\" stroke=\"black\" d=\"M919,-53C919,-53 742,-53 742,-53 736,-53 730,-47 730,-41 730,-41 730,-12 730,-12 730,-6 736,0 742,0 742,0 919,0 919,0 925,0 931,-6 931,-12 931,-12 931,-41 931,-41 931,-47 925,-53 919,-53\"\/>\n",
       "<text text-anchor=\"start\" x=\"738\" y=\"-37.8\" font-family=\"Helvetica,sans-Serif\" font-size=\"14.00\">squared_error = 203401.0<\/text>\n",
       "<text text-anchor=\"start\" x=\"786.5\" y=\"-22.8\" font-family=\"Helvetica,sans-Serif\" font-size=\"14.00\">samples = 2<\/text>\n",
       "<text text-anchor=\"start\" x=\"776\" y=\"-7.8\" font-family=\"Helvetica,sans-Serif\" font-size=\"14.00\">value = 1156.0<\/text>\n",
       "<\/g>\n",
       "<!-- 5&#45;&gt;7 -->\n",
       "<g id=\"edge7\" class=\"edge\">\n",
       "<title>5&#45;&gt;7<\/title>\n",
       "<path fill=\"none\" stroke=\"black\" d=\"M750.52,-88.95C763.02,-79.34 776.65,-68.87 789.05,-59.34\"\/>\n",
       "<polygon fill=\"black\" stroke=\"black\" points=\"791.2,-62.1 797,-53.24 786.94,-56.55 791.2,-62.1\"\/>\n",
       "<\/g>\n",
       "<!-- 9 -->\n",
       "<g id=\"node10\" class=\"node\">\n",
       "<title>9<\/title>\n",
       "<path fill=\"#e68540\" stroke=\"black\" d=\"M1284,-157C1284,-157 1089,-157 1089,-157 1083,-157 1077,-151 1077,-145 1077,-145 1077,-101 1077,-101 1077,-95 1083,-89 1089,-89 1089,-89 1284,-89 1284,-89 1290,-89 1296,-95 1296,-101 1296,-101 1296,-145 1296,-145 1296,-151 1290,-157 1284,-157\"\/>\n",
       "<text text-anchor=\"start\" x=\"1123.5\" y=\"-141.8\" font-family=\"Helvetica,sans-Serif\" font-size=\"14.00\">weathersit ≤ 0.25<\/text>\n",
       "<text text-anchor=\"start\" x=\"1085\" y=\"-126.8\" font-family=\"Helvetica,sans-Serif\" font-size=\"14.00\">squared_error = 1994940.71<\/text>\n",
       "<text text-anchor=\"start\" x=\"1133.5\" y=\"-111.8\" font-family=\"Helvetica,sans-Serif\" font-size=\"14.00\">samples = 240<\/text>\n",
       "<text text-anchor=\"start\" x=\"1123\" y=\"-96.8\" font-family=\"Helvetica,sans-Serif\" font-size=\"14.00\">value = 5693.738<\/text>\n",
       "<\/g>\n",
       "<!-- 8&#45;&gt;9 -->\n",
       "<g id=\"edge9\" class=\"edge\">\n",
       "<title>8&#45;&gt;9<\/title>\n",
       "<path fill=\"none\" stroke=\"black\" d=\"M1186.5,-192.88C1186.5,-184.78 1186.5,-175.98 1186.5,-167.47\"\/>\n",
       "<polygon fill=\"black\" stroke=\"black\" points=\"1190,-167.3 1186.5,-157.3 1183,-167.3 1190,-167.3\"\/>\n",
       "<\/g>\n",
       "<!-- 12 -->\n",
       "<g id=\"node13\" class=\"node\">\n",
       "<title>12<\/title>\n",
       "<path fill=\"#f2bf9a\" stroke=\"black\" d=\"M1657.5,-157C1657.5,-157 1453.5,-157 1453.5,-157 1447.5,-157 1441.5,-151 1441.5,-145 1441.5,-145 1441.5,-101 1441.5,-101 1441.5,-95 1447.5,-89 1453.5,-89 1453.5,-89 1657.5,-89 1657.5,-89 1663.5,-89 1669.5,-95 1669.5,-101 1669.5,-101 1669.5,-145 1669.5,-145 1669.5,-151 1663.5,-157 1657.5,-157\"\/>\n",
       "<text text-anchor=\"start\" x=\"1496\" y=\"-141.8\" font-family=\"Helvetica,sans-Serif\" font-size=\"14.00\">windspeed ≤ 0.8<\/text>\n",
       "<text text-anchor=\"start\" x=\"1449.5\" y=\"-126.8\" font-family=\"Helvetica,sans-Serif\" font-size=\"14.00\">squared_error = 1708766.562<\/text>\n",
       "<text text-anchor=\"start\" x=\"1507\" y=\"-111.8\" font-family=\"Helvetica,sans-Serif\" font-size=\"14.00\">samples = 21<\/text>\n",
       "<text text-anchor=\"start\" x=\"1492\" y=\"-96.8\" font-family=\"Helvetica,sans-Serif\" font-size=\"14.00\">value = 3267.905<\/text>\n",
       "<\/g>\n",
       "<!-- 8&#45;&gt;12 -->\n",
       "<g id=\"edge12\" class=\"edge\">\n",
       "<title>8&#45;&gt;12<\/title>\n",
       "<path fill=\"none\" stroke=\"black\" d=\"M1300.73,-194.43C1342.26,-182.94 1389.38,-169.92 1431.7,-158.22\"\/>\n",
       "<polygon fill=\"black\" stroke=\"black\" points=\"1432.79,-161.55 1441.5,-155.51 1430.92,-154.8 1432.79,-161.55\"\/>\n",
       "<\/g>\n",
       "<!-- 10 -->\n",
       "<g id=\"node11\" class=\"node\">\n",
       "<title>10<\/title>\n",
       "<path fill=\"#e58139\" stroke=\"black\" d=\"M1165.5,-53C1165.5,-53 961.5,-53 961.5,-53 955.5,-53 949.5,-47 949.5,-41 949.5,-41 949.5,-12 949.5,-12 949.5,-6 955.5,0 961.5,0 961.5,0 1165.5,0 1165.5,0 1171.5,0 1177.5,-6 1177.5,-12 1177.5,-12 1177.5,-41 1177.5,-41 1177.5,-47 1171.5,-53 1165.5,-53\"\/>\n",
       "<text text-anchor=\"start\" x=\"957.5\" y=\"-37.8\" font-family=\"Helvetica,sans-Serif\" font-size=\"14.00\">squared_error = 1890288.206<\/text>\n",
       "<text text-anchor=\"start\" x=\"1010.5\" y=\"-22.8\" font-family=\"Helvetica,sans-Serif\" font-size=\"14.00\">samples = 179<\/text>\n",
       "<text text-anchor=\"start\" x=\"1000\" y=\"-7.8\" font-family=\"Helvetica,sans-Serif\" font-size=\"14.00\">value = 5880.648<\/text>\n",
       "<\/g>\n",
       "<!-- 9&#45;&gt;10 -->\n",
       "<g id=\"edge10\" class=\"edge\">\n",
       "<title>9&#45;&gt;10<\/title>\n",
       "<path fill=\"none\" stroke=\"black\" d=\"M1143.48,-88.95C1130.98,-79.34 1117.35,-68.87 1104.95,-59.34\"\/>\n",
       "<polygon fill=\"black\" stroke=\"black\" points=\"1107.06,-56.55 1097,-53.24 1102.8,-62.1 1107.06,-56.55\"\/>\n",
       "<\/g>\n",
       "<!-- 11 -->\n",
       "<g id=\"node12\" class=\"node\">\n",
       "<title>11<\/title>\n",
       "<path fill=\"#e99254\" stroke=\"black\" d=\"M1411.5,-53C1411.5,-53 1207.5,-53 1207.5,-53 1201.5,-53 1195.5,-47 1195.5,-41 1195.5,-41 1195.5,-12 1195.5,-12 1195.5,-6 1201.5,0 1207.5,0 1207.5,0 1411.5,0 1411.5,0 1417.5,0 1423.5,-6 1423.5,-12 1423.5,-12 1423.5,-41 1423.5,-41 1423.5,-47 1417.5,-53 1411.5,-53\"\/>\n",
       "<text text-anchor=\"start\" x=\"1203.5\" y=\"-37.8\" font-family=\"Helvetica,sans-Serif\" font-size=\"14.00\">squared_error = 1898694.915<\/text>\n",
       "<text text-anchor=\"start\" x=\"1261\" y=\"-22.8\" font-family=\"Helvetica,sans-Serif\" font-size=\"14.00\">samples = 61<\/text>\n",
       "<text text-anchor=\"start\" x=\"1246\" y=\"-7.8\" font-family=\"Helvetica,sans-Serif\" font-size=\"14.00\">value = 5145.262<\/text>\n",
       "<\/g>\n",
       "<!-- 9&#45;&gt;11 -->\n",
       "<g id=\"edge11\" class=\"edge\">\n",
       "<title>9&#45;&gt;11<\/title>\n",
       "<path fill=\"none\" stroke=\"black\" d=\"M1229.52,-88.95C1242.02,-79.34 1255.65,-68.87 1268.05,-59.34\"\/>\n",
       "<polygon fill=\"black\" stroke=\"black\" points=\"1270.2,-62.1 1276,-53.24 1265.94,-56.55 1270.2,-62.1\"\/>\n",
       "<\/g>\n",
       "<!-- 13 -->\n",
       "<g id=\"node14\" class=\"node\">\n",
       "<title>13<\/title>\n",
       "<path fill=\"#f0b890\" stroke=\"black\" d=\"M1657.5,-53C1657.5,-53 1453.5,-53 1453.5,-53 1447.5,-53 1441.5,-47 1441.5,-41 1441.5,-41 1441.5,-12 1441.5,-12 1441.5,-6 1447.5,0 1453.5,0 1453.5,0 1657.5,0 1657.5,0 1663.5,0 1669.5,-6 1669.5,-12 1669.5,-12 1669.5,-41 1669.5,-41 1669.5,-47 1663.5,-53 1657.5,-53\"\/>\n",
       "<text text-anchor=\"start\" x=\"1449.5\" y=\"-37.8\" font-family=\"Helvetica,sans-Serif\" font-size=\"14.00\">squared_error = 1009428.471<\/text>\n",
       "<text text-anchor=\"start\" x=\"1507\" y=\"-22.8\" font-family=\"Helvetica,sans-Serif\" font-size=\"14.00\">samples = 19<\/text>\n",
       "<text text-anchor=\"start\" x=\"1492\" y=\"-7.8\" font-family=\"Helvetica,sans-Serif\" font-size=\"14.00\">value = 3552.053<\/text>\n",
       "<\/g>\n",
       "<!-- 12&#45;&gt;13 -->\n",
       "<g id=\"edge13\" class=\"edge\">\n",
       "<title>12&#45;&gt;13<\/title>\n",
       "<path fill=\"none\" stroke=\"black\" d=\"M1555.5,-88.95C1555.5,-80.72 1555.5,-71.85 1555.5,-63.48\"\/>\n",
       "<polygon fill=\"black\" stroke=\"black\" points=\"1559,-63.24 1555.5,-53.24 1552,-63.24 1559,-63.24\"\/>\n",
       "<\/g>\n",
       "<!-- 14 -->\n",
       "<g id=\"node15\" class=\"node\">\n",
       "<title>14<\/title>\n",
       "<path fill=\"#ffffff\" stroke=\"black\" d=\"M1885.5,-53C1885.5,-53 1699.5,-53 1699.5,-53 1693.5,-53 1687.5,-47 1687.5,-41 1687.5,-41 1687.5,-12 1687.5,-12 1687.5,-6 1693.5,0 1699.5,0 1699.5,0 1885.5,0 1885.5,0 1891.5,0 1897.5,-6 1897.5,-12 1897.5,-12 1897.5,-41 1897.5,-41 1897.5,-47 1891.5,-53 1885.5,-53\"\/>\n",
       "<text text-anchor=\"start\" x=\"1695.5\" y=\"-37.8\" font-family=\"Helvetica,sans-Serif\" font-size=\"14.00\">squared_error = 298662.25<\/text>\n",
       "<text text-anchor=\"start\" x=\"1748.5\" y=\"-22.8\" font-family=\"Helvetica,sans-Serif\" font-size=\"14.00\">samples = 2<\/text>\n",
       "<text text-anchor=\"start\" x=\"1742.5\" y=\"-7.8\" font-family=\"Helvetica,sans-Serif\" font-size=\"14.00\">value = 568.5<\/text>\n",
       "<\/g>\n",
       "<!-- 12&#45;&gt;14 -->\n",
       "<g id=\"edge14\" class=\"edge\">\n",
       "<title>12&#45;&gt;14<\/title>\n",
       "<path fill=\"none\" stroke=\"black\" d=\"M1638.39,-88.95C1664.55,-78.52 1693.26,-67.07 1718.74,-56.91\"\/>\n",
       "<polygon fill=\"black\" stroke=\"black\" points=\"1720.34,-60.04 1728.33,-53.09 1717.75,-53.54 1720.34,-60.04\"\/>\n",
       "<\/g>\n",
       "<\/g>\n",
       "<\/svg>\n"
      ]
     },
     "metadata":{
      
     },
     "output_type":"display_data"
    }
   ],
   "metadata":{
    "datalore":{
     "node_id":"PfmBgcl7yhJMOMnASFykBw",
     "type":"CODE",
     "hide_input_from_viewers":true,
     "hide_output_from_viewers":true
    }
   }
  },
  {
   "cell_type":"markdown",
   "source":[
    "Подберите оптимальное значение максимальной глубины дерева. Для этого обучите решающие деревья с выставленным значением соответствующего гиперпараметра и посчитайте ошибку предсказаний каждого из них на валидационной выборке. Постройте соответствующий график."
   ],
   "attachments":{
    
   },
   "metadata":{
    "datalore":{
     "node_id":"jYs5XjkgdDjHTsQjcmmOeg",
     "type":"MD",
     "hide_input_from_viewers":false,
     "hide_output_from_viewers":false,
     "report_properties":{
      "rowId":"4xGV9luLeeI0dk72laB8TS"
     }
    }
   }
  },
  {
   "cell_type":"code",
   "source":[
    "def mean_absolute_percentage_error(y_true, y_pred):\n",
    "    return 100 * (np.abs(y_true - y_pred) \/ y_true).mean()"
   ],
   "execution_count":12,
   "outputs":[
    
   ],
   "metadata":{
    "datalore":{
     "node_id":"L37jalqKibzhMlP4nLJqt1",
     "type":"CODE",
     "hide_input_from_viewers":true,
     "hide_output_from_viewers":true
    }
   }
  },
  {
   "cell_type":"code",
   "source":[
    "min_error = pow(10, 6)\n",
    "best_depth = 0\n",
    "\n",
    "graph_error = []\n",
    "depth_values = []\n",
    "\n",
    "for depth in list(range(1, 21)):\n",
    "    des_tree = DecisionTreeRegressor(max_depth=depth, min_samples_split=10)\n",
    "    des_tree.fit(train[all_features], train[target_feature])\n",
    "    mape =  mean_absolute_percentage_error(validate[target_feature], des_tree.predict(validate[all_features]))\n",
    "    if (mape < min_error):\n",
    "        min_error = mape\n",
    "        best_depth = depth\n",
    "\n",
    "    graph_error.append(mape)\n",
    "    depth_values.append(depth)\n",
    "\n",
    "print(best_depth, min_error)\n",
    "\n",
    "#Построим график\n",
    "plt.figure(figsize=(15, 7))\n",
    "plt.plot(depth_values, graph_error)    \n",
    "\n",
    "plt.xlabel('Глубина дерева')\n",
    "plt.ylabel('Доля отклонений значений, в %')\n",
    "plt.title(\"Зависимость качества от глубины дерева по метрике MAPE\")\n"
   ],
   "execution_count":13,
   "outputs":[
    {
     "name":"stdout",
     "text":[
      "4 32.76305834783672\n"
     ],
     "output_type":"stream"
    },
    {
     "data":{
      "text\/plain":[
       "Text(0.5, 1.0, 'Зависимость качества от глубины дерева по метрике MAPE')"
      ]
     },
     "metadata":{
      
     },
     "output_type":"display_data"
    },
    {
     "data":{
      "image\/png":"[encoded data removed]"
     },
     "metadata":{
      "image\/png":{
       
      }
     },
     "output_type":"display_data"
    }
   ],
   "metadata":{
    "datalore":{
     "node_id":"HaSurPKx4sxYT1nF6RbvUd",
     "type":"CODE",
     "hide_input_from_viewers":true,
     "hide_output_from_viewers":true
    }
   }
  },
  {
   "cell_type":"markdown",
   "source":[
    "Аналогичным образом подберите минимальное число объектов в листе, зафиксировав при этом подобранное значение максимальной глубины."
   ],
   "attachments":{
    
   },
   "metadata":{
    "datalore":{
     "node_id":"86mDNYSfYvbeM3YoRa6gGc",
     "type":"MD",
     "hide_input_from_viewers":false,
     "hide_output_from_viewers":false,
     "report_properties":{
      "rowId":"CTOZtbesMziYgZciD6i2rH"
     }
    }
   }
  },
  {
   "cell_type":"code",
   "source":[
    "min_error = pow(10, 6)\n",
    "best_split = 0\n",
    "\n",
    "graph_error = []\n",
    "split_values = []\n",
    "\n",
    "for split in list(range(2, 50)):\n",
    "    des_tree = DecisionTreeRegressor(max_depth=best_depth, min_samples_split=split)\n",
    "    des_tree.fit(train[all_features], train[target_feature])\n",
    "    mape = mean_absolute_percentage_error(validate[target_feature], des_tree.predict(validate[all_features]))\n",
    "    if (mape < min_error):\n",
    "        min_error = mape\n",
    "        best_split = split\n",
    "\n",
    "    graph_error.append(mape)\n",
    "    split_values.append(split)\n",
    "\n",
    "print(best_split, min_error)\n",
    "\n",
    "#Построим график\n",
    "plt.figure(figsize=(15, 7))\n",
    "plt.plot(split_values, graph_error)    \n",
    "\n",
    "plt.xlabel('Степень листа')\n",
    "plt.ylabel('Доля отклонений значений, в %')\n",
    "plt.title(\"Зависимость качества от числа обьектов в листе по метрике MAPE\")"
   ],
   "execution_count":14,
   "outputs":[
    {
     "name":"stdout",
     "text":[
      "39 32.71882644917099\n"
     ],
     "output_type":"stream"
    },
    {
     "data":{
      "text\/plain":[
       "Text(0.5, 1.0, 'Зависимость качества от числа обьектов в листе по метрике MAPE')"
      ]
     },
     "metadata":{
      
     },
     "output_type":"display_data"
    },
    {
     "data":{
      "image\/png":"[encoded data removed]"
     },
     "metadata":{
      "image\/png":{
       
      }
     },
     "output_type":"display_data"
    }
   ],
   "metadata":{
    "datalore":{
     "node_id":"dfSEP6iIOMdkQ7t8kQrscQ",
     "type":"CODE",
     "hide_input_from_viewers":false,
     "hide_output_from_viewers":false,
     "report_properties":{
      "rowId":"oJdsDm4MdBoebTtjh8gwpF"
     }
    }
   }
  },
  {
   "cell_type":"markdown",
   "source":[
    "Визуализируйте дерево при оптимальных гиперпараметрах и посчитайте его ошибку на тестовой части выборки."
   ],
   "attachments":{
    
   },
   "metadata":{
    "datalore":{
     "node_id":"MU6pgpM6ZFoDC8SxHMZd6C",
     "type":"MD",
     "hide_input_from_viewers":false,
     "hide_output_from_viewers":false,
     "report_properties":{
      "rowId":"swXSFSL31M6Vj5wIThc0Sp"
     }
    }
   }
  },
  {
   "cell_type":"code",
   "source":[
    "des_tree = DecisionTreeRegressor(max_depth=best_depth, min_samples_split=best_split)\n",
    "des_tree.fit(train[all_features], train[target_feature])\n",
    "\n",
    "print(\"Ошибка на тестовой выборке\", mean_absolute_percentage_error(test[target_feature], des_tree.predict(test[all_features]))) \n"
   ],
   "execution_count":15,
   "outputs":[
    {
     "name":"stdout",
     "text":[
      "Ошибка на тестовой выборке 31.307522799999543\n"
     ],
     "output_type":"stream"
    }
   ],
   "metadata":{
    "datalore":{
     "node_id":"d1NBtQSNK3t9Jbp9R8dD6U",
     "type":"CODE",
     "hide_input_from_viewers":false,
     "hide_output_from_viewers":false,
     "report_properties":{
      "rowId":"ZuoPwg8Ygwn3CEiYPEGZFC"
     }
    }
   }
  },
  {
   "cell_type":"markdown",
   "source":[
    "Решающее дерево позволяет оценить *важность признаков* &mdash; некоторая величина, зависящая от того\n",
    "* насколько часто тот или иной признак использовался при разбиении листа, \n",
    "* и насколько сильно при этом изменился критерий информативности.\n",
    "\n",
    "У обученной модели значения важности признаков лежат в поле `feature_importances_`. Визуализируйте их с помощью `seaborn.barplot`."
   ],
   "attachments":{
    
   },
   "metadata":{
    "datalore":{
     "node_id":"x9ZSYnxZnxTvmL0UfdC4d0",
     "type":"MD",
     "hide_input_from_viewers":false,
     "hide_output_from_viewers":false,
     "report_properties":{
      "rowId":"zEZZYPhl8db3dIDwfs2h01"
     }
    }
   }
  },
  {
   "cell_type":"code",
   "source":[
    "importances = des_tree.feature_importances_\n",
    "feat_imp = pd.DataFrame({'Feature': all_features, 'Importance': importances})\n",
    "feat_imp = feat_imp.sort_values(by='Importance', ascending=False)\n",
    "sns.barplot(x='Importance', y='Feature', data=feat_imp)"
   ],
   "execution_count":16,
   "outputs":[
    {
     "data":{
      "text\/plain":[
       "<AxesSubplot:xlabel='Importance', ylabel='Feature'>"
      ]
     },
     "metadata":{
      
     },
     "output_type":"display_data"
    },
    {
     "data":{
      "image\/png":"[encoded data removed]"
     },
     "metadata":{
      "image\/png":{
       
      }
     },
     "output_type":"display_data"
    }
   ],
   "metadata":{
    "datalore":{
     "node_id":"d3WaJ1heBHZgNroP1x9afE",
     "type":"CODE",
     "hide_input_from_viewers":false,
     "hide_output_from_viewers":false,
     "report_properties":{
      "rowId":"YOVSTF5VA13RW9TYEcoSgf"
     }
    }
   }
  },
  {
   "cell_type":"markdown",
   "source":[
    "**Выводы:**\n",
    "\n",
    "После значения 10 обоих гиперпараметров, качество сильно падает - происходит переобучение. Идеальной глубиной дерева является значение 5, идеальным количеством обьектов - 39. Из визуализации дерева интересно отметить, что на количество арендованных велосипедов прежде всего влияют погодные параметры: влажность, температура, скорость ветра. Выходной это, или нет, не влияет вообще, хотя в прошлом задании мы обращали на это внимание. Самым важным признаком стала температура. \n",
    "\n",
    "В целом качество модели наравне с хорошо настроенной линейной регрессией."
   ],
   "attachments":{
    
   },
   "metadata":{
    "datalore":{
     "node_id":"WPvIn51JMKfMpK6u9Wtx7H",
     "type":"MD",
     "hide_input_from_viewers":false,
     "hide_output_from_viewers":false,
     "report_properties":{
      "rowId":"IQ5GV6wZz46Yab7uiDnErv"
     }
    }
   }
  },
  {
   "cell_type":"markdown",
   "source":[
    "---\n",
    "### Задача 3.\n",
    "\n",
    "Для данных из предыдущей части обучите случайный лес на 500 деревьев."
   ],
   "attachments":{
    
   },
   "metadata":{
    "datalore":{
     "node_id":"KZrKZDElvTjKCw0Uo33LAi",
     "type":"MD",
     "hide_input_from_viewers":false,
     "hide_output_from_viewers":false,
     "report_properties":{
      "rowId":"2STUJDvpXsuPmx4luuhP9d"
     }
    }
   }
  },
  {
   "cell_type":"code",
   "source":[
    "n_estimators = 500\n",
    "forest = RandomForestRegressor(n_estimators=n_estimators)\n",
    "forest.fit(train[all_features], train[target_feature])\n",
    "print(\"Ошибка на тестовой выборке\", mean_absolute_percentage_error(test[target_feature], forest.predict(test[all_features]))) "
   ],
   "execution_count":17,
   "outputs":[
    {
     "name":"stdout",
     "text":[
      "Ошибка на тестовой выборке 29.455992809667926\n"
     ],
     "output_type":"stream"
    }
   ],
   "metadata":{
    "datalore":{
     "node_id":"g7hi8KOw9z6TfdYiPrnsBk",
     "type":"CODE",
     "hide_input_from_viewers":false,
     "hide_output_from_viewers":false,
     "report_properties":{
      "rowId":"c8M9B0F1ZpNLgLWRwDj1hr"
     }
    }
   }
  },
  {
   "cell_type":"markdown",
   "source":[
    "Постройте график зависимости ошибки модели в зависимости от количества деревьев для обучающей и валидационной выборок.\n",
    "\n",
    "*Замечание.* Не нужно заново обучать лес каждый раз. Используйте у *обученной* модели поле `estimators_`, это список из объектов класса `DecisionTreeRegressor`. Обратите внимание, что это приватное поле объекта, и менять его очень плохо, за такое баллы будут снижаться."
   ],
   "attachments":{
    
   },
   "metadata":{
    "datalore":{
     "node_id":"13qLjZAlRHhIoOXDUeGR2P",
     "type":"MD",
     "hide_input_from_viewers":false,
     "hide_output_from_viewers":false,
     "report_properties":{
      "rowId":"DrpaTCduC6n9bccPQn0oAf"
     }
    }
   }
  },
  {
   "cell_type":"code",
   "source":[
    "presum_train = 0\n",
    "rslt_list_train = []\n",
    "\n",
    "presum_valid = 0\n",
    "rslt_list_valid = []\n",
    "\n",
    "for i in range(1, len(forest.estimators_)):\n",
    "    presum_train += forest.estimators_[i].predict(train[all_features])\n",
    "    rslt_list_train.append(mean_absolute_percentage_error(train[target_feature], presum_train\/i))\n",
    "\n",
    "    presum_valid += forest.estimators_[i].predict(validate[all_features])\n",
    "    rslt_list_valid.append(mean_absolute_percentage_error(validate[target_feature], presum_valid\/i))\n",
    "\n",
    "plt.figure(figsize=(15, 7))\n",
    "plt.plot(range(len(rslt_list_train)), rslt_list_train, label='Обучающая выборка')    \n",
    "plt.plot(range(len(rslt_list_valid)), rslt_list_valid, label='Валидационная выборка')    \n",
    "\n",
    "plt.xlabel('Количество деревьев')\n",
    "plt.ylabel('Доля отклонений значений, в %')\n",
    "plt.title(\"Качество в зависимости от количества деревьев в случайном лесе по метрике MAPE\")\n",
    "plt.legend()"
   ],
   "execution_count":18,
   "outputs":[
    {
     "data":{
      "text\/plain":[
       "<matplotlib.legend.Legend at 0x7fc5e8b8f3a0>"
      ]
     },
     "metadata":{
      
     },
     "output_type":"display_data"
    },
    {
     "data":{
      "image\/png":"[encoded data removed]"
     },
     "metadata":{
      "image\/png":{
       
      }
     },
     "output_type":"display_data"
    }
   ],
   "metadata":{
    "datalore":{
     "node_id":"j2PrIEPyrh5rZbzLQw2meG",
     "type":"CODE",
     "hide_input_from_viewers":false,
     "hide_output_from_viewers":false,
     "report_properties":{
      "rowId":"JbYUpkcxO4EOyeBKEiRZAf"
     }
    }
   }
  },
  {
   "cell_type":"markdown",
   "source":[
    "Для леса с максимальным количеством деревьев визуализируйте\n",
    "важность признаков, используя поле `feature_importances_`. "
   ],
   "attachments":{
    
   },
   "metadata":{
    "datalore":{
     "node_id":"qWzOY8yGxK2JJWJZTx2h6E",
     "type":"MD",
     "hide_input_from_viewers":false,
     "hide_output_from_viewers":false,
     "report_properties":{
      "rowId":"NTfElg0QoohzH2FRMMoeaS"
     }
    }
   }
  },
  {
   "cell_type":"code",
   "source":[
    "importances = forest.feature_importances_\n",
    "feat_imp = pd.DataFrame({'Feature': all_features, 'Importance': importances})\n",
    "feat_imp = feat_imp.sort_values(by='Importance', ascending=False)\n",
    "sns.barplot(x='Importance', y='Feature', data=feat_imp)"
   ],
   "execution_count":19,
   "outputs":[
    {
     "data":{
      "text\/plain":[
       "<AxesSubplot:xlabel='Importance', ylabel='Feature'>"
      ]
     },
     "metadata":{
      
     },
     "output_type":"display_data"
    },
    {
     "data":{
      "image\/png":"[encoded data removed]"
     },
     "metadata":{
      "image\/png":{
       
      }
     },
     "output_type":"display_data"
    }
   ],
   "metadata":{
    "datalore":{
     "node_id":"x0f3kGwiNEvkwqICVZoEsm",
     "type":"CODE",
     "hide_input_from_viewers":false,
     "hide_output_from_viewers":false,
     "report_properties":{
      "rowId":"YSEIDF1KYTi5HaJBbHQhHT"
     }
    }
   }
  },
  {
   "cell_type":"markdown",
   "source":[
    "**Выводы:**\n",
    "\n",
    "Во-первых, качество в случайном лесе улучшилось, до 29%. Из графика видно, что с увеличением количества деревеьев в лесу, значение ошибки сходится к какому-то конкретному.\n",
    "\n",
    "Видно, что, в сравнении с одним решающим деревом, значимость всех признаков значительно подросла, а важность признака \"temp\" занимает почти половину."
   ],
   "attachments":{
    
   },
   "metadata":{
    "datalore":{
     "node_id":"yiBb3dXLFFMK1Sy1ctQ0rH",
     "type":"MD",
     "hide_input_from_viewers":false,
     "hide_output_from_viewers":false,
     "report_properties":{
      "rowId":"90gRk7w9XJLAQyJZNYcW4i"
     }
    }
   }
  }
 ],
 "metadata":{
  "kernelspec":{
   "display_name":"Python",
   "language":"python",
   "name":"python"
  },
  "datalore":{
   "computation_mode":"JUPYTER",
   "package_manager":"pip",
   "base_environment":"default",
   "packages":[
    {
     "name":"graphviz",
     "source":"PIP"
    }
   ],
   "report_row_ids":[
    "EW9SVTQtQC41PeASlKUKZu",
    "NKZpMezPQSTivE4tgCYDtI",
    "FLW7Ilh7Ke7AcjNV6lLjBV",
    "ThHIGQBXq9Uqv2GzwRh37C",
    "n5T5FOodFuXHmke8dav0B4",
    "s1pMFvfV5GK4G5lmSm5WUv",
    "0Fb1FFvNtyJuIlCegwAdM6",
    "2NbrUS3kJRszc7487eArHs",
    "e0g5aMwyrbx72gs6I2EBXn",
    "ywEk2bCtGXP9J0Id1BKlcP",
    "bca2NTeB9AggxI2QVyBhBg",
    "Xo8cyPTGSKcvXXK9r5GOOH",
    "B8ZxmG48o3nyHqFgyWBdGE",
    "cSz8XlOr72NcHt2GO8e4WI",
    "4xGV9luLeeI0dk72laB8TS",
    "DTRNfTCFQU6BUFDRDNK90w",
    "CTOZtbesMziYgZciD6i2rH",
    "oJdsDm4MdBoebTtjh8gwpF",
    "swXSFSL31M6Vj5wIThc0Sp",
    "ZuoPwg8Ygwn3CEiYPEGZFC",
    "zEZZYPhl8db3dIDwfs2h01",
    "YOVSTF5VA13RW9TYEcoSgf",
    "IQ5GV6wZz46Yab7uiDnErv",
    "2STUJDvpXsuPmx4luuhP9d",
    "c8M9B0F1ZpNLgLWRwDj1hr",
    "DrpaTCduC6n9bccPQn0oAf",
    "JbYUpkcxO4EOyeBKEiRZAf",
    "NTfElg0QoohzH2FRMMoeaS",
    "YSEIDF1KYTi5HaJBbHQhHT",
    "90gRk7w9XJLAQyJZNYcW4i"
   ],
   "version":2
  }
 },
 "nbformat":4,
 "nbformat_minor":4
}