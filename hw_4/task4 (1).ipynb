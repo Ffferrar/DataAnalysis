{
  "cells": [
    {
      "cell_type": "markdown",
      "metadata": {
        "id": "jTCkW1tjfeCe"
      },
      "source": [
        "# <a href=\"https://miptstats.github.io/courses/ad_fivt.html\">Введение в анализ данных</a>\n",
        "## Домашнее задание 4. Анализ вакансий.\n"
      ]
    },
    {
      "cell_type": "markdown",
      "metadata": {
        "id": "Xn9j96lGfeCj"
      },
      "source": [
        "**Правила, <font color=\"red\">прочитайте внимательно</font>:**\n",
        "\n",
        "* Выполненную работу нужно отправить телеграм-боту `@miptstats_ds23_bot`. Для начала работы с ботом каждый раз отправляйте `/start`. Дождитесь подтверждения от бота, что он принял файл. Если подтверждения нет, то что-то не так. **Работы, присланные иным способом, не принимаются.**\n",
        "* Дедлайн см. в боте. После дедлайна работы не принимаются кроме случаев наличия уважительной причины.\n",
        "* Прислать нужно **ноутбук в формате `ipynb` и полученные данные** (подробности далее). Если вы строите интерактивные графики, их стоит прислать в формате html.\n",
        "* Следите за размером файлов. **Бот не может принимать файлы весом более 20 Мб.** Если файл получается больше, заранее разделите его на несколько.\n",
        "* Будьте внимательны при работе со сбором данных. Ответственность за корректность ваших действий лежит на вас. Не нагружайте сервера, *делайте паузы между запросами*. Как следствие, начинайте выполнять задание заранее. **Если вас где-то забаннили и т.п., то это не является уважительной причиной продления дедлайна.**\n",
        "* Выполнять задание необходимо полностью самостоятельно. **При обнаружении списывания все участники списывания будут сдавать устный зачет.**\n",
        "* Решения, размещенные на каких-либо интернет-ресурсах, не принимаются. Кроме того, публикация решения в открытом доступе может быть приравнена к предоставлении возможности списать.\n",
        "* Для выполнения задания используйте этот ноутбук в качестве основы, ничего не удаляя из него. Можно добавлять необходимое количество ячеек.\n",
        "* Комментарии к решению пишите в markdown-ячейках.\n",
        "* Выполнение задания (ход решения, выводы и пр.) должно быть осуществлено на русском языке.\n",
        "* Если код будет не понятен проверяющему, оценка может быть снижена.\n",
        "* Никакой код из данного задания при проверке запускаться не будет. *Если код студента не выполнен, недописан и т.д., то он не оценивается.*\n",
        "\n",
        "**Перед выполнением задания посмотрите презентацию по выполнению и оформлению домашних заданий с занятия 2.**\n",
        "\n",
        "---\n",
        "\n",
        "**Баллы за задание:**\n",
        "\n",
        "<b><a href=\"#Легкая-часть\" style=\"text-decoration: none;\"><font color=\"blue\">Легкая часть</font></a></b> (достаточно на \"хор\"):\n",
        "* Задача 1 &mdash; 60 баллов\n",
        "\n",
        "<b><a href=\"#Сложная-часть\" style=\"text-decoration: none;\"><font color=\"orange\">Сложная часть</font></a></b> (необходимо на \"отл\"):\n",
        "* Задача 2 &mdash; 60 баллов"
      ]
    },
    {
      "cell_type": "code",
      "execution_count": null,
      "metadata": {
        "id": "5d1PlVcAfeCk"
      },
      "outputs": [],
      "source": [
        "# Bot check\n",
        "\n",
        "# HW_ID: fpmi_ad4\n",
        "# Бот проверит этот ID и предупредит, если случайно сдать что-то не то.\n",
        "\n",
        "# Status: final\n",
        "# Перед отправкой в финальном решении удали \"not\" в строчке выше.\n",
        "# Так бот проверит, что ты отправляешь финальную версию, а не промежуточную.\n",
        "# Никакие значения в этой ячейке не влияют на факт сдачи работы."
      ]
    },
    {
      "cell_type": "code",
      "execution_count": null,
      "metadata": {
        "id": "ht9Xm0EucoAr"
      },
      "outputs": [],
      "source": [
        "import requests\n",
        "from time import sleep\n",
        "import json\n",
        "\n",
        "import numpy as np\n",
        "import pandas as pd\n",
        "import matplotlib.pyplot as plt\n",
        "import seaborn as sns\n",
        "\n",
        "sns.set(style='whitegrid', font_scale=1.3, palette='Set2')"
      ]
    },
    {
      "cell_type": "markdown",
      "metadata": {
        "id": "rq6CmhuMfeCn"
      },
      "source": [
        "\n",
        "Второй курс &mdash; самое время задуматься о будущей профессии и проанализировать существующие предложения. Дело тут даже не в том, чтобы найти интересную стажировку. В первую очередь сейчас стоит подумать о том, в какую сторону развиваться дальше. Например, если вы хотите работать в какой-либо конкретной профессии, то наверняка стоит развивать какие-то определенные навыки, и даже выбрать подходящую кафедру. Анализ существующих вакансий поможет определить, какие навыки вам нужны. \n",
        "\n",
        "Задание предполагает вариативность исследуемых данных. Вы можете выбрать один из следующих вариантов.\n",
        "1. Стандартный вариант &mdash; проанализировать вакансии на сайте <a target=\"_blank\" href=\"https://hh.ru/\">hh.ru</a> с использованием <a target=\"_blank\" href=\"https://dev.hh.ru/\">официального API</a>. Далее приведен пример работы с этим API. *Если вы не достаточно уверены в своих силах, рекомендуется выбрать этот вариант.*\n",
        "2. Разобраться с API других сервисов по поиску вакансий, например, <a target=\"_blank\" href=\"https://career.habr.com/\">Хабр.Карьера</a> или <a target=\"_blank\" href=\"https://www.superjob.ru/\">SuperJob</a>.\n",
        "3. Извлечение данных с помощью <a target=\"_blank\" href=\"https://miptstats.github.io/courses/ad_fivt/data_parsing.html#2.-Парсинг-HTML-напрямую\">парсинга HTML напрямую</a> некоторых сайтов. Например, вы можете попробовать напрямую распарсить пул вакансий из тех источников, которые не предоставляют API. **Внимание! Обращайте внимание на пользовательские соглашения и на <a target=\"_blank\" href=\"https://miptstats.github.io/courses/ad_fivt/data_parsing.html#Сбор-данных-из-открытых-источников\">эти рекомендации</a>.**\n",
        "4. Комбинирование нескольких подходов. В этом случае нужно понимать, как находить одинаковые вакансии из разных источников для избежания их двойного учета.\n",
        "5. Можно также *дополнительно* брать архивные данные из недавнего прошлого, например, из <a target=\"_blank\" href=\"https://boosters.pro/championship/HeadHunter/overview/description\">этого соревнования</a>.\n",
        "\n",
        "Перед выполнением задания ознакомьтесь с <a target=\"_blank\" href=\"https://miptstats.github.io/courses/ad_fivt/data_parsing.html\">материалом</a> о сборе данных из открытых источников.\n",
        "\n",
        "Для получения максимального балла за задание достаточно выполнить все задание по стандартному варианту. Альтернативные варианты, даже более сложные, не дают больше баллов, чем максимальное количество баллов по стандартному варианту.\n",
        "\n",
        "Работа в некоторой степени творческая, поэтому конкретные детали решения в основном остаются на усмотрение автора решения. Например, если в вакансии зарплата укзана \"*от ...*\" или  \"*до ...*\", то вы сами решаете, как это обрабатывать, но не забывайте про четкую аргументацию. Не забывайте также заглядывать в презентацию по выполнению и оформлению домашних заданий с занятия 2."
      ]
    },
    {
      "cell_type": "markdown",
      "metadata": {
        "id": "nei5i6o9feCn"
      },
      "source": [
        " ---\n",
        "### Справка по работе с API сервиса hh.ru.   \n",
        "\n",
        "<b><font color=\"red\">Внимание!</font> При работе с API не забывайте делать паузы между запросами, чтобы не задудосить сервер. Если вас заблокируют, это не будет являться уважительной причиной переноса дедлайна.</b>\n",
        "\n",
        "Мы будем работать только с вакансиями. Для этого не требуется регистрироваться и получать токен. Ниже приведен краткий пример работы с API. Подробное описание работы с вакансиями, включая параметры запросов и формат ответа можно почитать в <a target=\"_blank\" href=\"https://github.com/hhru/api/blob/master/docs/vacancies.md#search\">документации</a>.\n",
        "\n",
        "Например, мы хотим найти вакансии по запросу `Data Scientist` в Москве. Тогда первую страницу поиска из 10 вакансий на страницу мы можем получить с запроса к API:"
      ]
    },
    {
      "cell_type": "code",
      "execution_count": null,
      "metadata": {
        "id": "LpFD_SHmfeCo"
      },
      "outputs": [],
      "source": [
        "URL = 'https://api.hh.ru/vacancies'\n",
        "\n",
        "params = {\n",
        "    'text': \"Data Scientist\",\n",
        "    'area': 1,\n",
        "    'page': 0,\n",
        "    'per_page': 10\n",
        "}\n",
        "\n",
        "req = requests.get(URL, params)\n",
        "data = pd.DataFrame()\n",
        "data = (json.loads(req.content.decode()))"
      ]
    },
    {
      "cell_type": "markdown",
      "metadata": {
        "id": "Ons0ehjGfeCo"
      },
      "source": [
        "Если все прошло успешно, полученный словарь будет иметь следующие ключи"
      ]
    },
    {
      "cell_type": "code",
      "execution_count": null,
      "metadata": {
        "colab": {
          "base_uri": "https://localhost:8080/"
        },
        "id": "utq5cwZ-feCp",
        "outputId": "444b37a5-7278-4134-9a7d-f2634773d298"
      },
      "outputs": [
        {
          "data": {
            "text/plain": [
              "{'items': [{'id': '77502259',\n",
              "   'premium': False,\n",
              "   'name': 'Junior Data scientist (NLP)',\n",
              "   'department': None,\n",
              "   'has_test': False,\n",
              "   'response_letter_required': False,\n",
              "   'area': {'id': '1', 'name': 'Москва', 'url': 'https://api.hh.ru/areas/1'},\n",
              "   'salary': {'from': 100000, 'to': 150000, 'currency': 'RUR', 'gross': False},\n",
              "   'type': {'id': 'open', 'name': 'Открытая'},\n",
              "   'address': {'city': 'Москва',\n",
              "    'street': 'Усачёва улица',\n",
              "    'building': '33с1',\n",
              "    'lat': 55.723207,\n",
              "    'lng': 37.561113,\n",
              "    'description': None,\n",
              "    'raw': 'Москва, Усачёва улица, 33с1',\n",
              "    'metro': {'station_name': 'Лужники',\n",
              "     'line_name': 'МЦК',\n",
              "     'station_id': '95.535',\n",
              "     'line_id': '95',\n",
              "     'lat': 55.720278,\n",
              "     'lng': 37.563056},\n",
              "    'metro_stations': [{'station_name': 'Лужники',\n",
              "      'line_name': 'МЦК',\n",
              "      'station_id': '95.535',\n",
              "      'line_id': '95',\n",
              "      'lat': 55.720278,\n",
              "      'lng': 37.563056},\n",
              "     {'station_name': 'Спортивная',\n",
              "      'line_name': 'Сокольническая',\n",
              "      'station_id': '1.135',\n",
              "      'line_id': '1',\n",
              "      'lat': 55.722388,\n",
              "      'lng': 37.562041}],\n",
              "    'id': '1651801'},\n",
              "   'response_url': None,\n",
              "   'sort_point_distance': None,\n",
              "   'published_at': '2023-02-28T18:26:35+0300',\n",
              "   'created_at': '2023-02-28T18:26:35+0300',\n",
              "   'archived': False,\n",
              "   'apply_alternate_url': 'https://hh.ru/applicant/vacancy_response?vacancyId=77502259',\n",
              "   'insider_interview': None,\n",
              "   'url': 'https://api.hh.ru/vacancies/77502259?host=hh.ru',\n",
              "   'adv_response_url': None,\n",
              "   'alternate_url': 'https://hh.ru/vacancy/77502259',\n",
              "   'relations': [],\n",
              "   'employer': {'id': '3536900',\n",
              "    'name': 'Платформа ОФД',\n",
              "    'url': 'https://api.hh.ru/employers/3536900',\n",
              "    'alternate_url': 'https://hh.ru/employer/3536900',\n",
              "    'logo_urls': {'240': 'https://hhcdn.ru/employer-logo/2657470.jpeg',\n",
              "     '90': 'https://hhcdn.ru/employer-logo/2657469.jpeg',\n",
              "     'original': 'https://hhcdn.ru/employer-logo-original/553999.jpg'},\n",
              "    'vacancies_url': 'https://api.hh.ru/vacancies?employer_id=3536900',\n",
              "    'trusted': True},\n",
              "   'snippet': {'requirement': 'Знание python и части DS стека. Умение писать красивый код. Хорошее знание математики и машинного обучения. Опыт работы от года. ',\n",
              "    'responsibility': 'Классические задачи: классификация/тематическое моделирование, NER, NEL, semi supervised learning, задачи поиска. Все не так просто, так как объемы большие...'},\n",
              "   'contacts': None,\n",
              "   'schedule': {'id': 'fullDay', 'name': 'Полный день'},\n",
              "   'working_days': [],\n",
              "   'working_time_intervals': [],\n",
              "   'working_time_modes': [],\n",
              "   'accept_temporary': False,\n",
              "   'professional_roles': [{'id': '96', 'name': 'Программист, разработчик'}],\n",
              "   'accept_incomplete_resumes': False},\n",
              "  {'id': '74376536',\n",
              "   'premium': False,\n",
              "   'name': 'Data scientist',\n",
              "   'department': None,\n",
              "   'has_test': False,\n",
              "   'response_letter_required': False,\n",
              "   'area': {'id': '1', 'name': 'Москва', 'url': 'https://api.hh.ru/areas/1'},\n",
              "   'salary': {'from': 200000, 'to': 240000, 'currency': 'RUR', 'gross': False},\n",
              "   'type': {'id': 'open', 'name': 'Открытая'},\n",
              "   'address': {'city': 'Москва',\n",
              "    'street': 'Походный проезд',\n",
              "    'building': '14',\n",
              "    'lat': 55.838091,\n",
              "    'lng': 37.417167,\n",
              "    'description': None,\n",
              "    'raw': 'Москва, Походный проезд, 14',\n",
              "    'metro': None,\n",
              "    'metro_stations': [],\n",
              "    'id': '953346'},\n",
              "   'response_url': None,\n",
              "   'sort_point_distance': None,\n",
              "   'published_at': '2023-02-26T13:01:29+0300',\n",
              "   'created_at': '2023-02-26T13:01:29+0300',\n",
              "   'archived': False,\n",
              "   'apply_alternate_url': 'https://hh.ru/applicant/vacancy_response?vacancyId=74376536',\n",
              "   'insider_interview': None,\n",
              "   'url': 'https://api.hh.ru/vacancies/74376536?host=hh.ru',\n",
              "   'adv_response_url': None,\n",
              "   'alternate_url': 'https://hh.ru/vacancy/74376536',\n",
              "   'relations': [],\n",
              "   'employer': {'id': '606',\n",
              "    'name': 'Астор',\n",
              "    'url': 'https://api.hh.ru/employers/606',\n",
              "    'alternate_url': 'https://hh.ru/employer/606',\n",
              "    'logo_urls': {'original': 'https://hhcdn.ru/employer-logo-original/895922.png',\n",
              "     '90': 'https://hhcdn.ru/employer-logo/4024375.png',\n",
              "     '240': 'https://hhcdn.ru/employer-logo/4024376.png'},\n",
              "    'vacancies_url': 'https://api.hh.ru/vacancies?employer_id=606',\n",
              "    'trusted': True},\n",
              "   'snippet': {'requirement': 'Опыт работы на позиции <highlighttext>data</highlighttext> <highlighttext>scientist</highlighttext> от 2ух лет. Знание основных алгоритмов и метрик машинного обучения. Ключевые навыки: Python...',\n",
              "    'responsibility': 'Работа в команде по созданию модуля <highlighttext>Data</highlighttext> Science & AI, отвечающего за обработку данных, консолидированных в хранилище, и интеллектуальное обеспечение различных...'},\n",
              "   'contacts': None,\n",
              "   'schedule': {'id': 'remote', 'name': 'Удаленная работа'},\n",
              "   'working_days': [],\n",
              "   'working_time_intervals': [],\n",
              "   'working_time_modes': [],\n",
              "   'accept_temporary': False,\n",
              "   'professional_roles': [{'id': '10', 'name': 'Аналитик'}],\n",
              "   'accept_incomplete_resumes': False},\n",
              "  {'id': '76925483',\n",
              "   'premium': False,\n",
              "   'name': 'Data Scientist',\n",
              "   'department': None,\n",
              "   'has_test': False,\n",
              "   'response_letter_required': False,\n",
              "   'area': {'id': '1', 'name': 'Москва', 'url': 'https://api.hh.ru/areas/1'},\n",
              "   'salary': {'from': 160000, 'to': 200000, 'currency': 'RUR', 'gross': False},\n",
              "   'type': {'id': 'open', 'name': 'Открытая'},\n",
              "   'address': None,\n",
              "   'response_url': None,\n",
              "   'sort_point_distance': None,\n",
              "   'published_at': '2023-02-28T14:31:00+0300',\n",
              "   'created_at': '2023-02-28T14:31:00+0300',\n",
              "   'archived': False,\n",
              "   'apply_alternate_url': 'https://hh.ru/applicant/vacancy_response?vacancyId=76925483',\n",
              "   'insider_interview': None,\n",
              "   'url': 'https://api.hh.ru/vacancies/76925483?host=hh.ru',\n",
              "   'adv_response_url': None,\n",
              "   'alternate_url': 'https://hh.ru/vacancy/76925483',\n",
              "   'relations': [],\n",
              "   'employer': {'id': '2661230',\n",
              "    'name': '7RedLines',\n",
              "    'url': 'https://api.hh.ru/employers/2661230',\n",
              "    'alternate_url': 'https://hh.ru/employer/2661230',\n",
              "    'logo_urls': {'90': 'https://hhcdn.ru/employer-logo/2283844.jpeg',\n",
              "     '240': 'https://hhcdn.ru/employer-logo/2283845.jpeg',\n",
              "     'original': 'https://hhcdn.ru/employer-logo-original/460495.jpg'},\n",
              "    'vacancies_url': 'https://api.hh.ru/vacancies?employer_id=2661230',\n",
              "    'trusted': True},\n",
              "   'snippet': {'requirement': '...данных, блоки данных и т.д.) или Yandex Cloud (<highlighttext>Data</highlighttext> Proc, <highlighttext>Data</highlighttext> Sphere и т.д.) - предпочтительно. Опыт визуализации / представления...',\n",
              "    'responsibility': 'Работайте с заинтересованными сторонами по всей организации, чтобы определить возможности использования данных компании для разработки бизнес-решений. Извлекайте и анализируйте...'},\n",
              "   'contacts': None,\n",
              "   'schedule': {'id': 'remote', 'name': 'Удаленная работа'},\n",
              "   'working_days': [],\n",
              "   'working_time_intervals': [],\n",
              "   'working_time_modes': [],\n",
              "   'accept_temporary': False,\n",
              "   'professional_roles': [{'id': '165', 'name': 'Дата-сайентист'}],\n",
              "   'accept_incomplete_resumes': False},\n",
              "  {'id': '74257661',\n",
              "   'premium': False,\n",
              "   'name': 'Data scientist',\n",
              "   'department': None,\n",
              "   'has_test': False,\n",
              "   'response_letter_required': False,\n",
              "   'area': {'id': '1', 'name': 'Москва', 'url': 'https://api.hh.ru/areas/1'},\n",
              "   'salary': {'from': 150000, 'to': 300000, 'currency': 'RUR', 'gross': False},\n",
              "   'type': {'id': 'open', 'name': 'Открытая'},\n",
              "   'address': {'city': 'Москва',\n",
              "    'street': 'Минская улица',\n",
              "    'building': '2Гк1',\n",
              "    'lat': 55.718035,\n",
              "    'lng': 37.502857,\n",
              "    'description': None,\n",
              "    'raw': 'Москва, Минская улица, 2Гк1',\n",
              "    'metro': {'station_name': 'Минская',\n",
              "     'line_name': 'Солнцевская',\n",
              "     'station_id': '133.555',\n",
              "     'line_id': '133',\n",
              "     'lat': 55.7232,\n",
              "     'lng': 37.5038},\n",
              "    'metro_stations': [{'station_name': 'Минская',\n",
              "      'line_name': 'Солнцевская',\n",
              "      'station_id': '133.555',\n",
              "      'line_id': '133',\n",
              "      'lat': 55.7232,\n",
              "      'lng': 37.5038}],\n",
              "    'id': '5604291'},\n",
              "   'response_url': None,\n",
              "   'sort_point_distance': None,\n",
              "   'published_at': '2023-02-26T15:02:29+0300',\n",
              "   'created_at': '2023-02-26T15:02:29+0300',\n",
              "   'archived': False,\n",
              "   'apply_alternate_url': 'https://hh.ru/applicant/vacancy_response?vacancyId=74257661',\n",
              "   'insider_interview': None,\n",
              "   'url': 'https://api.hh.ru/vacancies/74257661?host=hh.ru',\n",
              "   'adv_response_url': None,\n",
              "   'alternate_url': 'https://hh.ru/vacancy/74257661',\n",
              "   'relations': [],\n",
              "   'employer': {'id': '4596815',\n",
              "    'name': 'НАО Финансовые системы',\n",
              "    'url': 'https://api.hh.ru/employers/4596815',\n",
              "    'alternate_url': 'https://hh.ru/employer/4596815',\n",
              "    'logo_urls': {'original': 'https://hhcdn.ru/employer-logo-original/797458.jpeg',\n",
              "     '90': 'https://hhcdn.ru/employer-logo/3630719.jpeg',\n",
              "     '240': 'https://hhcdn.ru/employer-logo/3630720.jpeg'},\n",
              "    'vacancies_url': 'https://api.hh.ru/vacancies?employer_id=4596815',\n",
              "    'trusted': True},\n",
              "   'snippet': {'requirement': 'анализа, лин. алгебры, статистики. Отличные знания Python и библиотек для <highlighttext>data</highlighttext> scient (pandas, numpy, matplotlib и т.д.). ',\n",
              "    'responsibility': 'Разработка скоринг системы. Поиск и обработка гипотез для улучшения клиентских метрик. Оптимизация работы уже имеющихся отчётов. Оптимизация DWH. '},\n",
              "   'contacts': None,\n",
              "   'schedule': {'id': 'fullDay', 'name': 'Полный день'},\n",
              "   'working_days': [],\n",
              "   'working_time_intervals': [],\n",
              "   'working_time_modes': [],\n",
              "   'accept_temporary': False,\n",
              "   'professional_roles': [{'id': '96', 'name': 'Программист, разработчик'}],\n",
              "   'accept_incomplete_resumes': False},\n",
              "  {'id': '77208642',\n",
              "   'premium': False,\n",
              "   'name': 'Data Scientist middle+/Senior',\n",
              "   'department': None,\n",
              "   'has_test': False,\n",
              "   'response_letter_required': False,\n",
              "   'area': {'id': '1', 'name': 'Москва', 'url': 'https://api.hh.ru/areas/1'},\n",
              "   'salary': {'from': 250000, 'to': 350000, 'currency': 'RUR', 'gross': False},\n",
              "   'type': {'id': 'open', 'name': 'Открытая'},\n",
              "   'address': None,\n",
              "   'response_url': None,\n",
              "   'sort_point_distance': None,\n",
              "   'published_at': '2023-02-26T12:06:39+0300',\n",
              "   'created_at': '2023-02-26T12:06:39+0300',\n",
              "   'archived': False,\n",
              "   'apply_alternate_url': 'https://hh.ru/applicant/vacancy_response?vacancyId=77208642',\n",
              "   'insider_interview': None,\n",
              "   'url': 'https://api.hh.ru/vacancies/77208642?host=hh.ru',\n",
              "   'adv_response_url': None,\n",
              "   'alternate_url': 'https://hh.ru/vacancy/77208642',\n",
              "   'relations': [],\n",
              "   'employer': {'id': '6116362',\n",
              "    'name': 'Мамаева Ирина Анатольевна',\n",
              "    'url': 'https://api.hh.ru/employers/6116362',\n",
              "    'alternate_url': 'https://hh.ru/employer/6116362',\n",
              "    'logo_urls': None,\n",
              "    'vacancies_url': 'https://api.hh.ru/vacancies?employer_id=6116362',\n",
              "    'trusted': True},\n",
              "   'snippet': {'requirement': 'Опыт использования ml библиотек на Python (бустинг, нейронные сети и др.) и понимание особенностей реализации различных аспектов алгоритмов в коде. ',\n",
              "    'responsibility': 'Моделирование и обработка данных на Python для извлечения бизнес-ценности из данных. Глубокое обсуждение задач и методов их решения совместно...'},\n",
              "   'contacts': None,\n",
              "   'schedule': {'id': 'fullDay', 'name': 'Полный день'},\n",
              "   'working_days': [],\n",
              "   'working_time_intervals': [],\n",
              "   'working_time_modes': [],\n",
              "   'accept_temporary': False,\n",
              "   'professional_roles': [{'id': '96', 'name': 'Программист, разработчик'}],\n",
              "   'accept_incomplete_resumes': False},\n",
              "  {'id': '77389499',\n",
              "   'premium': False,\n",
              "   'name': 'Data Scientist (Junior+/Middle)',\n",
              "   'department': None,\n",
              "   'has_test': False,\n",
              "   'response_letter_required': False,\n",
              "   'area': {'id': '1', 'name': 'Москва', 'url': 'https://api.hh.ru/areas/1'},\n",
              "   'salary': None,\n",
              "   'type': {'id': 'open', 'name': 'Открытая'},\n",
              "   'address': None,\n",
              "   'response_url': None,\n",
              "   'sort_point_distance': None,\n",
              "   'published_at': '2023-02-26T13:47:23+0300',\n",
              "   'created_at': '2023-02-26T13:47:23+0300',\n",
              "   'archived': False,\n",
              "   'apply_alternate_url': 'https://hh.ru/applicant/vacancy_response?vacancyId=77389499',\n",
              "   'insider_interview': None,\n",
              "   'url': 'https://api.hh.ru/vacancies/77389499?host=hh.ru',\n",
              "   'adv_response_url': None,\n",
              "   'alternate_url': 'https://hh.ru/vacancy/77389499',\n",
              "   'relations': [],\n",
              "   'employer': {'id': '1809605',\n",
              "    'name': 'Страховая компания «Сбербанк страхование»',\n",
              "    'url': 'https://api.hh.ru/employers/1809605',\n",
              "    'alternate_url': 'https://hh.ru/employer/1809605',\n",
              "    'logo_urls': {'240': 'https://hhcdn.ru/employer-logo/3551148.jpeg',\n",
              "     '90': 'https://hhcdn.ru/employer-logo/3551147.jpeg',\n",
              "     'original': 'https://hhcdn.ru/employer-logo-original/777564.jpg'},\n",
              "    'vacancies_url': 'https://api.hh.ru/vacancies?employer_id=1809605',\n",
              "    'trusted': True},\n",
              "   'snippet': {'requirement': 'Опыт работы от 1 года. Владение SQL, Python и библиотеками анализа данных: Pandas, NumPy, scikit-learn, xgboost. Знания в направлениях...',\n",
              "    'responsibility': 'Анализ клиентской базы: сегментация, склонность к покупке/оттоку, оценка потенциала развития клиентов. Построение предиктивных моделей, подготовка и внедрение моделей в...'},\n",
              "   'contacts': None,\n",
              "   'schedule': {'id': 'fullDay', 'name': 'Полный день'},\n",
              "   'working_days': [],\n",
              "   'working_time_intervals': [],\n",
              "   'working_time_modes': [],\n",
              "   'accept_temporary': False,\n",
              "   'professional_roles': [{'id': '10', 'name': 'Аналитик'}],\n",
              "   'accept_incomplete_resumes': False},\n",
              "  {'id': '77223284',\n",
              "   'premium': False,\n",
              "   'name': 'Аналитик данных (Data Scientist) / ML-разработчик',\n",
              "   'department': None,\n",
              "   'has_test': False,\n",
              "   'response_letter_required': False,\n",
              "   'area': {'id': '1', 'name': 'Москва', 'url': 'https://api.hh.ru/areas/1'},\n",
              "   'salary': None,\n",
              "   'type': {'id': 'open', 'name': 'Открытая'},\n",
              "   'address': {'city': 'Москва',\n",
              "    'street': 'Малая Пироговская улица',\n",
              "    'building': '16',\n",
              "    'lat': 55.728469,\n",
              "    'lng': 37.566485,\n",
              "    'description': None,\n",
              "    'raw': 'Москва, Малая Пироговская улица, 16',\n",
              "    'metro': None,\n",
              "    'metro_stations': [],\n",
              "    'id': '2588265'},\n",
              "   'response_url': None,\n",
              "   'sort_point_distance': None,\n",
              "   'published_at': '2023-02-26T15:00:20+0300',\n",
              "   'created_at': '2023-02-26T15:00:20+0300',\n",
              "   'archived': False,\n",
              "   'apply_alternate_url': 'https://hh.ru/applicant/vacancy_response?vacancyId=77223284',\n",
              "   'insider_interview': None,\n",
              "   'url': 'https://api.hh.ru/vacancies/77223284?host=hh.ru',\n",
              "   'adv_response_url': None,\n",
              "   'alternate_url': 'https://hh.ru/vacancy/77223284',\n",
              "   'relations': [],\n",
              "   'employer': {'id': '3073329',\n",
              "    'name': 'ИТ-Экспертиза',\n",
              "    'url': 'https://api.hh.ru/employers/3073329',\n",
              "    'alternate_url': 'https://hh.ru/employer/3073329',\n",
              "    'logo_urls': {'90': 'https://hhcdn.ru/employer-logo/5641868.png',\n",
              "     '240': 'https://hhcdn.ru/employer-logo/5641869.png',\n",
              "     'original': 'https://hhcdn.ru/employer-logo-original/1005272.png'},\n",
              "    'vacancies_url': 'https://api.hh.ru/vacancies?employer_id=3073329',\n",
              "    'trusted': True},\n",
              "   'snippet': {'requirement': 'Занимались аналитикой или <highlighttext>Data</highlighttext> Science не меньше 3-х лет. Уверенно пишете на Python (знаете NumPy, SciPy, PyTorch, Scikit-learn...',\n",
              "    'responsibility': 'Обучать многослойные нейронные сети и строить модели машинного обучения. Проверять гипотезы, строить систему предсказаний на основе нейронных сетей, выявлять скрытые...'},\n",
              "   'contacts': None,\n",
              "   'schedule': {'id': 'fullDay', 'name': 'Полный день'},\n",
              "   'working_days': [],\n",
              "   'working_time_intervals': [],\n",
              "   'working_time_modes': [],\n",
              "   'accept_temporary': False,\n",
              "   'professional_roles': [{'id': '10', 'name': 'Аналитик'}],\n",
              "   'accept_incomplete_resumes': False},\n",
              "  {'id': '76810036',\n",
              "   'premium': False,\n",
              "   'name': 'Data Scientist (Middle+)',\n",
              "   'department': None,\n",
              "   'has_test': False,\n",
              "   'response_letter_required': False,\n",
              "   'area': {'id': '1', 'name': 'Москва', 'url': 'https://api.hh.ru/areas/1'},\n",
              "   'salary': {'from': 170000, 'to': 240000, 'currency': 'RUR', 'gross': False},\n",
              "   'type': {'id': 'open', 'name': 'Открытая'},\n",
              "   'address': None,\n",
              "   'response_url': None,\n",
              "   'sort_point_distance': None,\n",
              "   'published_at': '2023-02-27T12:36:01+0300',\n",
              "   'created_at': '2023-02-27T12:36:01+0300',\n",
              "   'archived': False,\n",
              "   'apply_alternate_url': 'https://hh.ru/applicant/vacancy_response?vacancyId=76810036',\n",
              "   'insider_interview': None,\n",
              "   'url': 'https://api.hh.ru/vacancies/76810036?host=hh.ru',\n",
              "   'adv_response_url': None,\n",
              "   'alternate_url': 'https://hh.ru/vacancy/76810036',\n",
              "   'relations': [],\n",
              "   'employer': {'id': '1723062',\n",
              "    'name': 'DIGINETICA',\n",
              "    'url': 'https://api.hh.ru/employers/1723062',\n",
              "    'alternate_url': 'https://hh.ru/employer/1723062',\n",
              "    'logo_urls': {'90': 'https://hhcdn.ru/employer-logo/1553246.png',\n",
              "     'original': 'https://hhcdn.ru/employer-logo-original/277679.png',\n",
              "     '240': 'https://hhcdn.ru/employer-logo/1553247.png'},\n",
              "    'vacancies_url': 'https://api.hh.ru/vacancies?employer_id=1723062',\n",
              "    'trusted': True},\n",
              "   'snippet': {'requirement': 'Что нужно уметь : Уметь писать готовый к production код (Python). Иметь математический бекграунд (профильное техническое/математическое образование, хорошее понимание мат.статистики...',\n",
              "    'responsibility': 'Разрабатывать модели схожести запросов и товаров. Разрабатывать модели ранжирования. Разрабатывать модели исправления опечаток. Дорабатывать сервис метрик и производить анализ метрик. '},\n",
              "   'contacts': None,\n",
              "   'schedule': {'id': 'remote', 'name': 'Удаленная работа'},\n",
              "   'working_days': [],\n",
              "   'working_time_intervals': [],\n",
              "   'working_time_modes': [],\n",
              "   'accept_temporary': True,\n",
              "   'professional_roles': [{'id': '10', 'name': 'Аналитик'}],\n",
              "   'accept_incomplete_resumes': False},\n",
              "  {'id': '73254140',\n",
              "   'premium': False,\n",
              "   'name': 'Data Scientist (Predict)',\n",
              "   'department': {'id': 'mailru-15478-other', 'name': 'VK'},\n",
              "   'has_test': False,\n",
              "   'response_letter_required': False,\n",
              "   'area': {'id': '1', 'name': 'Москва', 'url': 'https://api.hh.ru/areas/1'},\n",
              "   'salary': None,\n",
              "   'type': {'id': 'open', 'name': 'Открытая'},\n",
              "   'address': {'city': 'Москва',\n",
              "    'street': 'Ленинградский проспект',\n",
              "    'building': '39с79',\n",
              "    'lat': 55.796931,\n",
              "    'lng': 37.537847,\n",
              "    'description': None,\n",
              "    'raw': 'Москва, Ленинградский проспект, 39с79',\n",
              "    'metro': {'station_name': 'Аэропорт',\n",
              "     'line_name': 'Замоскворецкая',\n",
              "     'station_id': '2.12',\n",
              "     'line_id': '2',\n",
              "     'lat': 55.800441,\n",
              "     'lng': 37.530477},\n",
              "    'metro_stations': [{'station_name': 'Аэропорт',\n",
              "      'line_name': 'Замоскворецкая',\n",
              "      'station_id': '2.12',\n",
              "      'line_id': '2',\n",
              "      'lat': 55.800441,\n",
              "      'lng': 37.530477}],\n",
              "    'id': '1926935'},\n",
              "   'response_url': None,\n",
              "   'sort_point_distance': None,\n",
              "   'published_at': '2023-02-26T09:10:30+0300',\n",
              "   'created_at': '2023-02-26T09:10:30+0300',\n",
              "   'archived': False,\n",
              "   'apply_alternate_url': 'https://hh.ru/applicant/vacancy_response?vacancyId=73254140',\n",
              "   'insider_interview': None,\n",
              "   'url': 'https://api.hh.ru/vacancies/73254140?host=hh.ru',\n",
              "   'adv_response_url': None,\n",
              "   'alternate_url': 'https://hh.ru/vacancy/73254140',\n",
              "   'relations': [],\n",
              "   'employer': {'id': '15478',\n",
              "    'name': 'VK',\n",
              "    'url': 'https://api.hh.ru/employers/15478',\n",
              "    'alternate_url': 'https://hh.ru/employer/15478',\n",
              "    'logo_urls': {'original': 'https://hhcdn.ru/employer-logo-original/909726.png',\n",
              "     '240': 'https://hhcdn.ru/employer-logo/4079592.png',\n",
              "     '90': 'https://hhcdn.ru/employer-logo/4079591.png'},\n",
              "    'vacancies_url': 'https://api.hh.ru/vacancies?employer_id=15478',\n",
              "    'trusted': True},\n",
              "   'snippet': {'requirement': 'Общая математическая культура (теория вероятностей и математическая статистика, линейная алгебра, теория оптимизации, алгоритмы и структуры данных, классический ML). SQL.',\n",
              "    'responsibility': '25% — разработка моделей машинного обучения, откликовые модели. 75% — развитие сервиса скоринга, доработка пайплайна построения моделей, исследование новых источников данных. '},\n",
              "   'contacts': None,\n",
              "   'schedule': {'id': 'fullDay', 'name': 'Полный день'},\n",
              "   'working_days': [],\n",
              "   'working_time_intervals': [],\n",
              "   'working_time_modes': [],\n",
              "   'accept_temporary': False,\n",
              "   'professional_roles': [{'id': '96', 'name': 'Программист, разработчик'}],\n",
              "   'accept_incomplete_resumes': False},\n",
              "  {'id': '77464042',\n",
              "   'premium': False,\n",
              "   'name': 'Data Scientist',\n",
              "   'department': {'id': '80-80-it', 'name': 'Альфа-Банк. Digital & IT'},\n",
              "   'has_test': False,\n",
              "   'response_letter_required': False,\n",
              "   'area': {'id': '1', 'name': 'Москва', 'url': 'https://api.hh.ru/areas/1'},\n",
              "   'salary': None,\n",
              "   'type': {'id': 'open', 'name': 'Открытая'},\n",
              "   'address': {'city': 'Москва',\n",
              "    'street': 'проспект Андропова',\n",
              "    'building': '18к5',\n",
              "    'lat': 55.692328,\n",
              "    'lng': 37.663009,\n",
              "    'description': None,\n",
              "    'raw': 'Москва, проспект Андропова, 18к5',\n",
              "    'metro': {'station_name': 'Технопарк',\n",
              "     'line_name': 'Замоскворецкая',\n",
              "     'station_id': '2.512',\n",
              "     'line_id': '2',\n",
              "     'lat': 55.695,\n",
              "     'lng': 37.664167},\n",
              "    'metro_stations': [{'station_name': 'Технопарк',\n",
              "      'line_name': 'Замоскворецкая',\n",
              "      'station_id': '2.512',\n",
              "      'line_id': '2',\n",
              "      'lat': 55.695,\n",
              "      'lng': 37.664167}],\n",
              "    'id': '7177356'},\n",
              "   'response_url': None,\n",
              "   'sort_point_distance': None,\n",
              "   'published_at': '2023-02-28T09:20:03+0300',\n",
              "   'created_at': '2023-02-28T09:20:03+0300',\n",
              "   'archived': False,\n",
              "   'apply_alternate_url': 'https://hh.ru/applicant/vacancy_response?vacancyId=77464042',\n",
              "   'insider_interview': {'id': '30864',\n",
              "    'url': 'https://hh.ru/interview/30864?employerId=80'},\n",
              "   'url': 'https://api.hh.ru/vacancies/77464042?host=hh.ru',\n",
              "   'adv_response_url': None,\n",
              "   'alternate_url': 'https://hh.ru/vacancy/77464042',\n",
              "   'relations': [],\n",
              "   'employer': {'id': '80',\n",
              "    'name': 'Альфа-Банк',\n",
              "    'url': 'https://api.hh.ru/employers/80',\n",
              "    'alternate_url': 'https://hh.ru/employer/80',\n",
              "    'logo_urls': {'original': 'https://hhcdn.ru/employer-logo-original/663873.png',\n",
              "     '240': 'https://hhcdn.ru/employer-logo/3096625.png',\n",
              "     '90': 'https://hhcdn.ru/employer-logo/3096624.png'},\n",
              "    'vacancies_url': 'https://api.hh.ru/vacancies?employer_id=80',\n",
              "    'trusted': True},\n",
              "   'snippet': {'requirement': 'Уверенное использование технологического стека: python, LightGBM/XGBoost/CatBoost, sklearn, pandas, numpy + sql + git. Знание Spark, Hadoop, Hive. ',\n",
              "    'responsibility': 'Модели склонности и поддержки продаж (управление коммуникациями по продажам, выявление склонных к покупке продуктов банка клиентов). Продуктовый кошелек клиента. '},\n",
              "   'contacts': None,\n",
              "   'schedule': {'id': 'fullDay', 'name': 'Полный день'},\n",
              "   'working_days': [],\n",
              "   'working_time_intervals': [],\n",
              "   'working_time_modes': [],\n",
              "   'accept_temporary': False,\n",
              "   'professional_roles': [{'id': '165', 'name': 'Дата-сайентист'}],\n",
              "   'accept_incomplete_resumes': False}],\n",
              " 'found': 266,\n",
              " 'pages': 27,\n",
              " 'per_page': 10,\n",
              " 'page': 0,\n",
              " 'clusters': None,\n",
              " 'arguments': None,\n",
              " 'alternate_url': 'https://hh.ru/search/vacancy?area=1&enable_snippets=true&items_on_page=10&text=Data+Scientist'}"
            ]
          },
          "execution_count": 13,
          "metadata": {},
          "output_type": "execute_result"
        }
      ],
      "source": [
        "data\n",
        "list = [5]\n",
        "list[0] = data\n"
      ]
    },
    {
      "cell_type": "markdown",
      "metadata": {
        "id": "oLtZoCWifeCq"
      },
      "source": [
        "Можем посмотреть на краткое описание первой вакансии"
      ]
    },
    {
      "cell_type": "code",
      "execution_count": null,
      "metadata": {
        "id": "G33EaKsyfeCr",
        "outputId": "6964c8c0-b326-4c11-9195-e8a0470c1fc9",
        "scrolled": false
      },
      "outputs": [
        {
          "data": {
            "text/plain": [
              "{'id': '74376536',\n",
              " 'premium': False,\n",
              " 'name': 'Data scientist',\n",
              " 'department': None,\n",
              " 'has_test': False,\n",
              " 'response_letter_required': False,\n",
              " 'area': {'id': '1', 'name': 'Москва', 'url': 'https://api.hh.ru/areas/1'},\n",
              " 'salary': {'from': 200000, 'to': 240000, 'currency': 'RUR', 'gross': False},\n",
              " 'type': {'id': 'open', 'name': 'Открытая'},\n",
              " 'address': {'city': 'Москва',\n",
              "  'street': 'Походный проезд',\n",
              "  'building': '14',\n",
              "  'lat': 55.838091,\n",
              "  'lng': 37.417167,\n",
              "  'description': None,\n",
              "  'raw': 'Москва, Походный проезд, 14',\n",
              "  'metro': None,\n",
              "  'metro_stations': [],\n",
              "  'id': '953346'},\n",
              " 'response_url': None,\n",
              " 'sort_point_distance': None,\n",
              " 'published_at': '2023-02-23T13:01:29+0300',\n",
              " 'created_at': '2023-02-23T13:01:29+0300',\n",
              " 'archived': False,\n",
              " 'apply_alternate_url': 'https://hh.ru/applicant/vacancy_response?vacancyId=74376536',\n",
              " 'insider_interview': None,\n",
              " 'url': 'https://api.hh.ru/vacancies/74376536?host=hh.ru',\n",
              " 'adv_response_url': None,\n",
              " 'alternate_url': 'https://hh.ru/vacancy/74376536',\n",
              " 'relations': [],\n",
              " 'employer': {'id': '606',\n",
              "  'name': 'Астор',\n",
              "  'url': 'https://api.hh.ru/employers/606',\n",
              "  'alternate_url': 'https://hh.ru/employer/606',\n",
              "  'logo_urls': {'original': 'https://hhcdn.ru/employer-logo-original/895922.png',\n",
              "   '90': 'https://hhcdn.ru/employer-logo/4024375.png',\n",
              "   '240': 'https://hhcdn.ru/employer-logo/4024376.png'},\n",
              "  'vacancies_url': 'https://api.hh.ru/vacancies?employer_id=606',\n",
              "  'trusted': True},\n",
              " 'snippet': {'requirement': 'Опыт работы на позиции <highlighttext>data</highlighttext> <highlighttext>scientist</highlighttext> от 2ух лет. Знание основных алгоритмов и метрик машинного обучения. Ключевые навыки: Python...',\n",
              "  'responsibility': 'Работа в команде по созданию модуля <highlighttext>Data</highlighttext> Science & AI, отвечающего за обработку данных, консолидированных в хранилище, и интеллектуальное обеспечение различных...'},\n",
              " 'contacts': None,\n",
              " 'schedule': {'id': 'remote', 'name': 'Удаленная работа'},\n",
              " 'working_days': [],\n",
              " 'working_time_intervals': [],\n",
              " 'working_time_modes': [],\n",
              " 'accept_temporary': False,\n",
              " 'professional_roles': [{'id': '10', 'name': 'Аналитик'}],\n",
              " 'accept_incomplete_resumes': False}"
            ]
          },
          "execution_count": 4,
          "metadata": {},
          "output_type": "execute_result"
        }
      ],
      "source": [
        "data['items'][0]"
      ]
    },
    {
      "cell_type": "markdown",
      "metadata": {
        "id": "HZBCw_1EfeCr"
      },
      "source": [
        "Сколько всего найдено вакансий"
      ]
    },
    {
      "cell_type": "code",
      "execution_count": null,
      "metadata": {
        "colab": {
          "base_uri": "https://localhost:8080/"
        },
        "id": "I-N2htoBfeCs",
        "outputId": "bdc4492a-dcd0-4e7c-e4fc-3605e21cb5a3"
      },
      "outputs": [
        {
          "data": {
            "text/plain": [
              "266"
            ]
          },
          "execution_count": 11,
          "metadata": {},
          "output_type": "execute_result"
        }
      ],
      "source": [
        "data['found']"
      ]
    },
    {
      "cell_type": "markdown",
      "metadata": {
        "id": "afagdhqAfeCs"
      },
      "source": [
        "Количество страниц в результатах поиска"
      ]
    },
    {
      "cell_type": "code",
      "execution_count": null,
      "metadata": {
        "colab": {
          "base_uri": "https://localhost:8080/"
        },
        "id": "U438JYcsfeCs",
        "outputId": "df38005b-9e5f-4bd4-e064-5a6b308e4a04"
      },
      "outputs": [
        {
          "data": {
            "text/plain": [
              "27"
            ]
          },
          "execution_count": 16,
          "metadata": {},
          "output_type": "execute_result"
        }
      ],
      "source": [
        "data['pages']"
      ]
    },
    {
      "cell_type": "markdown",
      "metadata": {
        "id": "Z8nhSVdlfeCt"
      },
      "source": [
        "Из результатов можем сделать удобную таблицу, причем в дальнейшем можно оставить только те колонки, которые необходимы для анализа."
      ]
    },
    {
      "cell_type": "code",
      "execution_count": null,
      "metadata": {
        "id": "p3fz1LgtfeCt",
        "outputId": "1aed4653-ed60-481d-9a86-23ba1a939349"
      },
      "outputs": [
        {
          "data": {
            "text/html": [
              "<div>\n",
              "<style scoped>\n",
              "    .dataframe tbody tr th:only-of-type {\n",
              "        vertical-align: middle;\n",
              "    }\n",
              "\n",
              "    .dataframe tbody tr th {\n",
              "        vertical-align: top;\n",
              "    }\n",
              "\n",
              "    .dataframe thead th {\n",
              "        text-align: right;\n",
              "    }\n",
              "</style>\n",
              "<table border=\"1\" class=\"dataframe\">\n",
              "  <thead>\n",
              "    <tr style=\"text-align: right;\">\n",
              "      <th></th>\n",
              "      <th>id</th>\n",
              "      <th>premium</th>\n",
              "      <th>name</th>\n",
              "      <th>department</th>\n",
              "      <th>has_test</th>\n",
              "      <th>response_letter_required</th>\n",
              "      <th>response_url</th>\n",
              "      <th>sort_point_distance</th>\n",
              "      <th>published_at</th>\n",
              "      <th>created_at</th>\n",
              "      <th>...</th>\n",
              "      <th>address.metro.line_id</th>\n",
              "      <th>address.metro.lat</th>\n",
              "      <th>address.metro.lng</th>\n",
              "      <th>address</th>\n",
              "      <th>employer.logo_urls</th>\n",
              "      <th>salary</th>\n",
              "      <th>department.id</th>\n",
              "      <th>department.name</th>\n",
              "      <th>insider_interview.id</th>\n",
              "      <th>insider_interview.url</th>\n",
              "    </tr>\n",
              "  </thead>\n",
              "  <tbody>\n",
              "    <tr>\n",
              "      <th>0</th>\n",
              "      <td>74376536</td>\n",
              "      <td>False</td>\n",
              "      <td>Data scientist</td>\n",
              "      <td>NaN</td>\n",
              "      <td>False</td>\n",
              "      <td>False</td>\n",
              "      <td>None</td>\n",
              "      <td>None</td>\n",
              "      <td>2023-02-23T13:01:29+0300</td>\n",
              "      <td>2023-02-23T13:01:29+0300</td>\n",
              "      <td>...</td>\n",
              "      <td>NaN</td>\n",
              "      <td>NaN</td>\n",
              "      <td>NaN</td>\n",
              "      <td>NaN</td>\n",
              "      <td>NaN</td>\n",
              "      <td>NaN</td>\n",
              "      <td>NaN</td>\n",
              "      <td>NaN</td>\n",
              "      <td>NaN</td>\n",
              "      <td>NaN</td>\n",
              "    </tr>\n",
              "    <tr>\n",
              "      <th>1</th>\n",
              "      <td>74257661</td>\n",
              "      <td>False</td>\n",
              "      <td>Data scientist</td>\n",
              "      <td>NaN</td>\n",
              "      <td>False</td>\n",
              "      <td>False</td>\n",
              "      <td>None</td>\n",
              "      <td>None</td>\n",
              "      <td>2023-02-23T15:02:29+0300</td>\n",
              "      <td>2023-02-23T15:02:29+0300</td>\n",
              "      <td>...</td>\n",
              "      <td>133</td>\n",
              "      <td>55.7232</td>\n",
              "      <td>37.5038</td>\n",
              "      <td>NaN</td>\n",
              "      <td>NaN</td>\n",
              "      <td>NaN</td>\n",
              "      <td>NaN</td>\n",
              "      <td>NaN</td>\n",
              "      <td>NaN</td>\n",
              "      <td>NaN</td>\n",
              "    </tr>\n",
              "    <tr>\n",
              "      <th>2</th>\n",
              "      <td>76925483</td>\n",
              "      <td>False</td>\n",
              "      <td>Data Scientist</td>\n",
              "      <td>NaN</td>\n",
              "      <td>False</td>\n",
              "      <td>False</td>\n",
              "      <td>None</td>\n",
              "      <td>None</td>\n",
              "      <td>2023-02-25T14:31:00+0300</td>\n",
              "      <td>2023-02-25T14:31:00+0300</td>\n",
              "      <td>...</td>\n",
              "      <td>NaN</td>\n",
              "      <td>NaN</td>\n",
              "      <td>NaN</td>\n",
              "      <td>NaN</td>\n",
              "      <td>NaN</td>\n",
              "      <td>NaN</td>\n",
              "      <td>NaN</td>\n",
              "      <td>NaN</td>\n",
              "      <td>NaN</td>\n",
              "      <td>NaN</td>\n",
              "    </tr>\n",
              "    <tr>\n",
              "      <th>3</th>\n",
              "      <td>77208642</td>\n",
              "      <td>False</td>\n",
              "      <td>Data Scientist middle+/Senior</td>\n",
              "      <td>NaN</td>\n",
              "      <td>False</td>\n",
              "      <td>False</td>\n",
              "      <td>None</td>\n",
              "      <td>None</td>\n",
              "      <td>2023-02-23T12:06:39+0300</td>\n",
              "      <td>2023-02-23T12:06:39+0300</td>\n",
              "      <td>...</td>\n",
              "      <td>NaN</td>\n",
              "      <td>NaN</td>\n",
              "      <td>NaN</td>\n",
              "      <td>NaN</td>\n",
              "      <td>NaN</td>\n",
              "      <td>NaN</td>\n",
              "      <td>NaN</td>\n",
              "      <td>NaN</td>\n",
              "      <td>NaN</td>\n",
              "      <td>NaN</td>\n",
              "    </tr>\n",
              "    <tr>\n",
              "      <th>4</th>\n",
              "      <td>77223284</td>\n",
              "      <td>False</td>\n",
              "      <td>Аналитик данных (Data Scientist) / ML-разработчик</td>\n",
              "      <td>NaN</td>\n",
              "      <td>False</td>\n",
              "      <td>False</td>\n",
              "      <td>None</td>\n",
              "      <td>None</td>\n",
              "      <td>2023-02-23T15:00:20+0300</td>\n",
              "      <td>2023-02-23T15:00:20+0300</td>\n",
              "      <td>...</td>\n",
              "      <td>NaN</td>\n",
              "      <td>NaN</td>\n",
              "      <td>NaN</td>\n",
              "      <td>NaN</td>\n",
              "      <td>NaN</td>\n",
              "      <td>NaN</td>\n",
              "      <td>NaN</td>\n",
              "      <td>NaN</td>\n",
              "      <td>NaN</td>\n",
              "      <td>NaN</td>\n",
              "    </tr>\n",
              "  </tbody>\n",
              "</table>\n",
              "<p>5 rows × 69 columns</p>\n",
              "</div>"
            ],
            "text/plain": [
              "         id  premium                                               name  \\\n",
              "0  74376536    False                                     Data scientist   \n",
              "1  74257661    False                                     Data scientist   \n",
              "2  76925483    False                                     Data Scientist   \n",
              "3  77208642    False                      Data Scientist middle+/Senior   \n",
              "4  77223284    False  Аналитик данных (Data Scientist) / ML-разработчик   \n",
              "\n",
              "   department  has_test  response_letter_required response_url  \\\n",
              "0         NaN     False                     False         None   \n",
              "1         NaN     False                     False         None   \n",
              "2         NaN     False                     False         None   \n",
              "3         NaN     False                     False         None   \n",
              "4         NaN     False                     False         None   \n",
              "\n",
              "  sort_point_distance              published_at                created_at  \\\n",
              "0                None  2023-02-23T13:01:29+0300  2023-02-23T13:01:29+0300   \n",
              "1                None  2023-02-23T15:02:29+0300  2023-02-23T15:02:29+0300   \n",
              "2                None  2023-02-25T14:31:00+0300  2023-02-25T14:31:00+0300   \n",
              "3                None  2023-02-23T12:06:39+0300  2023-02-23T12:06:39+0300   \n",
              "4                None  2023-02-23T15:00:20+0300  2023-02-23T15:00:20+0300   \n",
              "\n",
              "   ...  address.metro.line_id address.metro.lat  address.metro.lng address  \\\n",
              "0  ...                    NaN               NaN                NaN     NaN   \n",
              "1  ...                    133           55.7232            37.5038     NaN   \n",
              "2  ...                    NaN               NaN                NaN     NaN   \n",
              "3  ...                    NaN               NaN                NaN     NaN   \n",
              "4  ...                    NaN               NaN                NaN     NaN   \n",
              "\n",
              "  employer.logo_urls salary department.id department.name  \\\n",
              "0                NaN    NaN           NaN             NaN   \n",
              "1                NaN    NaN           NaN             NaN   \n",
              "2                NaN    NaN           NaN             NaN   \n",
              "3                NaN    NaN           NaN             NaN   \n",
              "4                NaN    NaN           NaN             NaN   \n",
              "\n",
              "  insider_interview.id insider_interview.url  \n",
              "0                  NaN                   NaN  \n",
              "1                  NaN                   NaN  \n",
              "2                  NaN                   NaN  \n",
              "3                  NaN                   NaN  \n",
              "4                  NaN                   NaN  \n",
              "\n",
              "[5 rows x 69 columns]"
            ]
          },
          "execution_count": 7,
          "metadata": {},
          "output_type": "execute_result"
        }
      ],
      "source": [
        "df = pd.json_normalize(data['items'])\n",
        "df.head()"
      ]
    },
    {
      "cell_type": "markdown",
      "metadata": {
        "id": "TbtP-KN4feCt"
      },
      "source": [
        "Для получения полного описания вакансии потребуется задать отдельный запрос, используя ее `id`."
      ]
    },
    {
      "cell_type": "code",
      "execution_count": null,
      "metadata": {
        "id": "OQOAxOzgfeCu"
      },
      "outputs": [],
      "source": [
        "vacancy = df['id'].iloc[0]\n",
        "vacancy_url = f'https://api.hh.ru/vacancies/{vacancy}'\n",
        "\n",
        "req = requests.get(vacancy_url)\n",
        "vacancy_info = json.loads(req.content.decode())"
      ]
    },
    {
      "cell_type": "code",
      "execution_count": null,
      "metadata": {
        "id": "BBwg47-mfeCu",
        "scrolled": false
      },
      "outputs": [],
      "source": [
        "vacancy_info"
      ]
    },
    {
      "cell_type": "markdown",
      "metadata": {
        "id": "3FvTvGvJfeCu"
      },
      "source": [
        "### <font color=\"blue\"><i>Легкая часть</i></font>"
      ]
    },
    {
      "cell_type": "markdown",
      "metadata": {
        "id": "UWhw4yg0feCv"
      },
      "source": [
        " ---\n",
        "### Задача 1.   \n",
        "\n",
        "Исследуем профессию Data Scientist. Найдите как можно больше вакансий по этой профессии в Москве. Учтите, что имеет смысл искать также по другим ключевым словам, например, `аналитик данных`.\n",
        "\n",
        "---\n",
        "\n"
      ]
    },
    {
      "cell_type": "markdown",
      "metadata": {
        "id": "2Li4t2X9LEFO"
      },
      "source": [
        "Функция скраппинга по названию вакансии"
      ]
    },
    {
      "cell_type": "code",
      "execution_count": null,
      "metadata": {
        "id": "X1-UQH12K6H5"
      },
      "outputs": [],
      "source": [
        "def set_params(profession, page, per_page, period):\n",
        "  return {\n",
        "    'text': profession,\n",
        "    'area': 1,\n",
        "    'page': page,\n",
        "    'per_page': per_page,\n",
        "    'period': period,\n",
        "    'responses_count_enabled': True \n",
        "}\n",
        "\n",
        "def scrapping(profession, per_page, period):\n",
        "  req = requests.get(URL, set_params(profession, 0, per_page, period))\n",
        "  data = (json.loads(req.content.decode()))\n",
        "  sleep(0.5)\n",
        "  len_pages = data['pages'] + 1\n",
        "  \n",
        "  list_vacancy = [0]*(len_pages)\n",
        "  list_vacancy[0] = data\n",
        "\n",
        "  for i in range(1, len_pages):\n",
        "    req = requests.get(URL, set_params(profession, i, per_page, period))\n",
        "    data = (json.loads(req.content.decode()))\n",
        "    list_vacancy[i] = data\n",
        "    sleep(0.5)\n",
        "\n",
        "  return list_vacancy"
      ]
    },
    {
      "cell_type": "markdown",
      "metadata": {
        "id": "TpTqpJIHLWhn"
      },
      "source": [
        "Функция нормализации json-формата\n"
      ]
    },
    {
      "cell_type": "code",
      "execution_count": null,
      "metadata": {
        "id": "ueXTXB7-LYvn"
      },
      "outputs": [],
      "source": [
        "def normalizing_data(list_vacancy):\n",
        "  data = pd.json_normalize(list_vacancy[0]['items'])\n",
        "  len_pages = list_vacancy[0]['pages'] + 1\n",
        "  if (len_pages > 20):\n",
        "    len_pages = 20\n",
        "  for i in range(1, len_pages):\n",
        "    data = data.append(pd.json_normalize(list_vacancy[i]['items']), ignore_index=True)\n",
        "  return data"
      ]
    },
    {
      "cell_type": "markdown",
      "metadata": {
        "id": "nUtyLhM4LMvn"
      },
      "source": [
        "Соберем информацию с API"
      ]
    },
    {
      "cell_type": "code",
      "execution_count": null,
      "metadata": {
        "id": "KxC8j9iOfeCv"
      },
      "outputs": [],
      "source": [
        "URL = 'https://api.hh.ru/vacancies'\n",
        "\n",
        "#Листы с результатами скраппинга\n",
        "list_DS = scrapping(\"Data scientist\", 100, 30)\n",
        "list_DS_short = scrapping(\"DS\", 100, 30)\n",
        "\n",
        "list_DA = scrapping(\"Data analyst\", 100, 30)\n",
        "list_DA_rus = scrapping(\"Аналитик данных\", 100, 30)\n",
        "\n",
        "#Dataframes после json-нормализации\n",
        "data_DS = normalizing_data(list_DS)\n",
        "data_DS_short = normalizing_data(list_DS_short)\n",
        "\n",
        "data_DA = normalizing_data(list_DA)\n",
        "data_DA_rus= normalizing_data(list_DA_rus)\n",
        "\n",
        "#Собираем все в один DataFrame\n",
        "data = data_DS.append(data_DA)\n",
        "data = data.append(data_DS_short)\n",
        "data = data.append(data_DA_rus)"
      ]
    },
    {
      "cell_type": "markdown",
      "metadata": {
        "id": "meG5WU8pfeCv"
      },
      "source": [
        "В полученную выборку некоторые вакансии могли попасть несколько раз. Удалите дубликаты."
      ]
    },
    {
      "cell_type": "code",
      "execution_count": null,
      "metadata": {
        "id": "55CJE37pfeCv"
      },
      "outputs": [],
      "source": [
        "data.drop_duplicates(subset = 'id', inplace = True)"
      ]
    },
    {
      "cell_type": "markdown",
      "metadata": {
        "id": "pS4Nha_0feCv"
      },
      "source": [
        "Загрузите подробное описание каждой вакансии и создайте удобную для дальнейших действий таблицу данных.\n",
        "\n",
        "---\n",
        "\n"
      ]
    },
    {
      "cell_type": "markdown",
      "metadata": {
        "id": "CLjo7fGcMKqp"
      },
      "source": [
        "Функция скраппинга подробной информации о вакансии"
      ]
    },
    {
      "cell_type": "code",
      "execution_count": 105,
      "metadata": {
        "id": "-mzoemFrMJze"
      },
      "outputs": [],
      "source": [
        "def detail_vac(df):\n",
        "\n",
        "  list_detail_vac = [0]*len(df)\n",
        "\n",
        "  for i in range(len(df)):\n",
        "    if i%50 == 0:\n",
        "      print(i)\n",
        "    vacancy = df['id'].iloc[i]\n",
        "    vacancy_url = f'https://api.hh.ru/vacancies/{vacancy}'\n",
        "    req = requests.get(vacancy_url)\n",
        "    vacancy_info = json.loads(req.content.decode())\n",
        "    list_detail_vac[i] = vacancy_info\n",
        "    sleep(0.5)\n",
        "  return list_detail_vac"
      ]
    },
    {
      "cell_type": "markdown",
      "metadata": {
        "id": "_raVqT6SMTnX"
      },
      "source": [
        "Функция json-нормализации"
      ]
    },
    {
      "cell_type": "code",
      "execution_count": 85,
      "metadata": {
        "id": "lx-XHw66MHja"
      },
      "outputs": [],
      "source": [
        "def normalizing_detail_data(list_vacancy):\n",
        "  data = pd.json_normalize(list_vacancy[0])\n",
        "  for i in range(1, len(list_vacancy)):\n",
        "    data = data.append(pd.json_normalize(list_vacancy[i]), ignore_index=True)\n",
        "  return data"
      ]
    },
    {
      "cell_type": "code",
      "execution_count": null,
      "metadata": {
        "id": "iik_f3GgfeCv"
      },
      "outputs": [],
      "source": [
        "lst = detail_vac(data)\n",
        "detail_data = normalizing_detail_data(lst)\n",
        "\n",
        "detail_data = detail_data[['id', 'name', 'key_skills', 'salary.from', 'salary.to',\n",
        "       'salary.currency', 'salary.gross', 'address.city', 'address.street', 'address.building', 'address.lat',\n",
        "       'address.lng', 'address.description', 'address.raw', 'address.metro',\n",
        "       'address.metro_stations', 'experience.id', 'experience.name']]"
      ]
    },
    {
      "cell_type": "markdown",
      "metadata": {
        "id": "fnvGrrY-feCv"
      },
      "source": [
        "**Полученную таблицу необходимо сохранить в формате xlsx и отправить боту вместе с решением.**"
      ]
    },
    {
      "cell_type": "code",
      "execution_count": null,
      "metadata": {
        "id": "LzLmlgimjxpX"
      },
      "outputs": [],
      "source": [
        "detail_data.to_excel(\"DS_detail_Data.xlsx\")"
      ]
    },
    {
      "cell_type": "markdown",
      "metadata": {
        "id": "fY2JMtQIfeCw"
      },
      "source": [
        "**Вопрос 1.** Сколько сейчас доступно вакансий по вашему запросу?"
      ]
    },
    {
      "cell_type": "code",
      "execution_count": null,
      "metadata": {
        "colab": {
          "base_uri": "https://localhost:8080/"
        },
        "id": "GTnNmlxyfeCw",
        "outputId": "e311b56f-4c0c-4855-a5d5-db94fa8e780a"
      },
      "outputs": [
        {
          "name": "stdout",
          "output_type": "stream",
          "text": [
            "3451\n"
          ]
        }
      ],
      "source": [
        "#Сохраним df с подробными вакансиями в csv, т.к. он долго выгружается\n",
        "detail_data.to_csv(\"DS detail data.csv\", encoding='utf-8', index=False)\n",
        "\n",
        "print(len(detail_data))"
      ]
    },
    {
      "cell_type": "markdown",
      "metadata": {
        "id": "lyeCpzFWfeCw"
      },
      "source": [
        "**Вопрос 2.** Какие навыки чаще всего встречаются в вакансиях по данной специальности?\n",
        "\n",
        "Для этого найдите соответствующее поле в данных из полного описания вакансий, проанализируйте его и составьте список навыков и количество упоминаний каждого. Визуализируйте полученную информацию по топ-15 навыков."
      ]
    },
    {
      "cell_type": "code",
      "execution_count": null,
      "metadata": {
        "id": "Lag0Ud55NI7p"
      },
      "outputs": [],
      "source": [
        "def popular_skills(detail_data):\n",
        "  map = dict()\n",
        "  data = detail_data.copy()\n",
        "  data = data.dropna(subset=['key_skills'])\n",
        "  for ind in data.index:\n",
        "    for i in range(len(data['key_skills'][ind])):\n",
        "      skill = data['key_skills'][ind][i]['name']\n",
        "      map[skill] = map.get(skill, 0) + 1\n",
        "  map = dict(sorted(map.items(), key=lambda item: item[1], reverse=True))\n",
        "  skills = pd.DataFrame(map.items())\n",
        "  skills.columns = ['Навыки', 'Частота']\n",
        "\n",
        "  return skills"
      ]
    },
    {
      "cell_type": "code",
      "execution_count": null,
      "metadata": {
        "colab": {
          "base_uri": "https://localhost:8080/",
          "height": 364
        },
        "id": "rWr4J6n6feCw",
        "outputId": "ff8d7a17-029d-4ba3-c175-479e2fbb6cec"
      },
      "outputs": [
        {
          "data": {
            "image/png": "[encoded data removed]",
            "text/plain": [
              "<Figure size 648x360 with 1 Axes>"
            ]
          },
          "metadata": {},
          "output_type": "display_data"
        }
      ],
      "source": [
        "skills = popular_skills(detail_data)\n",
        "\n",
        "with sns.axes_style('whitegrid'):\n",
        "    plt.figure(figsize=(9, 5))\n",
        "    sns.barplot(data=skills.head(15), y='Навыки', x='Частота')\n",
        "    plt.title(\"Частота встречаемости необходимых навыков\")"
      ]
    },
    {
      "cell_type": "markdown",
      "metadata": {
        "id": "i8Be_JoLfeCw"
      },
      "source": [
        "**Вопрос 3.** Какую зарплату готовы платить работодатели? Соберите некоторым образом статистику и постройте гистограмму.\n",
        "\n",
        "При работе с данными о заработной плате обратите внимание на валюту и <a target=\"_blank\" href=\"https://yandex.ru/search/?text=gross%2Fnet&clid=1955455&win=446&lr=213&noreask=1\">gross/net</a>. Постоянно подгружать курс валюты не требуется, достаточно фиксировать какой-то один более менее актуальный."
      ]
    },
    {
      "cell_type": "code",
      "execution_count": null,
      "metadata": {
        "id": "t9uZaqhWyi09"
      },
      "outputs": [],
      "source": [
        "def gross_currency_clean(detail_data):\n",
        "  EUR_currency = 0.01247\n",
        "  USD_currency = 0.01325\n",
        "  data = detail_data.copy()\n",
        "\n",
        "  nan_from_lst = data['salary.from'].isna()\n",
        "  nan_to_lst = data['salary.to'].isna()\n",
        "\n",
        "  for ind in data.index:\n",
        "    if (nan_from_lst[ind]):\n",
        "      if (nan_to_lst[ind]):\n",
        "        continue\n",
        "      else:\n",
        "        data['salary.from'][ind] = data['salary.to'][ind]\n",
        "    else:\n",
        "      if not(nan_to_lst[ind]):\n",
        "        data['salary.from'][ind] = (data['salary.from'][ind] + \n",
        "                                    data['salary.to'][ind])/2\n",
        "\n",
        "    if (data['salary.gross'][ind] == True):\n",
        "      data['salary.gross'][ind] = False\n",
        "      data['salary.from'][ind] *= 0.87\n",
        "    \n",
        "    if (data['salary.currency'][ind] == 'USD'):\n",
        "      data['salary.from'][ind] *= USD_currency\n",
        "\n",
        "    if (data['salary.currency'][ind] == 'EUR'):\n",
        "      data['salary.from'][ind] *= EUR_currency\n",
        "    \n",
        "  data = data.dropna(subset=['salary.from'])\n",
        "\n",
        "  return data"
      ]
    },
    {
      "cell_type": "code",
      "execution_count": null,
      "metadata": {
        "colab": {
          "base_uri": "https://localhost:8080/",
          "height": 363
        },
        "id": "a5cerLdwkKtE",
        "outputId": "b5d9037d-87d9-447c-a933-c96930c183d1"
      },
      "outputs": [
        {
          "data": {
            "image/png": "[encoded data removed]",
            "text/plain": [
              "<Figure size 648x360 with 1 Axes>"
            ]
          },
          "metadata": {},
          "output_type": "display_data"
        }
      ],
      "source": [
        "normalized_salary = gross_currency_clean(detail_data)\n",
        "\n",
        "with sns.axes_style('whitegrid'):\n",
        "    plt.figure(figsize=(9, 5))\n",
        "    sns.histplot(data=normalized_salary, x='salary.from')\n",
        "    plt.xlabel('Средняя зарплата')\n",
        "    plt.ylabel('Частота')\n",
        "    plt.title('Гистограмма средней зарплаты по вакансиям Data Scientist')"
      ]
    },
    {
      "cell_type": "markdown",
      "metadata": {
        "id": "9MFxdgkPfeCw"
      },
      "source": [
        "Проведите аналогичный анализ для наиболее привлекательной для вас профессии в любом регионе. Если это Data Scientist, то для анализа выберите другую. В данном пункте спокойно можно сделать копипасту кода.\n",
        "\n",
        "Исследуем вакансии профессии \"Java-разработчик\"\n",
        "\n",
        "---\n",
        "\n"
      ]
    },
    {
      "cell_type": "markdown",
      "metadata": {
        "id": "uVcr1RxPffuu"
      },
      "source": [
        "Соберем информацию с API"
      ]
    },
    {
      "cell_type": "code",
      "execution_count": null,
      "metadata": {
        "id": "QfjBUW9vffvJ"
      },
      "outputs": [],
      "source": [
        "URL = 'https://api.hh.ru/vacancies'\n",
        "\n",
        "#Листы с результатами скраппинга\n",
        "list_JD = scrapping(\"Java developer\", 100, 30)\n",
        "\n",
        "list_JD_rus = scrapping(\"Java разработчик\", 100, 30)\n",
        "list_JD_rus_old = scrapping(\"Java программист\", 100, 30)\n",
        "\n",
        "#Dataframes после json-нормализации\n",
        "data_JD = normalizing_data(list_JD)\n",
        "data_JD_rus = normalizing_data(list_JD_rus)\n",
        "data_JD_rus_old = normalizing_data(list_JD_rus_old)\n",
        "\n",
        "\n",
        "#Собираем все в один DataFrame\n",
        "data = data_JD.append(data_JD_rus)\n",
        "data = data.append(data_JD_rus_old)"
      ]
    },
    {
      "cell_type": "markdown",
      "metadata": {
        "id": "7cEBfTDQffvK"
      },
      "source": [
        "В полученную выборку некоторые вакансии могли попасть несколько раз. Удалим дубликаты."
      ]
    },
    {
      "cell_type": "code",
      "execution_count": null,
      "metadata": {
        "id": "NjcgiL-cffvL"
      },
      "outputs": [],
      "source": [
        "data.drop_duplicates(subset = 'id', inplace = True)"
      ]
    },
    {
      "cell_type": "markdown",
      "metadata": {
        "id": "Ag6BHvr4fhq0"
      },
      "source": [
        "Выгрузим подробное описание каждой найденной вакансии"
      ]
    },
    {
      "cell_type": "code",
      "execution_count": null,
      "metadata": {
        "id": "S0yi2QNyffvL"
      },
      "outputs": [],
      "source": [
        "lst = detail_vac(data)\n",
        "detail_java_data = normalizing_detail_data(lst)\n",
        "data = data.reset_index()\n",
        "detail_java_data['counters.responses'] = data['counters.responses']\n",
        "detail_java_data = detail_java_data[['id', 'name', 'key_skills', 'salary.from', 'salary.to',\n",
        "       'salary.currency', 'salary.gross', 'address.city', 'address.street', 'address.building', 'address.lat',\n",
        "       'address.lng', 'address.description', 'address.raw', 'address.metro',\n",
        "       'address.metro_stations', 'experience.id', 'experience.name', 'employer.name', 'counters.responses']]\n"
      ]
    },
    {
      "cell_type": "markdown",
      "metadata": {
        "id": "TJjd_bBJmgpn"
      },
      "source": [
        "**Полученную таблицу необходимо сохранить в формате xlsx и отправить боту вместе с решением.**"
      ]
    },
    {
      "cell_type": "code",
      "execution_count": 130,
      "metadata": {
        "id": "kd9cHvbyk8E0"
      },
      "outputs": [],
      "source": [
        "detail_java_data.to_excel(\"Java_detail_Data.xlsx\")"
      ]
    },
    {
      "cell_type": "markdown",
      "metadata": {
        "id": "dNE1VB9DmgqD"
      },
      "source": [
        "**Вопрос 1.** Сколько сейчас доступно вакансий по вашему запросу?"
      ]
    },
    {
      "cell_type": "code",
      "execution_count": null,
      "metadata": {
        "colab": {
          "base_uri": "https://localhost:8080/"
        },
        "id": "1a2aj-BXmgqE",
        "outputId": "d4509e4d-e552-45e5-b81c-b197edf0b9ee"
      },
      "outputs": [
        {
          "name": "stdout",
          "output_type": "stream",
          "text": [
            "2481\n"
          ]
        }
      ],
      "source": [
        "detail_java_data.to_csv(\"Java detail data.csv\", encoding='utf-8', index=False)\n",
        "print(len(detail_java_data))"
      ]
    },
    {
      "cell_type": "markdown",
      "metadata": {
        "id": "77--9KdImgqE"
      },
      "source": [
        "**Вопрос 2.** Какие навыки чаще всего встречаются в вакансиях по данной специальности?\n",
        "\n",
        "Для этого найдите соответствующее поле в данных из полного описания вакансий, проанализируйте его и составьте список навыков и количество упоминаний каждого. Визуализируйте полученную информацию по топ-15 навыков."
      ]
    },
    {
      "cell_type": "code",
      "execution_count": null,
      "metadata": {
        "colab": {
          "base_uri": "https://localhost:8080/",
          "height": 364
        },
        "id": "MIxGgqH2mgqG",
        "outputId": "c7a887dc-6d95-49a4-f7c2-1ca062cd34f2"
      },
      "outputs": [
        {
          "data": {
            "image/png": "[encoded data removed]",
            "text/plain": [
              "<Figure size 648x360 with 1 Axes>"
            ]
          },
          "metadata": {},
          "output_type": "display_data"
        }
      ],
      "source": [
        "#detail_data = pd.read_csv('FINAL data hhru.csv')\n",
        "\n",
        "skills = popular_skills(detail_java_data)\n",
        "\n",
        "with sns.axes_style('whitegrid'):\n",
        "    plt.figure(figsize=(9, 5))\n",
        "    sns.barplot(data=skills.head(15), y='Навыки', x='Частота')\n",
        "    plt.title(\"Частота встречаемости необходимых навыков\")"
      ]
    },
    {
      "cell_type": "markdown",
      "metadata": {
        "id": "9CbSSxz0mgqH"
      },
      "source": [
        "**Вопрос 3.** Какую зарплату готовы платить работодатели? Соберите некоторым образом статистику и постройте гистограмму.\n",
        "\n",
        "При работе с данными о заработной плате обратите внимание на валюту и <a target=\"_blank\" href=\"https://yandex.ru/search/?text=gross%2Fnet&clid=1955455&win=446&lr=213&noreask=1\">gross/net</a>. Постоянно подгружать курс валюты не требуется, достаточно фиксировать какой-то один более менее актуальный."
      ]
    },
    {
      "cell_type": "code",
      "execution_count": null,
      "metadata": {
        "colab": {
          "base_uri": "https://localhost:8080/",
          "height": 364
        },
        "id": "TyGad2FLmgqI",
        "outputId": "3a20747c-9d69-410b-f728-cd4f24c57e10"
      },
      "outputs": [
        {
          "data": {
            "image/png": "[encoded data removed]",
            "text/plain": [
              "<Figure size 648x360 with 1 Axes>"
            ]
          },
          "metadata": {},
          "output_type": "display_data"
        }
      ],
      "source": [
        "normalized_salary = gross_currency_clean(detail_java_data)\n",
        "\n",
        "with sns.axes_style('whitegrid'):\n",
        "    plt.figure(figsize=(9, 5))\n",
        "    sns.histplot(data=normalized_salary, x='salary.from')\n",
        "    plt.xlabel('Средняя зарплата')\n",
        "    plt.ylabel('Частота')\n",
        "    plt.title('Гистограмма средней зарплаты по вакансиям Java разработчик')"
      ]
    },
    {
      "cell_type": "markdown",
      "metadata": {
        "id": "MuzwTithfeCx"
      },
      "source": [
        "**Выводы.**\n",
        "\n",
        "*По графикам необходимых навыков*:\n",
        "\n",
        "Из графика для вакансий \"Data Scientist\" (DS) можно увидеть, что большинство умений в топ-15 имеют не технологический характер, а аналитический. Чаще всего требуют знать Python и SQL - логично, ведь нужно работать с данными. Можно увидеть требования знания английского, т.к. большая чась технической литературы и статей именно на нем. На фоне этого очень интересно наблюдать за таким же графиком по вакансиям Java developer (JD). Там встречаются исключительно требования к стеку кандидата - Java, Postgre, git и так далее. Можно сделать выводы, что думать на этой должности надо меньше, но иметь большой прикладной опыт и обширные знания.\n",
        "\n",
        "*По графикам средней зарплаты*:\n",
        "\n",
        "Здесь можно заметить, что самая частая предлагаемая ставка у Java разработчика выше, чем у Data Scientist(190.000 против 100.000), как и максимальная зп (800.000 против 500.000). Во второй части задания можно будет ответить, чем вызван такой разрыв. \n",
        "\n",
        "Впрочем стоит заметить, что для DS пик ставки по частоте в 100.000 гораздо более явный, чем для JD - отличия почти в два раза. \n",
        "Это говорит о следующем: шанс встретить ставку в 100к у DS гораздо выше, чем ставку в 190к у JD "
      ]
    },
    {
      "cell_type": "markdown",
      "metadata": {
        "id": "umj5R-qlfeCx"
      },
      "source": [
        "\n",
        "---\n",
        "### <font color=\"orange\"><i>Сложная часть</i></font>\n",
        "\n",
        "### Задача 2.   \n",
        "\n",
        "Для *одной* из рассмотренных ранее профессий ответьте на следующие вопросы:  \n",
        "- Какой опыт требуется для данной вакансии?\n",
        "- Какие работодатели в топе? \n",
        "- В каком районе Москвы данная вакансия пользуется наибольшим и наименьшим спросом?\n",
        "\n",
        "Не забудьте про визуализацию, в частности, постройте распределений вакансий на карте.\n",
        "\n",
        "*Напоминание.* Работа в некоторой степени творческая, поэтому конкретные детали решения в основном остаются на усмотрение автора решения.\n"
      ]
    },
    {
      "cell_type": "markdown",
      "metadata": {
        "id": "WHvWvTXPy7rr"
      },
      "source": [
        "**Задание №1** Какой опыт требуется для вакансии Java developer?"
      ]
    },
    {
      "cell_type": "code",
      "execution_count": null,
      "metadata": {
        "id": "o23998fPfeCx"
      },
      "outputs": [],
      "source": [
        "def experience(detail_data):\n",
        "  map = dict()\n",
        "  data = detail_data.copy()\n",
        "  data.is_copy = False\n",
        "\n",
        "  data = data.dropna(subset=['experience.id'])\n",
        "  for ind in data.index:\n",
        "    exp = data['experience.id'][ind]\n",
        "    map[exp] = map.get(exp, 0) + 1\n",
        "\n",
        "  map = dict(sorted(map.items(), key=lambda item: item[1], reverse=True))\n",
        "  experience = pd.DataFrame(map.items())\n",
        "  experience.columns = ['Требуемый опыт', 'Частота']\n",
        "\n",
        "  experience.loc[experience['Требуемый опыт'] == 'between1And3', 'Требуемый опыт'] = 'От 1 до 3 лет'\n",
        "  experience.loc[experience['Требуемый опыт'] == 'between3And6', 'Требуемый опыт'] = 'От 3 до 6 лет'\n",
        "  experience.loc[experience['Требуемый опыт'] == 'moreThan6', 'Требуемый опыт'] = 'Больше 6 лет'\n",
        "  experience.loc[experience['Требуемый опыт'] == 'noExperience', 'Требуемый опыт'] = 'Без опыта'\n",
        "\n",
        "  return experience"
      ]
    },
    {
      "cell_type": "code",
      "execution_count": null,
      "metadata": {
        "colab": {
          "base_uri": "https://localhost:8080/",
          "height": 364
        },
        "id": "X0dyftE2IVtK",
        "outputId": "bfc1a526-4844-4277-86fb-c071ec5fdaf7"
      },
      "outputs": [
        {
          "data": {
            "image/png": "[encoded data removed]",
            "text/plain": [
              "<Figure size 648x360 with 1 Axes>"
            ]
          },
          "metadata": {},
          "output_type": "display_data"
        }
      ],
      "source": [
        "java_data_from_csv = pd.read_csv('Java detail data.csv')\n",
        "\n",
        "java_data_from_csv['experience.id'].unique()\n",
        "\n",
        "exp = experience(java_data_from_csv)\n",
        "with sns.axes_style('whitegrid'):\n",
        "    plt.figure(figsize=(9, 5))\n",
        "    sns.barplot(data=exp, y='Требуемый опыт', x='Частота')\n",
        "    plt.title(\"Статистика по требуемому опыту работы JavaDev\")"
      ]
    },
    {
      "cell_type": "markdown",
      "source": [
        "**Задание №2** Какие работодатели в топе?\n",
        "\n",
        "Будем считать, что работодатель в топе, если количество откликов на вакансию максимально. Найдем 15 таких компаний c помощью дополнительного поля counters.responses."
      ],
      "metadata": {
        "id": "DT2DExy3ybFX"
      }
    },
    {
      "cell_type": "code",
      "source": [
        "def max_response(data):\n",
        "  func = data.copy()\n",
        "  func = func.sort_values(by=['counters.responses'])\n",
        "  return func['employer.name'].head(15).to_list()\n",
        "print(max_response(detail_java_data))"
      ],
      "metadata": {
        "id": "uRVLcPHFzIN5",
        "colab": {
          "base_uri": "https://localhost:8080/"
        },
        "outputId": "3b14ab7d-5b08-4c39-e12d-141641b972be"
      },
      "execution_count": 129,
      "outputs": [
        {
          "output_type": "stream",
          "name": "stdout",
          "text": [
            "['Международный аэропорт Шереметьево', 'X5 Tech', 'Центр корпоративных решений', 'SberTech', 'ГКУ города Москвы Центр занятости населения города Москвы', 'МультиКарта', 'ЛАНИТ', 'СБЕР', 'R-Style Softlab (Эр-Стайл Софтлаб)', 'СИБУР, Группа компаний', '1С', 'FundCount', 'Иннотех, Группа компаний', 'Центр Орбита', 'МегаФон']\n"
          ]
        }
      ]
    },
    {
      "cell_type": "markdown",
      "metadata": {
        "id": "D-eytgRmT2tX"
      },
      "source": [
        "**Задание №3** В каком районе Москвы вакансия пользуется наибольшим и наименьшим спросом?\n",
        "\n",
        "Удалим пустые адреса и нанесем координаты на интерактивную карту. Файл прикреплен к готовой работе с названием rating_colors_java_map.html"
      ]
    },
    {
      "cell_type": "markdown",
      "metadata": {
        "id": "5ynIZePWL2S3"
      },
      "source": [
        "Проанализировав данные, можем понять, что если вакансия не имеет координат, следовательно, адрес ее не указан"
      ]
    },
    {
      "cell_type": "code",
      "execution_count": null,
      "metadata": {
        "id": "VIgMc9dyzuK6"
      },
      "outputs": [],
      "source": [
        "import folium\n",
        "\n",
        "#Удаляем пустые адреса\n",
        "java_data_from_csv_adress = java_data_from_csv.dropna(subset=['address.lat'])\n",
        "\n",
        "def color_change(elev):\n",
        "    if(0 <= elev <= 80000):\n",
        "        return('red')\n",
        "    elif(80000 <= elev < 250000):\n",
        "        return('yellow')\n",
        "    else:\n",
        "        return('green')\n",
        "\n",
        "MSC_loc = [55.7522, 37.6156]\n",
        "\n",
        "map = folium.Map(location = MSC_loc, zoom_start = 11)\n",
        "for ind in java_data_from_csv_adress.index:\n",
        "    folium.CircleMarker(location = [java_data_from_csv_adress['address.lat'][ind], java_data_from_csv_adress['address.lng'][ind]], \n",
        "                        radius = 0.5, color = color_change(java_data_from_csv_adress['salary.from'][ind]), opacity = 0.8).add_to(map)\n",
        "map.save(\"rating_colors_java_map.html\")"
      ]
    },
    {
      "cell_type": "markdown",
      "metadata": {
        "id": "1NIuj4ujfeCx"
      },
      "source": [
        "Какие выводы можно сделать из построенных графиков?\n",
        "\n",
        "**Задание №1**\n",
        "\n",
        "---\n",
        "\n",
        "Самыми востребованными специалистами на рынке труда являются разработчики с опытом от 3 до 6 лет, их называют Middle-разработчиками. Стажеров без опыта почти не ищут. Также весьма логичны данные о senior-специалистах с опытом свыше 6 лет: таких вакансий тоже немного, т.к. такие сотрудники стоят дорого и нечасто меняют место работы.\n",
        "\n",
        "**Задание №2**\n",
        "\n",
        "---\n",
        "\n",
        "В топе компаний по количеству откликов на вакансии находятся аэропорт Шереметьево, X5 group, СберТех и другие крупные корпорации. Также туда затесался центр занятости г. Москва, что логично, т.к. он публикует много открытых вакансий малых компаний. Также странным может показаться нахождение Шереметьево во главе этого списка, однако известно, что после изъятия коммерческой лицензии на немецкие ERP системы компании пришлось в срочном порядке нанимать большое количество Java разработчиков.\n",
        "\n",
        "**Задание №3**\n",
        "\n",
        "---\n",
        "\n",
        "\n",
        "\n",
        "Во-первых, подавляющее большинство компаний, ищущих Java-специалистов, находятся внутри МКАДа. \n",
        "\n",
        "Во-вторых, можно заметить три скопления вакансий. Самое крупное из них находится в Москве-Сити, что весьма логично, остальные можно заметить у Беларусского и Савеловского вокзалов.\n",
        "\n",
        "В третьих, подсветив точки на карте в зависимости от предлагаемой зарплаты, увидим, что высокие ставки распределены равномерно по всему центру. Однако чем дальше от центра, тем заметнее преобладание низких ставок з\\п над высокими."
      ]
    }
  ],
  "metadata": {
    "colab": {
      "collapsed_sections": [
        "nei5i6o9feCn"
      ],
      "provenance": []
    },
    "kernelspec": {
      "display_name": "Python 3",
      "language": "python",
      "name": "python3"
    },
    "language_info": {
      "codemirror_mode": {
        "name": "ipython",
        "version": 3
      },
      "file_extension": ".py",
      "mimetype": "text/x-python",
      "name": "python",
      "nbconvert_exporter": "python",
      "pygments_lexer": "ipython3",
      "version": "3.8.10"
    }
  },
  "nbformat": 4,
  "nbformat_minor": 0
}
